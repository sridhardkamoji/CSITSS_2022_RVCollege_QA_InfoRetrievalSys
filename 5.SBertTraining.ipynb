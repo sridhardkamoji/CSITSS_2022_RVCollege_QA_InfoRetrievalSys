{
 "cells": [
  {
   "cell_type": "markdown",
   "metadata": {},
   "source": [
    "## Sentence Transformers Finetuning"
   ]
  },
  {
   "cell_type": "markdown",
   "metadata": {},
   "source": [
    "ref: https://www.sbert.net/ <br>\n",
    "\n",
    "ref: https://www.sbert.net/docs/training/overview.html        "
   ]
  },
  {
   "cell_type": "markdown",
   "metadata": {},
   "source": [
    "Data Folder: https://drive.google.com/drive/folders/1Q9prRy02buQ09X5RDia-KMO1G19qPwws?usp=sharing"
   ]
  },
  {
   "cell_type": "code",
   "execution_count": 1,
   "metadata": {},
   "outputs": [],
   "source": [
    "from IPython.core.interactiveshell import InteractiveShell\n",
    "InteractiveShell.ast_node_interactivity = \"all\""
   ]
  },
  {
   "cell_type": "code",
   "execution_count": 5,
   "metadata": {},
   "outputs": [],
   "source": [
    "from sentence_transformers import InputExample, models, SentenceTransformer, losses\n",
    "from torch.utils.data import DataLoader\n",
    "from sentence_transformers.cross_encoder import CrossEncoder\n",
    "import pandas as pd\n",
    "import torch\n",
    "import random\n",
    "import ast\n",
    "\n",
    "import itertools\n",
    "\n",
    "import re\n",
    "import numpy as np\n",
    "import nltk\n",
    "import gc\n",
    "import datasets\n",
    "import pickle"
   ]
  },
  {
   "cell_type": "code",
   "execution_count": 3,
   "metadata": {},
   "outputs": [
    {
     "data": {
      "text/plain": [
       "True"
      ]
     },
     "execution_count": 3,
     "metadata": {},
     "output_type": "execute_result"
    }
   ],
   "source": [
    "torch.cuda.is_available()"
   ]
  },
  {
   "cell_type": "code",
   "execution_count": 6,
   "metadata": {},
   "outputs": [
    {
     "name": "stderr",
     "output_type": "stream",
     "text": [
      "Using custom data configuration fabiochiu--medium-articles-96791ff68926910d\n",
      "Reusing dataset csv (C:\\Users\\Sridhar Kamoji\\.cache\\huggingface\\datasets\\fabiochiu___csv\\fabiochiu--medium-articles-96791ff68926910d\\0.0.0\\652c3096f041ee27b04d2232d41f10547a8fecda3e284a79a0ec4053c916ef7a)\n"
     ]
    },
    {
     "data": {
      "application/vnd.jupyter.widget-view+json": {
       "model_id": "9f752925e29748a7a0ae835069145ebf",
       "version_major": 2,
       "version_minor": 0
      },
      "text/plain": [
       "  0%|          | 0/1 [00:00<?, ?it/s]"
      ]
     },
     "metadata": {},
     "output_type": "display_data"
    }
   ],
   "source": [
    "# Dataset Ref:\n",
    "# https://huggingface.co/datasets/fabiochiu/medium-articles\n",
    "data = datasets.load_dataset('fabiochiu/medium-articles', data_files= 'medium_articles.csv')\n",
    "\n",
    "# converting the dataset_dictionary object to pandas dataframe\n",
    "data = pd.DataFrame.from_dict(data['train'])"
   ]
  },
  {
   "cell_type": "code",
   "execution_count": 8,
   "metadata": {},
   "outputs": [],
   "source": [
    "data = data.sample(n = 5000, random_state=32)\n",
    "\n",
    "data.reset_index(drop = True, inplace = True)"
   ]
  },
  {
   "cell_type": "code",
   "execution_count": 14,
   "metadata": {},
   "outputs": [],
   "source": [
    "data['train_text'] = data['title'] + '. ' + data['text']"
   ]
  },
  {
   "cell_type": "code",
   "execution_count": 24,
   "metadata": {},
   "outputs": [],
   "source": [
    "data['train_text_sent_tokenized'] = [pd.DataFrame(nltk.sent_tokenize(txt), columns= ['Sentence_1']) for txt in data['train_text']]"
   ]
  },
  {
   "cell_type": "code",
   "execution_count": 34,
   "metadata": {
    "scrolled": true
   },
   "outputs": [],
   "source": [
    "dt_list = []\n",
    "for dt in data['train_text_sent_tokenized']:\n",
    "    dt['Sentence_2'] = dt['Sentence_1'].shift(-1)\n",
    "    dt_list.append(dt)"
   ]
  },
  {
   "cell_type": "code",
   "execution_count": 57,
   "metadata": {},
   "outputs": [],
   "source": [
    "# [dt.dropna(inplace = True) for dt in dt_list]\n",
    "sent_pair_df = pd.concat(dt_list)"
   ]
  },
  {
   "cell_type": "code",
   "execution_count": 58,
   "metadata": {},
   "outputs": [
    {
     "data": {
      "text/plain": [
       "(216472, 2)"
      ]
     },
     "execution_count": 58,
     "metadata": {},
     "output_type": "execute_result"
    }
   ],
   "source": [
    "sent_pair_df.shape"
   ]
  },
  {
   "cell_type": "code",
   "execution_count": 59,
   "metadata": {},
   "outputs": [],
   "source": [
    "sent_pair_df = sent_pair_df.sample(n = 40000, random_state=32)"
   ]
  },
  {
   "cell_type": "code",
   "execution_count": 41,
   "metadata": {
    "scrolled": true
   },
   "outputs": [],
   "source": [
    "cross_en = CrossEncoder(\"pinecone/bert-mrpc-cross-encoder\")"
   ]
  },
  {
   "cell_type": "code",
   "execution_count": 60,
   "metadata": {},
   "outputs": [],
   "source": [
    "scores = cross_en.predict(list(zip(sent_pair_df['Sentence_1'].tolist(), sent_pair_df['Sentence_2'].tolist())))"
   ]
  },
  {
   "cell_type": "code",
   "execution_count": 61,
   "metadata": {},
   "outputs": [],
   "source": [
    "sent_pair_df['CrossEncScores'] = scores"
   ]
  },
  {
   "cell_type": "code",
   "execution_count": 62,
   "metadata": {},
   "outputs": [
    {
     "data": {
      "text/html": [
       "<div>\n",
       "<style scoped>\n",
       "    .dataframe tbody tr th:only-of-type {\n",
       "        vertical-align: middle;\n",
       "    }\n",
       "\n",
       "    .dataframe tbody tr th {\n",
       "        vertical-align: top;\n",
       "    }\n",
       "\n",
       "    .dataframe thead th {\n",
       "        text-align: right;\n",
       "    }\n",
       "</style>\n",
       "<table border=\"1\" class=\"dataframe\">\n",
       "  <thead>\n",
       "    <tr style=\"text-align: right;\">\n",
       "      <th></th>\n",
       "      <th>Sentence_1</th>\n",
       "      <th>Sentence_2</th>\n",
       "      <th>CrossEncScores</th>\n",
       "    </tr>\n",
       "  </thead>\n",
       "  <tbody>\n",
       "    <tr>\n",
       "      <th>39</th>\n",
       "      <td>Devote ample reading time outside the textbooks.</td>\n",
       "      <td>TangoRisto (iOS/Google Play) and Satori Reader...</td>\n",
       "      <td>0.153791</td>\n",
       "    </tr>\n",
       "    <tr>\n",
       "      <th>116</th>\n",
       "      <td>I was also lucky enough to see him live at my ...</td>\n",
       "      <td>However, I didn’t care for his major label deb...</td>\n",
       "      <td>0.175978</td>\n",
       "    </tr>\n",
       "    <tr>\n",
       "      <th>1</th>\n",
       "      <td>The remains of an ancient fortress dating back...</td>\n",
       "      <td>The historical ruins were found in Rivi area i...</td>\n",
       "      <td>0.442764</td>\n",
       "    </tr>\n",
       "    <tr>\n",
       "      <th>17</th>\n",
       "      <td>I got first-hand experience working in an emer...</td>\n",
       "      <td>That’s also where I met my wife.</td>\n",
       "      <td>0.264968</td>\n",
       "    </tr>\n",
       "    <tr>\n",
       "      <th>189</th>\n",
       "      <td>By the end of 2010, both the JTSB and NTSB had...</td>\n",
       "      <td>Were MD-11 pilots losing their touch?</td>\n",
       "      <td>0.182762</td>\n",
       "    </tr>\n",
       "  </tbody>\n",
       "</table>\n",
       "</div>"
      ],
      "text/plain": [
       "                                            Sentence_1  \\\n",
       "39    Devote ample reading time outside the textbooks.   \n",
       "116  I was also lucky enough to see him live at my ...   \n",
       "1    The remains of an ancient fortress dating back...   \n",
       "17   I got first-hand experience working in an emer...   \n",
       "189  By the end of 2010, both the JTSB and NTSB had...   \n",
       "\n",
       "                                            Sentence_2  CrossEncScores  \n",
       "39   TangoRisto (iOS/Google Play) and Satori Reader...        0.153791  \n",
       "116  However, I didn’t care for his major label deb...        0.175978  \n",
       "1    The historical ruins were found in Rivi area i...        0.442764  \n",
       "17                    That’s also where I met my wife.        0.264968  \n",
       "189              Were MD-11 pilots losing their touch?        0.182762  "
      ]
     },
     "execution_count": 62,
     "metadata": {},
     "output_type": "execute_result"
    }
   ],
   "source": [
    "sent_pair_df.head()"
   ]
  },
  {
   "cell_type": "code",
   "execution_count": 63,
   "metadata": {},
   "outputs": [
    {
     "data": {
      "text/plain": [
       "<matplotlib.axes._subplots.AxesSubplot at 0x25baa212c40>"
      ]
     },
     "execution_count": 63,
     "metadata": {},
     "output_type": "execute_result"
    },
    {
     "data": {
      "image/png": "[encoded data removed]",
      "text/plain": [
       "<Figure size 432x288 with 1 Axes>"
      ]
     },
     "metadata": {
      "needs_background": "light"
     },
     "output_type": "display_data"
    }
   ],
   "source": [
    "sent_pair_df['CrossEncScores'].plot(kind = 'hist', bins=  50)"
   ]
  },
  {
   "cell_type": "code",
   "execution_count": 64,
   "metadata": {},
   "outputs": [],
   "source": [
    "sent_pair_df.to_csv('MediumArticlesSentencePairs.csv')"
   ]
  },
  {
   "cell_type": "code",
   "execution_count": 65,
   "metadata": {},
   "outputs": [
    {
     "data": {
      "text/plain": [
       "(1189, 3)"
      ]
     },
     "execution_count": 65,
     "metadata": {},
     "output_type": "execute_result"
    }
   ],
   "source": [
    "sent_pair_df[sent_pair_df['CrossEncScores'] >= 0.5].shape"
   ]
  },
  {
   "cell_type": "code",
   "execution_count": 66,
   "metadata": {},
   "outputs": [],
   "source": [
    "sent_pair_df = sent_pair_df[sent_pair_df['CrossEncScores'] >= 0.5]"
   ]
  },
  {
   "cell_type": "code",
   "execution_count": 68,
   "metadata": {},
   "outputs": [],
   "source": [
    "from sklearn.model_selection import train_test_split"
   ]
  },
  {
   "cell_type": "code",
   "execution_count": 72,
   "metadata": {},
   "outputs": [],
   "source": [
    "nbins = 50\n",
    "bins = np.linspace(0, 1, nbins)\n",
    "\n",
    "y_binned = np.digitize(sent_pair_df['CrossEncScores'], bins)\n",
    "\n",
    "X_train, X_val, y_train, y_val = train_test_split(sent_pair_df[['Sentence_1','Sentence_2']], sent_pair_df['CrossEncScores'], \n",
    "                                                  test_size=0.1, stratify=y_binned)"
   ]
  },
  {
   "cell_type": "code",
   "execution_count": 73,
   "metadata": {},
   "outputs": [],
   "source": [
    "train_data = pd.concat([X_train, y_train], axis=1)\n",
    "val_data = pd.concat([X_val, y_val], axis=1)"
   ]
  },
  {
   "cell_type": "code",
   "execution_count": 75,
   "metadata": {},
   "outputs": [
    {
     "data": {
      "text/plain": [
       "(1189, 3)"
      ]
     },
     "execution_count": 75,
     "metadata": {},
     "output_type": "execute_result"
    },
    {
     "data": {
      "text/plain": [
       "(1070, 3)"
      ]
     },
     "execution_count": 75,
     "metadata": {},
     "output_type": "execute_result"
    },
    {
     "data": {
      "text/plain": [
       "(119, 3)"
      ]
     },
     "execution_count": 75,
     "metadata": {},
     "output_type": "execute_result"
    }
   ],
   "source": [
    "sent_pair_df.shape\n",
    "train_data.shape\n",
    "val_data.shape"
   ]
  },
  {
   "cell_type": "code",
   "execution_count": 78,
   "metadata": {
    "scrolled": true
   },
   "outputs": [],
   "source": [
    "final_train_data = []\n",
    "for ind, rec in train_data.iterrows():\n",
    "    final_train_data.append(InputExample(texts=[rec['Sentence_1'], rec['Sentence_2']], \n",
    "                                   label= float(rec['CrossEncScores'])))\n",
    "final_val_data = []\n",
    "for ind, rec in val_data.iterrows():\n",
    "    final_val_data.append(InputExample(texts=[rec['Sentence_1'], rec['Sentence_2']], \n",
    "                                   label= float(rec['CrossEncScores'])))\n",
    "\n",
    "final_data = []\n",
    "for ind, rec in sent_pair_df.iterrows():\n",
    "    final_data.append(InputExample(texts=[rec['Sentence_1'], rec['Sentence_2']], \n",
    "                                   label= float(rec['CrossEncScores'])))"
   ]
  },
  {
   "cell_type": "code",
   "execution_count": 79,
   "metadata": {},
   "outputs": [
    {
     "data": {
      "text/plain": [
       "1189"
      ]
     },
     "execution_count": 79,
     "metadata": {},
     "output_type": "execute_result"
    },
    {
     "data": {
      "text/plain": [
       "1070"
      ]
     },
     "execution_count": 79,
     "metadata": {},
     "output_type": "execute_result"
    },
    {
     "data": {
      "text/plain": [
       "119"
      ]
     },
     "execution_count": 79,
     "metadata": {},
     "output_type": "execute_result"
    }
   ],
   "source": [
    "len(final_data)\n",
    "len(final_train_data)\n",
    "len(final_val_data)"
   ]
  },
  {
   "cell_type": "code",
   "execution_count": 80,
   "metadata": {},
   "outputs": [],
   "source": [
    "batch_size = 2\n",
    "final_loader = DataLoader(final_train_data, \n",
    "                          batch_size = batch_size, \n",
    "                          shuffle = True)"
   ]
  },
  {
   "cell_type": "code",
   "execution_count": 96,
   "metadata": {
    "scrolled": false
   },
   "outputs": [
    {
     "name": "stderr",
     "output_type": "stream",
     "text": [
      "Some weights of the model checkpoint at MediumArticlesDbertFineTuned were not used when initializing DistilBertModel: ['vocab_transform.weight', 'vocab_layer_norm.bias', 'vocab_transform.bias', 'vocab_projector.weight', 'vocab_projector.bias', 'vocab_layer_norm.weight']\n",
      "- This IS expected if you are initializing DistilBertModel from the checkpoint of a model trained on another task or with another architecture (e.g. initializing a BertForSequenceClassification model from a BertForPreTraining model).\n",
      "- This IS NOT expected if you are initializing DistilBertModel from the checkpoint of a model that you expect to be exactly identical (initializing a BertForSequenceClassification model from a BertForSequenceClassification model).\n"
     ]
    }
   ],
   "source": [
    "bert_model = models.Transformer('MediumArticlesDbertFineTuned', tokenizer_name_or_path = 'MediumArticlesDbertTokenizer')"
   ]
  },
  {
   "cell_type": "code",
   "execution_count": 97,
   "metadata": {},
   "outputs": [],
   "source": [
    "pooling = models.Pooling(bert_model.get_word_embedding_dimension(),\n",
    "                         pooling_mode_mean_tokens=True)\n",
    "\n",
    "model = SentenceTransformer(modules=[bert_model, pooling])"
   ]
  },
  {
   "cell_type": "code",
   "execution_count": 98,
   "metadata": {},
   "outputs": [
    {
     "data": {
      "text/plain": [
       "SentenceTransformer(\n",
       "  (0): Transformer({'max_seq_length': 512, 'do_lower_case': False}) with Transformer model: DistilBertModel \n",
       "  (1): Pooling({'word_embedding_dimension': 768, 'pooling_mode_cls_token': False, 'pooling_mode_mean_tokens': True, 'pooling_mode_max_tokens': False, 'pooling_mode_mean_sqrt_len_tokens': False})\n",
       ")"
      ]
     },
     "execution_count": 98,
     "metadata": {},
     "output_type": "execute_result"
    }
   ],
   "source": [
    "model"
   ]
  },
  {
   "cell_type": "code",
   "execution_count": 99,
   "metadata": {},
   "outputs": [],
   "source": [
    "epochs = 5\n",
    "warmup = int(len(final_train_data) * 0.1 * epochs)"
   ]
  },
  {
   "cell_type": "code",
   "execution_count": 101,
   "metadata": {},
   "outputs": [],
   "source": [
    "bi_enc_path = './output/MediumArticlesMLM_SBert/'\n",
    "loss = losses.MultipleNegativesRankingLoss(model)\n",
    "# loss = losses.ContrastiveLoss(model)\n",
    "# loss = losses.CosineSimilarityLoss(model)"
   ]
  },
  {
   "cell_type": "markdown",
   "metadata": {},
   "source": [
    "## Evaluation of SBert model before training"
   ]
  },
  {
   "cell_type": "markdown",
   "metadata": {},
   "source": [
    "### Train data eval"
   ]
  },
  {
   "cell_type": "code",
   "execution_count": 86,
   "metadata": {},
   "outputs": [],
   "source": [
    "import sentence_transformers"
   ]
  },
  {
   "cell_type": "code",
   "execution_count": 87,
   "metadata": {
    "scrolled": true
   },
   "outputs": [],
   "source": [
    "train_evaluator = sentence_transformers.evaluation.EmbeddingSimilarityEvaluator(train_data['Sentence_1'].tolist(),\n",
    "                                                                  train_data['Sentence_2'].tolist(),\n",
    "                                                                  train_data['CrossEncScores'],\n",
    "                                                                         show_progress_bar=True)"
   ]
  },
  {
   "cell_type": "code",
   "execution_count": 88,
   "metadata": {
    "scrolled": true
   },
   "outputs": [
    {
     "data": {
      "application/vnd.jupyter.widget-view+json": {
       "model_id": "9e7dc07f3d6b4a2497d62a26dab45496",
       "version_major": 2,
       "version_minor": 0
      },
      "text/plain": [
       "Batches:   0%|          | 0/67 [00:00<?, ?it/s]"
      ]
     },
     "metadata": {},
     "output_type": "display_data"
    },
    {
     "data": {
      "application/vnd.jupyter.widget-view+json": {
       "model_id": "cecdc171c96d4b3f9d3fa99ecfd3ed8c",
       "version_major": 2,
       "version_minor": 0
      },
      "text/plain": [
       "Batches:   0%|          | 0/67 [00:00<?, ?it/s]"
      ]
     },
     "metadata": {},
     "output_type": "display_data"
    },
    {
     "data": {
      "text/plain": [
       "0.49757646041662257"
      ]
     },
     "execution_count": 88,
     "metadata": {},
     "output_type": "execute_result"
    }
   ],
   "source": [
    "# before training\n",
    "model.evaluate(train_evaluator)"
   ]
  },
  {
   "cell_type": "markdown",
   "metadata": {},
   "source": [
    "### Validation data eval"
   ]
  },
  {
   "cell_type": "code",
   "execution_count": 90,
   "metadata": {},
   "outputs": [],
   "source": [
    "evaluator = sentence_transformers.evaluation.EmbeddingSimilarityEvaluator(val_data['Sentence_1'].tolist(),\n",
    "                                                                  val_data['Sentence_2'].tolist(),\n",
    "                                                                  val_data['CrossEncScores'],\n",
    "                                                                         show_progress_bar=True)"
   ]
  },
  {
   "cell_type": "code",
   "execution_count": 91,
   "metadata": {
    "scrolled": true
   },
   "outputs": [
    {
     "data": {
      "application/vnd.jupyter.widget-view+json": {
       "model_id": "3f94801968c34b5baa81ec3f5aa905f8",
       "version_major": 2,
       "version_minor": 0
      },
      "text/plain": [
       "Batches:   0%|          | 0/8 [00:00<?, ?it/s]"
      ]
     },
     "metadata": {},
     "output_type": "display_data"
    },
    {
     "data": {
      "application/vnd.jupyter.widget-view+json": {
       "model_id": "3b90c16fd7c348778afc4cc668a35cc4",
       "version_major": 2,
       "version_minor": 0
      },
      "text/plain": [
       "Batches:   0%|          | 0/8 [00:00<?, ?it/s]"
      ]
     },
     "metadata": {},
     "output_type": "display_data"
    },
    {
     "data": {
      "text/plain": [
       "0.4797535963537957"
      ]
     },
     "execution_count": 91,
     "metadata": {},
     "output_type": "execute_result"
    }
   ],
   "source": [
    "# before training\n",
    "model.evaluate(evaluator)"
   ]
  },
  {
   "cell_type": "markdown",
   "metadata": {},
   "source": [
    "### Full data eval"
   ]
  },
  {
   "cell_type": "code",
   "execution_count": 93,
   "metadata": {},
   "outputs": [],
   "source": [
    "full_evaluator = sentence_transformers.evaluation.EmbeddingSimilarityEvaluator(sent_pair_df['Sentence_1'].tolist(),\n",
    "                                                                  sent_pair_df['Sentence_2'].tolist(),\n",
    "                                                                  sent_pair_df['CrossEncScores'],\n",
    "                                                                         show_progress_bar=True)"
   ]
  },
  {
   "cell_type": "code",
   "execution_count": 94,
   "metadata": {
    "scrolled": true
   },
   "outputs": [
    {
     "data": {
      "application/vnd.jupyter.widget-view+json": {
       "model_id": "0ae3da1535d44c9ab248863e28b36a56",
       "version_major": 2,
       "version_minor": 0
      },
      "text/plain": [
       "Batches:   0%|          | 0/75 [00:00<?, ?it/s]"
      ]
     },
     "metadata": {},
     "output_type": "display_data"
    },
    {
     "data": {
      "application/vnd.jupyter.widget-view+json": {
       "model_id": "db5b54e0368c47feb76689df7c2447b6",
       "version_major": 2,
       "version_minor": 0
      },
      "text/plain": [
       "Batches:   0%|          | 0/75 [00:00<?, ?it/s]"
      ]
     },
     "metadata": {},
     "output_type": "display_data"
    },
    {
     "data": {
      "text/plain": [
       "0.4906380815335361"
      ]
     },
     "execution_count": 94,
     "metadata": {},
     "output_type": "execute_result"
    }
   ],
   "source": [
    "model.evaluate(full_evaluator)"
   ]
  },
  {
   "cell_type": "code",
   "execution_count": 102,
   "metadata": {
    "scrolled": true
   },
   "outputs": [
    {
     "data": {
      "application/vnd.jupyter.widget-view+json": {
       "model_id": "89753ad7a7f04f82a85b98053f850ba5",
       "version_major": 2,
       "version_minor": 0
      },
      "text/plain": [
       "Epoch:   0%|          | 0/5 [00:00<?, ?it/s]"
      ]
     },
     "metadata": {},
     "output_type": "display_data"
    },
    {
     "data": {
      "application/vnd.jupyter.widget-view+json": {
       "model_id": "9584344848df498d84451eeec30b5bd5",
       "version_major": 2,
       "version_minor": 0
      },
      "text/plain": [
       "Iteration:   0%|          | 0/535 [00:00<?, ?it/s]"
      ]
     },
     "metadata": {},
     "output_type": "display_data"
    },
    {
     "data": {
      "application/vnd.jupyter.widget-view+json": {
       "model_id": "5ff8d505289a499f868bbf14f30acb9c",
       "version_major": 2,
       "version_minor": 0
      },
      "text/plain": [
       "Batches:   0%|          | 0/8 [00:00<?, ?it/s]"
      ]
     },
     "metadata": {},
     "output_type": "display_data"
    },
    {
     "data": {
      "application/vnd.jupyter.widget-view+json": {
       "model_id": "c1546753df8e431bb7c2ea84f147b7a6",
       "version_major": 2,
       "version_minor": 0
      },
      "text/plain": [
       "Batches:   0%|          | 0/8 [00:00<?, ?it/s]"
      ]
     },
     "metadata": {},
     "output_type": "display_data"
    },
    {
     "data": {
      "application/vnd.jupyter.widget-view+json": {
       "model_id": "f4c600d710934c13a8296d99dad95b71",
       "version_major": 2,
       "version_minor": 0
      },
      "text/plain": [
       "Batches:   0%|          | 0/8 [00:00<?, ?it/s]"
      ]
     },
     "metadata": {},
     "output_type": "display_data"
    },
    {
     "data": {
      "application/vnd.jupyter.widget-view+json": {
       "model_id": "528659ed1e6c4cca981f1327cc01a0df",
       "version_major": 2,
       "version_minor": 0
      },
      "text/plain": [
       "Batches:   0%|          | 0/8 [00:00<?, ?it/s]"
      ]
     },
     "metadata": {},
     "output_type": "display_data"
    },
    {
     "data": {
      "application/vnd.jupyter.widget-view+json": {
       "model_id": "7cdb7b957e6f48dba46d3a935db24899",
       "version_major": 2,
       "version_minor": 0
      },
      "text/plain": [
       "Iteration:   0%|          | 0/535 [00:00<?, ?it/s]"
      ]
     },
     "metadata": {},
     "output_type": "display_data"
    },
    {
     "data": {
      "application/vnd.jupyter.widget-view+json": {
       "model_id": "9e0c2093689b4624b481135f493e3b2b",
       "version_major": 2,
       "version_minor": 0
      },
      "text/plain": [
       "Batches:   0%|          | 0/8 [00:00<?, ?it/s]"
      ]
     },
     "metadata": {},
     "output_type": "display_data"
    },
    {
     "data": {
      "application/vnd.jupyter.widget-view+json": {
       "model_id": "d2e6de55c805418f930866ec505584d7",
       "version_major": 2,
       "version_minor": 0
      },
      "text/plain": [
       "Batches:   0%|          | 0/8 [00:00<?, ?it/s]"
      ]
     },
     "metadata": {},
     "output_type": "display_data"
    },
    {
     "data": {
      "application/vnd.jupyter.widget-view+json": {
       "model_id": "54b6d070aa054f9fae3cd9cc8ab6151c",
       "version_major": 2,
       "version_minor": 0
      },
      "text/plain": [
       "Batches:   0%|          | 0/8 [00:00<?, ?it/s]"
      ]
     },
     "metadata": {},
     "output_type": "display_data"
    },
    {
     "data": {
      "application/vnd.jupyter.widget-view+json": {
       "model_id": "828744cfe0c24f718d9d1451d9a4baff",
       "version_major": 2,
       "version_minor": 0
      },
      "text/plain": [
       "Batches:   0%|          | 0/8 [00:00<?, ?it/s]"
      ]
     },
     "metadata": {},
     "output_type": "display_data"
    },
    {
     "data": {
      "application/vnd.jupyter.widget-view+json": {
       "model_id": "77ed50cbc41e403e9d7f17cfefcf5342",
       "version_major": 2,
       "version_minor": 0
      },
      "text/plain": [
       "Iteration:   0%|          | 0/535 [00:00<?, ?it/s]"
      ]
     },
     "metadata": {},
     "output_type": "display_data"
    },
    {
     "data": {
      "application/vnd.jupyter.widget-view+json": {
       "model_id": "0728b7ebd3e64c779d73f1990eb1a0cb",
       "version_major": 2,
       "version_minor": 0
      },
      "text/plain": [
       "Batches:   0%|          | 0/8 [00:00<?, ?it/s]"
      ]
     },
     "metadata": {},
     "output_type": "display_data"
    },
    {
     "data": {
      "application/vnd.jupyter.widget-view+json": {
       "model_id": "f45a6fae0b194ff0986910a696f5b497",
       "version_major": 2,
       "version_minor": 0
      },
      "text/plain": [
       "Batches:   0%|          | 0/8 [00:00<?, ?it/s]"
      ]
     },
     "metadata": {},
     "output_type": "display_data"
    },
    {
     "data": {
      "application/vnd.jupyter.widget-view+json": {
       "model_id": "3cc8dfb99b56498c9db62d0a62108f67",
       "version_major": 2,
       "version_minor": 0
      },
      "text/plain": [
       "Batches:   0%|          | 0/8 [00:00<?, ?it/s]"
      ]
     },
     "metadata": {},
     "output_type": "display_data"
    },
    {
     "data": {
      "application/vnd.jupyter.widget-view+json": {
       "model_id": "8ed3127792e24a4ba9322504797b2eb5",
       "version_major": 2,
       "version_minor": 0
      },
      "text/plain": [
       "Batches:   0%|          | 0/8 [00:00<?, ?it/s]"
      ]
     },
     "metadata": {},
     "output_type": "display_data"
    },
    {
     "data": {
      "application/vnd.jupyter.widget-view+json": {
       "model_id": "9f9b3fd00e1e45d19aa97e5a8b75aa3f",
       "version_major": 2,
       "version_minor": 0
      },
      "text/plain": [
       "Iteration:   0%|          | 0/535 [00:00<?, ?it/s]"
      ]
     },
     "metadata": {},
     "output_type": "display_data"
    },
    {
     "data": {
      "application/vnd.jupyter.widget-view+json": {
       "model_id": "3218e1d9013b4d388ccb02cbac329808",
       "version_major": 2,
       "version_minor": 0
      },
      "text/plain": [
       "Batches:   0%|          | 0/8 [00:00<?, ?it/s]"
      ]
     },
     "metadata": {},
     "output_type": "display_data"
    },
    {
     "data": {
      "application/vnd.jupyter.widget-view+json": {
       "model_id": "e64849e2db4a49b78ce30768d372daf3",
       "version_major": 2,
       "version_minor": 0
      },
      "text/plain": [
       "Batches:   0%|          | 0/8 [00:00<?, ?it/s]"
      ]
     },
     "metadata": {},
     "output_type": "display_data"
    },
    {
     "data": {
      "application/vnd.jupyter.widget-view+json": {
       "model_id": "81fee85a7081470c9dca0401103f92f6",
       "version_major": 2,
       "version_minor": 0
      },
      "text/plain": [
       "Batches:   0%|          | 0/8 [00:00<?, ?it/s]"
      ]
     },
     "metadata": {},
     "output_type": "display_data"
    },
    {
     "data": {
      "application/vnd.jupyter.widget-view+json": {
       "model_id": "485318ffc31c4b19a5839be5266981b4",
       "version_major": 2,
       "version_minor": 0
      },
      "text/plain": [
       "Batches:   0%|          | 0/8 [00:00<?, ?it/s]"
      ]
     },
     "metadata": {},
     "output_type": "display_data"
    },
    {
     "data": {
      "application/vnd.jupyter.widget-view+json": {
       "model_id": "b2e6ba85e0a04da4a319deea7b6dcb43",
       "version_major": 2,
       "version_minor": 0
      },
      "text/plain": [
       "Iteration:   0%|          | 0/535 [00:00<?, ?it/s]"
      ]
     },
     "metadata": {},
     "output_type": "display_data"
    },
    {
     "data": {
      "application/vnd.jupyter.widget-view+json": {
       "model_id": "bf4b2cb24cad4171b4b77605ea95ebf6",
       "version_major": 2,
       "version_minor": 0
      },
      "text/plain": [
       "Batches:   0%|          | 0/8 [00:00<?, ?it/s]"
      ]
     },
     "metadata": {},
     "output_type": "display_data"
    },
    {
     "data": {
      "application/vnd.jupyter.widget-view+json": {
       "model_id": "f54cd3ae4b0c46e1853d1bfabeec2d71",
       "version_major": 2,
       "version_minor": 0
      },
      "text/plain": [
       "Batches:   0%|          | 0/8 [00:00<?, ?it/s]"
      ]
     },
     "metadata": {},
     "output_type": "display_data"
    },
    {
     "data": {
      "application/vnd.jupyter.widget-view+json": {
       "model_id": "7431075d2a224942a5dfec8aba08111a",
       "version_major": 2,
       "version_minor": 0
      },
      "text/plain": [
       "Batches:   0%|          | 0/8 [00:00<?, ?it/s]"
      ]
     },
     "metadata": {},
     "output_type": "display_data"
    },
    {
     "data": {
      "application/vnd.jupyter.widget-view+json": {
       "model_id": "c025bc6c236a442ab08b6b885bdb0006",
       "version_major": 2,
       "version_minor": 0
      },
      "text/plain": [
       "Batches:   0%|          | 0/8 [00:00<?, ?it/s]"
      ]
     },
     "metadata": {},
     "output_type": "display_data"
    }
   ],
   "source": [
    "hist = model.fit(train_objectives= [(final_loader, loss)],\n",
    "                 evaluator=evaluator,\n",
    "                  evaluation_steps = 300,\n",
    "                  epochs= 5,\n",
    "                 warmup_steps= warmup,\n",
    "                 output_path=bi_enc_path,\n",
    "                 show_progress_bar=True)"
   ]
  },
  {
   "cell_type": "code",
   "execution_count": 107,
   "metadata": {},
   "outputs": [
    {
     "data": {
      "text/plain": [
       "0.5348563940912876"
      ]
     },
     "execution_count": 107,
     "metadata": {},
     "output_type": "execute_result"
    }
   ],
   "source": [
    "model.best_score"
   ]
  },
  {
   "cell_type": "code",
   "execution_count": 108,
   "metadata": {},
   "outputs": [],
   "source": [
    "model = SentenceTransformer(bi_enc_path)"
   ]
  },
  {
   "cell_type": "markdown",
   "metadata": {},
   "source": [
    "### Train data eval"
   ]
  },
  {
   "cell_type": "code",
   "execution_count": 109,
   "metadata": {},
   "outputs": [],
   "source": [
    "train_evaluator = sentence_transformers.evaluation.EmbeddingSimilarityEvaluator(train_data['Sentence_1'].tolist(),\n",
    "                                                                  train_data['Sentence_2'].tolist(),\n",
    "                                                                  train_data['CrossEncScores'],\n",
    "                                                                         show_progress_bar=True)"
   ]
  },
  {
   "cell_type": "code",
   "execution_count": 110,
   "metadata": {
    "scrolled": false
   },
   "outputs": [
    {
     "data": {
      "application/vnd.jupyter.widget-view+json": {
       "model_id": "18813eececd2471989f921ca53b71458",
       "version_major": 2,
       "version_minor": 0
      },
      "text/plain": [
       "Batches:   0%|          | 0/67 [00:00<?, ?it/s]"
      ]
     },
     "metadata": {},
     "output_type": "display_data"
    },
    {
     "data": {
      "application/vnd.jupyter.widget-view+json": {
       "model_id": "6f6fff1f12eb407caeed768e0dfb4e25",
       "version_major": 2,
       "version_minor": 0
      },
      "text/plain": [
       "Batches:   0%|          | 0/67 [00:00<?, ?it/s]"
      ]
     },
     "metadata": {},
     "output_type": "display_data"
    },
    {
     "data": {
      "text/plain": [
       "0.4927714687137027"
      ]
     },
     "execution_count": 110,
     "metadata": {},
     "output_type": "execute_result"
    }
   ],
   "source": [
    "# Post training\n",
    "model.evaluate(train_evaluator)"
   ]
  },
  {
   "cell_type": "markdown",
   "metadata": {},
   "source": [
    "### Validation data eval"
   ]
  },
  {
   "cell_type": "code",
   "execution_count": 112,
   "metadata": {},
   "outputs": [],
   "source": [
    "evaluator = sentence_transformers.evaluation.EmbeddingSimilarityEvaluator(val_data['Sentence_1'].tolist(),\n",
    "                                                                  val_data['Sentence_2'].tolist(),\n",
    "                                                                  val_data['CrossEncScores'],\n",
    "                                                                         show_progress_bar=True)"
   ]
  },
  {
   "cell_type": "code",
   "execution_count": 113,
   "metadata": {},
   "outputs": [
    {
     "data": {
      "application/vnd.jupyter.widget-view+json": {
       "model_id": "38015549cb274bd392d7f3b720f3af5d",
       "version_major": 2,
       "version_minor": 0
      },
      "text/plain": [
       "Batches:   0%|          | 0/8 [00:00<?, ?it/s]"
      ]
     },
     "metadata": {},
     "output_type": "display_data"
    },
    {
     "data": {
      "application/vnd.jupyter.widget-view+json": {
       "model_id": "fcbc29a5467a4d12995f6ddb8299005c",
       "version_major": 2,
       "version_minor": 0
      },
      "text/plain": [
       "Batches:   0%|          | 0/8 [00:00<?, ?it/s]"
      ]
     },
     "metadata": {},
     "output_type": "display_data"
    },
    {
     "data": {
      "text/plain": [
       "0.5348563940912876"
      ]
     },
     "execution_count": 113,
     "metadata": {},
     "output_type": "execute_result"
    }
   ],
   "source": [
    "model.evaluate(evaluator)"
   ]
  },
  {
   "cell_type": "markdown",
   "metadata": {},
   "source": [
    "### Full data eval"
   ]
  },
  {
   "cell_type": "code",
   "execution_count": 115,
   "metadata": {},
   "outputs": [],
   "source": [
    "full_evaluator = sentence_transformers.evaluation.EmbeddingSimilarityEvaluator(sent_pair_df['Sentence_1'].tolist(),\n",
    "                                                                  sent_pair_df['Sentence_2'].tolist(),\n",
    "                                                                  sent_pair_df['CrossEncScores'],\n",
    "                                                                         show_progress_bar=True)"
   ]
  },
  {
   "cell_type": "code",
   "execution_count": 116,
   "metadata": {},
   "outputs": [
    {
     "data": {
      "application/vnd.jupyter.widget-view+json": {
       "model_id": "a168daf041644e5ea9d5660585324435",
       "version_major": 2,
       "version_minor": 0
      },
      "text/plain": [
       "Batches:   0%|          | 0/75 [00:00<?, ?it/s]"
      ]
     },
     "metadata": {},
     "output_type": "display_data"
    },
    {
     "data": {
      "application/vnd.jupyter.widget-view+json": {
       "model_id": "0879c739a49b4da580a7e65905ccc99c",
       "version_major": 2,
       "version_minor": 0
      },
      "text/plain": [
       "Batches:   0%|          | 0/75 [00:00<?, ?it/s]"
      ]
     },
     "metadata": {},
     "output_type": "display_data"
    },
    {
     "data": {
      "text/plain": [
       "0.49643395307117766"
      ]
     },
     "execution_count": 116,
     "metadata": {},
     "output_type": "execute_result"
    }
   ],
   "source": [
    "#post training\n",
    "model.evaluate(full_evaluator)"
   ]
  },
  {
   "cell_type": "code",
   "execution_count": 118,
   "metadata": {},
   "outputs": [
    {
     "data": {
      "text/plain": [
       "(768,)"
      ]
     },
     "execution_count": 118,
     "metadata": {},
     "output_type": "execute_result"
    },
    {
     "data": {
      "text/plain": [
       "array([-6.74863338e-01, -3.04354221e-01,  8.22055638e-01, -8.54788721e-01,\n",
       "       -5.29420197e-01,  1.76503375e-01,  8.65956783e-01,  4.65393782e-01,\n",
       "       -7.85416603e-01, -2.23744139e-01, -7.84071624e-01,  3.07584465e-01,\n",
       "       -2.96236962e-01,  2.30749607e-01, -3.30212079e-02, -1.43616587e-01,\n",
       "       -1.08410381e-01, -1.53092980e-01,  1.54544599e-03,  1.28806695e-01,\n",
       "       -2.23232985e-01,  3.83336306e-01,  5.04706562e-01, -6.31260633e-01,\n",
       "       -4.68208075e-01, -6.31641671e-02,  1.28709137e-01,  2.35222444e-01,\n",
       "       -1.59306183e-01, -7.98875559e-03, -5.79685867e-01,  5.78516610e-02,\n",
       "        2.19512239e-01, -4.02369909e-02, -8.55592728e-01, -3.87088098e-02,\n",
       "       -5.19829631e-01,  2.78477430e-01, -7.12288380e-01,  2.06585661e-01,\n",
       "        7.81767592e-02, -2.94445306e-01,  7.25288868e-01,  3.23601753e-01,\n",
       "       -2.27860823e-01, -1.30788803e+00, -1.35001981e+00,  8.68126228e-02,\n",
       "        1.72538012e-02, -3.85487169e-01,  3.13725650e-01,  5.74101269e-01,\n",
       "       -1.36371344e-01,  3.76742244e-01,  3.82368922e-01, -2.46595427e-01,\n",
       "       -8.44424143e-02,  1.84426293e-01, -3.65137368e-01,  4.81889606e-01,\n",
       "       -4.43886548e-01, -1.15536094e-01,  3.11031610e-01,  1.87877521e-01,\n",
       "       -1.69575647e-01,  1.40488923e+00,  2.13998988e-01,  2.67157942e-01,\n",
       "       -5.92088699e-01,  5.54438174e-01,  1.01851583e-01, -4.71132249e-01,\n",
       "        5.09760268e-02,  2.12065279e-01,  2.31046915e-01, -6.67589903e-01,\n",
       "        2.12964937e-01,  7.01132059e-01, -7.76828289e-01,  6.37935102e-01,\n",
       "       -2.86291003e-01, -8.21487665e-01,  1.08324111e+00,  2.28125453e-01,\n",
       "       -4.13856745e-01, -1.77465796e-01,  3.26136798e-01,  8.98401082e-01,\n",
       "        4.69034821e-01,  4.39173341e-01, -1.89518735e-01, -5.56746542e-01,\n",
       "       -3.56288433e-01,  2.68798590e-01,  2.43477270e-01, -7.14587867e-01,\n",
       "       -3.40131044e-01,  1.98536217e-01,  4.00279276e-02, -3.58239412e-01,\n",
       "       -2.21304819e-02, -1.64098740e-02, -7.57438466e-02, -7.75060594e-01,\n",
       "       -2.48041034e-01, -4.50294703e-01, -4.06007409e-01, -5.94710410e-01,\n",
       "        4.28149849e-01, -5.26620626e-01,  5.20978510e-01,  1.64793670e-01,\n",
       "       -2.09175691e-01, -3.97232771e-01, -1.69308588e-01,  7.87614048e-01,\n",
       "        5.65491617e-01, -7.71434247e-01, -1.65877938e-01,  1.86363041e-01,\n",
       "        7.00364187e-02,  2.04602540e-01,  1.44722909e-01, -2.24343732e-01,\n",
       "        3.98517221e-01, -1.15007581e-02,  3.21865231e-01,  6.79644883e-01,\n",
       "       -2.60638356e-01,  2.57240325e-01,  2.14109316e-01,  3.06011941e-02,\n",
       "       -5.64341366e-01,  4.62559074e-01, -1.33598849e-01, -6.41348734e-02,\n",
       "        2.43599638e-01, -2.63600722e-02, -4.04425144e-01,  2.02565834e-01,\n",
       "       -2.81523734e-01,  9.59564924e-01, -9.64734137e-01,  2.45319381e-01,\n",
       "        4.41118807e-01,  5.48398435e-01, -2.23570749e-01,  6.11319602e-01,\n",
       "       -8.55133161e-02, -9.41350460e-01,  1.28400281e-01, -2.26098850e-01,\n",
       "       -5.35261154e-01, -1.71911076e-01, -3.28763336e-01,  1.08252592e-01,\n",
       "       -4.59909350e-01, -7.19491169e-02,  4.66508627e-01,  8.99303377e-01,\n",
       "        7.37156391e-01,  3.43631357e-01, -3.56702171e-02,  3.22805285e-01,\n",
       "       -2.96726853e-01,  3.70326996e-01,  4.82747316e-01,  3.04858238e-01,\n",
       "        6.97365224e-01, -2.33459651e-01,  4.25834626e-01, -1.59042612e-01,\n",
       "        3.10866279e-03,  7.01835096e-01, -9.12392214e-02, -3.87480296e-02,\n",
       "        9.21551228e-01, -1.33924678e-01, -3.72862548e-01, -7.18440354e-01,\n",
       "       -1.09360683e+00, -4.04230356e-01,  3.67710203e-01,  2.39830121e-01,\n",
       "        5.89649498e-01,  9.38983500e-01,  3.12960237e-01,  1.48753405e-01,\n",
       "       -6.48979008e-01,  6.46006584e-01, -7.18308240e-02,  1.39588162e-01,\n",
       "       -4.80680972e-01, -1.82758555e-01,  5.39691091e-01,  3.29626590e-01,\n",
       "       -1.21151976e-01,  2.36548677e-01, -3.47588539e-01,  2.81462312e-01,\n",
       "        4.91780639e-01,  2.87769526e-01,  9.89045203e-01,  3.05311650e-01,\n",
       "        2.44215891e-01,  7.93409407e-01,  1.26807196e-02, -1.39029905e-01,\n",
       "        3.92721087e-01,  6.00116551e-01, -4.80018616e-01,  1.28237354e-02,\n",
       "        3.54594857e-01,  8.00314248e-02, -1.28474534e-02,  2.32654169e-01,\n",
       "        4.81343985e-01, -9.50006187e-01, -3.32597345e-01,  2.60744423e-01,\n",
       "        6.32574797e-01,  1.00179709e-01, -4.95999187e-01, -8.16933587e-02,\n",
       "        4.68767881e-01,  3.61287594e-01,  5.72885096e-01, -1.30180091e-01,\n",
       "        2.35361874e-01, -2.92863935e-01,  2.98570037e-01, -4.37389821e-01,\n",
       "        1.49255559e-01,  4.76134539e-01, -5.34240067e-01,  4.56034541e-01,\n",
       "        5.83898909e-02, -6.89520359e-01, -2.00660601e-01, -1.10803485e-01,\n",
       "        6.39131591e-02,  1.95905473e-02, -5.05150080e-01,  7.54984796e-01,\n",
       "       -1.00355327e+00, -2.12551996e-01,  2.46537685e-01, -3.18289816e-01,\n",
       "        1.43543601e-01,  5.06959446e-02,  2.67631441e-01, -2.99802512e-01,\n",
       "        5.56940615e-01, -1.33589253e-01,  2.77356416e-01,  2.09359899e-01,\n",
       "       -1.38244197e-01,  4.57630306e-01, -2.14001939e-01,  3.55248541e-01,\n",
       "       -1.04677963e+00, -3.75531584e-01,  5.12090206e-01,  4.30468887e-01,\n",
       "       -1.06197870e+00,  9.21812117e-01, -2.56813139e-01, -5.34595907e-01,\n",
       "        2.02413246e-01,  4.77602243e-01, -6.92954302e-01,  1.27188995e-01,\n",
       "        2.92212456e-01, -1.98354676e-01,  4.48268980e-01, -2.12515816e-01,\n",
       "       -8.79557207e-02,  5.20499289e-01, -2.96850115e-01, -7.54310131e-01,\n",
       "       -5.48968256e-01,  9.75121856e-02, -1.10631144e+00, -1.27426952e-01,\n",
       "       -2.34711077e-02, -4.87028807e-01, -4.81984049e-01, -7.87364468e-02,\n",
       "       -5.29884279e-01, -1.04130484e-01,  1.91763386e-01, -6.13309145e-02,\n",
       "        3.70625965e-02,  1.37052611e-01, -3.06305289e-02, -5.55214822e-01,\n",
       "        1.22305596e+00,  6.39290988e-01, -5.37423551e-01,  1.55846193e-01,\n",
       "        2.31433630e-01, -2.18518987e-01, -2.10065469e-01, -6.07723534e-01,\n",
       "        4.85768080e-01,  3.89568843e-02,  6.49018466e-01, -6.84543192e-01,\n",
       "       -6.01532459e-01, -2.17021346e-01,  3.80620003e-01, -3.19734067e-01,\n",
       "       -1.32269099e-01,  3.28057677e-01,  9.29605663e-01,  2.91417390e-01,\n",
       "        6.03198111e-01,  1.90296724e-01,  1.54481351e-01,  3.25579166e-01,\n",
       "       -3.89389396e-01,  2.25223199e-01, -3.06792974e-01, -1.15092039e-01,\n",
       "       -6.91510960e-02, -5.86672008e-01, -2.03122512e-01, -3.98957729e-01,\n",
       "        2.30422094e-02, -7.20931813e-02, -8.03342834e-02, -3.03479433e-01,\n",
       "       -1.25522688e-01, -9.34118629e-02,  9.46070373e-01, -7.04804957e-01,\n",
       "        9.60170403e-02,  7.93094099e-01, -3.56346995e-01,  1.06292767e-02,\n",
       "       -3.29097331e-01, -4.34415102e-01, -4.59673494e-01,  9.82651636e-02,\n",
       "        5.72987080e-01, -3.41573983e-01,  3.94935697e-01,  1.15308665e-01,\n",
       "       -2.28729174e-01, -4.91954178e-01,  4.96962458e-01,  8.77608061e-02,\n",
       "       -2.65323073e-01, -4.24390845e-02, -5.22983491e-01, -3.67520690e-01,\n",
       "       -3.92018668e-02,  9.92971361e-02, -5.68402529e-01,  4.65072095e-02,\n",
       "        5.48096001e-01, -2.09274054e-01,  4.25018400e-01, -2.81130046e-01,\n",
       "        5.40323555e-01,  1.85940340e-01,  2.81958669e-01, -4.01697606e-01,\n",
       "        4.04325813e-01,  8.15928638e-01, -9.94101241e-02, -8.29635441e-01,\n",
       "        8.25379565e-02, -6.68020785e-01, -5.35886943e-01, -2.11051419e-01,\n",
       "        6.64901212e-02, -3.75134081e-01, -2.09525004e-01, -3.43064219e-01,\n",
       "       -2.47455478e-01, -1.16343880e+00, -6.02353156e-01, -4.22730036e-02,\n",
       "       -7.20856428e-01, -8.02158654e-01,  2.48236343e-01, -6.84689105e-01,\n",
       "        5.62843084e-01, -5.73752038e-02,  8.21218118e-02,  5.56132078e-01,\n",
       "       -1.58522546e-01, -1.03333585e-01, -6.60246834e-02, -6.33112848e-01,\n",
       "       -2.46735767e-01,  2.77130097e-01,  7.93622062e-02,  2.95631140e-01,\n",
       "        1.84117910e-02,  8.47966969e-02, -1.58797055e-01,  3.43364567e-01,\n",
       "        8.61373842e-02, -2.96399534e-01,  6.95143878e-01, -4.02283639e-01,\n",
       "        3.11382171e-02, -5.94673097e-01,  8.16781744e-02, -6.00126572e-02,\n",
       "        9.56804931e-01,  2.04542756e-01, -6.47205353e-01,  3.08468137e-02,\n",
       "       -3.54521662e-01,  6.26255810e-01,  6.40916169e-01, -1.07880163e+00,\n",
       "       -5.17767847e-01,  6.95258915e-01,  2.65747577e-01, -7.23898113e-01,\n",
       "       -5.89849293e-01,  2.44573355e-01, -2.58517265e-01, -1.02814823e-01,\n",
       "        4.27741319e-01,  8.02038491e-01, -1.47089198e-01,  3.16361517e-01,\n",
       "        1.68222830e-01, -5.16236186e-01,  1.60955787e-01,  4.53899741e-01,\n",
       "       -2.79086798e-01,  1.15564071e-01,  5.28395891e-01,  6.03596084e-02,\n",
       "        2.01951027e-01, -1.12541687e+00,  2.35298976e-01,  1.61409363e-01,\n",
       "        1.84754416e-01, -7.50806391e-01,  2.36330912e-01,  4.89400923e-02,\n",
       "       -2.70447731e-01,  6.49433851e-01, -8.47877800e-01,  5.73845744e-01,\n",
       "        2.04441831e-01,  4.75975990e-01,  8.01787805e-03, -2.28483006e-01,\n",
       "       -4.22247536e-02,  3.13672453e-01,  1.49371743e-01, -5.50359130e-01,\n",
       "        2.67735213e-01, -5.55733085e-01, -5.60676575e-01, -2.13910893e-01,\n",
       "        1.63254574e-01, -7.45692551e-01, -4.33992982e-01, -2.08234787e-01,\n",
       "       -3.34961005e-02, -2.91944176e-01, -7.48003721e-01,  6.04614079e-01,\n",
       "       -4.53910023e-01,  2.76401311e-01, -7.80771255e-01,  1.61620677e-01,\n",
       "       -1.31399199e-01, -6.19876206e-01,  1.04820877e-01,  5.60427129e-01,\n",
       "        1.85632065e-01, -4.79561061e-01, -6.44638777e-01,  4.54797655e-01,\n",
       "        9.83121991e-02,  6.15169585e-01,  1.75273344e-01, -2.83993959e-01,\n",
       "       -9.09541268e-03, -2.58780509e-01,  7.81026855e-02,  8.53324711e-01,\n",
       "        1.53338462e-01, -3.56101900e-01,  7.77074337e-01, -4.31921810e-01,\n",
       "        3.01957399e-01, -2.61443764e-01, -9.44484249e-02,  8.01110327e-01,\n",
       "        3.40458423e-01, -6.80653334e-01, -3.20736915e-01, -1.07731915e+00,\n",
       "        6.45859167e-02, -4.21782248e-02,  3.35817426e-01,  3.56390327e-01,\n",
       "       -6.05033696e-01, -9.36360583e-02, -5.68140209e-01,  1.28220424e-01,\n",
       "        2.49746487e-01, -7.50713721e-02,  9.44540679e-01, -7.68929303e-01,\n",
       "       -2.04477921e-01,  4.73515511e-01, -2.73401529e-01, -6.76248074e-01,\n",
       "        6.39823377e-01, -1.36380911e-01, -7.24365532e-01, -5.27422905e-01,\n",
       "       -3.58904719e-01, -8.45033154e-02,  1.47274332e-02,  2.89144386e-02,\n",
       "        1.08347476e-01,  4.74683493e-01,  2.97644883e-01, -2.38940537e-01,\n",
       "       -1.05716908e+00, -2.30043367e-01, -4.03986216e-01, -3.91289383e-01,\n",
       "       -6.83437526e-01, -1.00516045e+00,  1.02027021e-01, -5.84795296e-01,\n",
       "        2.34792352e-01, -9.56503972e-02, -5.66022515e-01, -4.82266903e-01,\n",
       "       -6.67392910e-01,  1.39967099e-01, -1.77420422e-01,  9.78856146e-01,\n",
       "       -2.20036432e-01, -8.64067137e-01,  5.24467707e-01, -5.95555127e-01,\n",
       "       -6.17544711e-01,  6.82182133e-01, -6.28663778e-01,  4.65614647e-02,\n",
       "        1.18266447e-02,  1.99583411e-01, -1.00632228e-01,  2.51698732e-01,\n",
       "        4.05015320e-01, -1.56198144e-02, -9.07332301e-02, -6.70498073e-01,\n",
       "       -3.45184207e-01,  6.67641342e-01, -7.08896101e-01,  1.50588974e-01,\n",
       "        1.97258875e-01, -8.09834227e-02, -3.01638961e-01,  7.42036998e-02,\n",
       "        1.66374087e-01,  2.56660134e-01,  2.05851719e-01,  4.16222006e-01,\n",
       "        1.83967888e-01,  1.06752741e+00, -4.91775751e-01, -1.08584940e-01,\n",
       "       -7.46799782e-02, -2.75366157e-01, -6.84306145e-01, -1.86687663e-01,\n",
       "       -2.27950811e-02,  6.69093058e-02,  1.02165639e-01,  1.72124207e-02,\n",
       "        2.98396379e-01,  1.00863862e+00, -3.49500656e-01, -1.93298474e-01,\n",
       "        2.74389181e-02, -6.68928087e-01,  3.04862112e-01, -1.94902882e-01,\n",
       "        4.66682166e-01,  1.77588820e-01, -2.71524400e-01,  4.11207676e-01,\n",
       "       -6.41018629e-01,  8.95230472e-01,  2.57946309e-02,  4.34074402e-01,\n",
       "       -2.29768619e-01,  5.42267859e-01, -1.25114584e+00,  5.04161894e-01,\n",
       "        2.45638475e-01,  1.99706510e-01, -3.86477828e-01, -2.50692572e-02,\n",
       "       -8.53882611e-01,  2.29899809e-01,  7.44064808e-01, -2.30977967e-01,\n",
       "        4.96576428e-02,  3.41234118e-01, -4.84025806e-01,  1.44975632e-02,\n",
       "        1.25060901e-01,  4.47815686e-01,  1.95681048e-03,  7.93126404e-01,\n",
       "       -6.68538660e-02, -2.83576041e-01, -5.98419607e-02, -1.43444657e-01,\n",
       "        2.81020641e-01, -2.49499559e-01, -9.32071805e-02,  3.59300137e-01,\n",
       "       -9.35119763e-02,  7.36578330e-02, -9.31345165e-01, -3.55738014e-01,\n",
       "        4.09068584e-01,  3.79347771e-01,  3.10197175e-02, -4.76358503e-01,\n",
       "       -3.23781252e-01,  4.04214859e-01,  4.57960553e-02,  1.09375613e-02,\n",
       "        2.59489805e-01, -1.18991740e-01, -3.34221929e-01,  3.51957709e-01,\n",
       "       -2.01597407e-01,  4.30461019e-01, -6.39793217e-01, -1.87054634e-01,\n",
       "        4.86836046e-01, -8.57967958e-02, -3.34166616e-01,  7.17207611e-01,\n",
       "        2.45498136e-01, -4.66210127e-01,  1.96044579e-01,  3.31435710e-01,\n",
       "       -2.37517819e-01, -2.45264828e-01,  2.16436908e-01, -6.92847252e-01,\n",
       "       -2.59225845e-01, -1.21538877e-01,  1.08487852e-01, -7.47360051e-01,\n",
       "       -2.99945265e-01, -8.04827869e-01, -1.69721797e-01,  1.17372084e+00,\n",
       "        4.70832795e-01, -2.46961117e-02,  1.02619193e-01,  3.86735469e-01,\n",
       "        1.75857708e-01,  5.04690349e-01,  7.72919878e-02,  4.82483864e-01,\n",
       "       -6.24400526e-02,  1.17715371e+00, -4.94934410e-01,  3.78398508e-01,\n",
       "       -1.66484877e-01, -6.12685621e-01, -2.80898362e-01, -3.02144557e-01,\n",
       "       -2.71982074e-01,  1.12365736e-02,  5.27524352e-02,  3.44127655e-01,\n",
       "       -4.22209173e-01, -5.50261796e-01, -7.12408721e-01, -1.84954464e-01,\n",
       "       -5.92294872e-01,  9.74777862e-02,  8.81125391e-01, -2.95258433e-01,\n",
       "       -5.39847374e-01,  6.15280330e-01,  9.48046148e-02, -7.93288291e-01,\n",
       "        5.10731153e-02,  4.75587934e-01,  1.33443773e-02,  4.55908626e-01,\n",
       "        9.50762451e-01,  6.36814058e-01,  5.43153286e-02,  6.00383729e-02,\n",
       "        3.66534293e-03,  2.58652177e-02,  2.92664349e-01,  3.81743759e-01,\n",
       "        5.09152055e-01, -3.63700867e-01, -2.82884955e-01,  4.92247105e-01,\n",
       "       -7.78260231e-01, -6.35660663e-02,  1.76638484e-01, -4.36890692e-01,\n",
       "       -4.06378418e-01, -1.84628561e-01, -5.45444429e-01, -2.49085441e-01,\n",
       "        4.05401707e-01, -6.76759064e-01,  5.87067902e-01,  8.25023830e-01,\n",
       "        6.54472485e-02, -3.01158279e-02,  2.03789282e-03,  1.24031603e-02,\n",
       "       -2.17008889e-01, -6.03657365e-01,  1.35948077e-01,  4.96895432e-01,\n",
       "        5.43734252e-01, -4.38009381e-01,  3.82546186e-01,  6.17956161e-01,\n",
       "        9.36915874e-02, -1.99767485e-01,  8.37852418e-01,  2.10238218e-01,\n",
       "       -1.40099570e-01, -1.56754211e-01, -4.77937847e-01, -2.31221225e-02,\n",
       "       -3.03720856e+00, -1.45089746e-01,  4.86667484e-01, -1.09988451e-01,\n",
       "       -1.22590989e-01, -1.89351097e-01,  3.30084592e-01, -7.81332195e-01,\n",
       "        1.40672112e+00, -4.12516296e-02,  2.25354150e-01, -6.09219134e-01,\n",
       "       -5.55135608e-02,  1.74543083e-01,  3.13736171e-01,  3.04244488e-01],\n",
       "      dtype=float32)"
      ]
     },
     "execution_count": 118,
     "metadata": {},
     "output_type": "execute_result"
    }
   ],
   "source": [
    "sent_emb = model.encode('hello')\n",
    "sent_emb.shape\n",
    "sent_emb"
   ]
  }
 ],
 "metadata": {
  "kernelspec": {
   "display_name": "Python 3",
   "language": "python",
   "name": "python3"
  },
  "language_info": {
   "codemirror_mode": {
    "name": "ipython",
    "version": 3
   },
   "file_extension": ".py",
   "mimetype": "text/x-python",
   "name": "python",
   "nbconvert_exporter": "python",
   "pygments_lexer": "ipython3",
   "version": "3.8.3"
  }
 },
 "nbformat": 4,
 "nbformat_minor": 4
}
