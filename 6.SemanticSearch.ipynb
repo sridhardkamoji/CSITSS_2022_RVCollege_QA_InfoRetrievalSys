{
 "cells": [
  {
   "cell_type": "markdown",
   "metadata": {},
   "source": [
    "# Semantic Search - Question Answering System"
   ]
  },
  {
   "cell_type": "markdown",
   "metadata": {},
   "source": [
    "https://drive.google.com/drive/folders/1Q9prRy02buQ09X5RDia-KMO1G19qPwws?usp=sharing"
   ]
  },
  {
   "cell_type": "markdown",
   "metadata": {},
   "source": [
    "### Import Packages"
   ]
  },
  {
   "cell_type": "code",
   "execution_count": 1,
   "metadata": {},
   "outputs": [
    {
     "name": "stderr",
     "output_type": "stream",
     "text": [
      "C:\\Users\\Sridhar Kamoji\\AppData\\Roaming\\Python\\Python38\\site-packages\\huggingface_hub\\snapshot_download.py:6: FutureWarning: snapshot_download.py has been made private and will no longer be available from version 0.11. Please use `from huggingface_hub import snapshot_download` to import the only public function in this module. Other members of the file may be changed without a deprecation notice.\n",
      "  warnings.warn(\n"
     ]
    }
   ],
   "source": [
    "from sklearn.metrics.pairwise import cosine_similarity\n",
    "from datasets import load_dataset\n",
    "import torch\n",
    "import pickle\n",
    "import numpy as np\n",
    "from sentence_transformers import InputExample, models, SentenceTransformer, losses"
   ]
  },
  {
   "cell_type": "markdown",
   "metadata": {},
   "source": [
    "### Load the Data"
   ]
  },
  {
   "cell_type": "code",
   "execution_count": 1,
   "metadata": {},
   "outputs": [
    {
     "name": "stderr",
     "output_type": "stream",
     "text": [
      "Using custom data configuration fabiochiu--medium-articles-96791ff68926910d\n",
      "Reusing dataset csv (C:\\Users\\Sridhar Kamoji\\.cache\\huggingface\\datasets\\fabiochiu___csv\\fabiochiu--medium-articles-96791ff68926910d\\0.0.0\\652c3096f041ee27b04d2232d41f10547a8fecda3e284a79a0ec4053c916ef7a)\n"
     ]
    }
   ],
   "source": [
    "# load the dataset and convert to pandas dataframe\n",
    "df = load_dataset(\n",
    "    \"fabiochiu/medium-articles\",\n",
    "    data_files=\"medium_articles.csv\",\n",
    "    split=\"train\"\n",
    ").to_pandas()"
   ]
  },
  {
   "cell_type": "code",
   "execution_count": 2,
   "metadata": {},
   "outputs": [
    {
     "data": {
      "text/html": [
       "<div>\n",
       "<style scoped>\n",
       "    .dataframe tbody tr th:only-of-type {\n",
       "        vertical-align: middle;\n",
       "    }\n",
       "\n",
       "    .dataframe tbody tr th {\n",
       "        vertical-align: top;\n",
       "    }\n",
       "\n",
       "    .dataframe thead th {\n",
       "        text-align: right;\n",
       "    }\n",
       "</style>\n",
       "<table border=\"1\" class=\"dataframe\">\n",
       "  <thead>\n",
       "    <tr style=\"text-align: right;\">\n",
       "      <th></th>\n",
       "      <th>title</th>\n",
       "      <th>text</th>\n",
       "      <th>url</th>\n",
       "      <th>authors</th>\n",
       "      <th>timestamp</th>\n",
       "      <th>tags</th>\n",
       "    </tr>\n",
       "  </thead>\n",
       "  <tbody>\n",
       "    <tr>\n",
       "      <th>4172</th>\n",
       "      <td>How the Data Stole Christmas</td>\n",
       "      <td>by Anonymous\\n\\nThe door sprung open and our t...</td>\n",
       "      <td>https://medium.com/data-ops/how-the-data-stole...</td>\n",
       "      <td>[]</td>\n",
       "      <td>2019-12-24 13:22:33.143000+00:00</td>\n",
       "      <td>['Data Science', 'Big Data', 'Dataops', 'Analy...</td>\n",
       "    </tr>\n",
       "    <tr>\n",
       "      <th>174868</th>\n",
       "      <td>Automating Light Switch using the ESP32 Board ...</td>\n",
       "      <td>A story about how I escaped the boring task th...</td>\n",
       "      <td>https://python.plainenglish.io/automating-ligh...</td>\n",
       "      <td>['Tomas Rasymas']</td>\n",
       "      <td>2021-09-14 07:20:52.342000+00:00</td>\n",
       "      <td>['Programming', 'Python', 'Software Developmen...</td>\n",
       "    </tr>\n",
       "    <tr>\n",
       "      <th>100171</th>\n",
       "      <td>Keep Going Quotes Sayings for When Hope is Lost</td>\n",
       "      <td>It’s a very thrilling thing to achieve a goal....</td>\n",
       "      <td>https://medium.com/@yourselfquotes/keep-going-...</td>\n",
       "      <td>['Yourself Quotes']</td>\n",
       "      <td>2021-01-05 12:13:04.018000+00:00</td>\n",
       "      <td>['Quotes']</td>\n",
       "    </tr>\n",
       "    <tr>\n",
       "      <th>141757</th>\n",
       "      <td>When Will the Smoke Clear From Bay Area Skies?</td>\n",
       "      <td>Bay Area cities are contending with some of th...</td>\n",
       "      <td>https://thebolditalic.com/when-will-the-smoke-...</td>\n",
       "      <td>['Matt Charnock']</td>\n",
       "      <td>2020-09-15 22:38:33.924000+00:00</td>\n",
       "      <td>['Bay Area', 'San Francisco', 'California', 'W...</td>\n",
       "    </tr>\n",
       "    <tr>\n",
       "      <th>183489</th>\n",
       "      <td>The ABC’s of Sustainability… easy as 1, 2, 3</td>\n",
       "      <td>By Julia DiPrete\\n\\n(according to the Jackson ...</td>\n",
       "      <td>https://medium.com/sipwines/the-abcs-of-sustai...</td>\n",
       "      <td>['Sip Wines']</td>\n",
       "      <td>2021-03-02 23:39:49.948000+00:00</td>\n",
       "      <td>['Wine Tasting', 'Sustainability', 'Wine']</td>\n",
       "    </tr>\n",
       "  </tbody>\n",
       "</table>\n",
       "</div>"
      ],
      "text/plain": [
       "                                                    title  \\\n",
       "4172                         How the Data Stole Christmas   \n",
       "174868  Automating Light Switch using the ESP32 Board ...   \n",
       "100171    Keep Going Quotes Sayings for When Hope is Lost   \n",
       "141757     When Will the Smoke Clear From Bay Area Skies?   \n",
       "183489       The ABC’s of Sustainability… easy as 1, 2, 3   \n",
       "\n",
       "                                                     text  \\\n",
       "4172    by Anonymous\\n\\nThe door sprung open and our t...   \n",
       "174868  A story about how I escaped the boring task th...   \n",
       "100171  It’s a very thrilling thing to achieve a goal....   \n",
       "141757  Bay Area cities are contending with some of th...   \n",
       "183489  By Julia DiPrete\\n\\n(according to the Jackson ...   \n",
       "\n",
       "                                                      url  \\\n",
       "4172    https://medium.com/data-ops/how-the-data-stole...   \n",
       "174868  https://python.plainenglish.io/automating-ligh...   \n",
       "100171  https://medium.com/@yourselfquotes/keep-going-...   \n",
       "141757  https://thebolditalic.com/when-will-the-smoke-...   \n",
       "183489  https://medium.com/sipwines/the-abcs-of-sustai...   \n",
       "\n",
       "                    authors                         timestamp  \\\n",
       "4172                     []  2019-12-24 13:22:33.143000+00:00   \n",
       "174868    ['Tomas Rasymas']  2021-09-14 07:20:52.342000+00:00   \n",
       "100171  ['Yourself Quotes']  2021-01-05 12:13:04.018000+00:00   \n",
       "141757    ['Matt Charnock']  2020-09-15 22:38:33.924000+00:00   \n",
       "183489        ['Sip Wines']  2021-03-02 23:39:49.948000+00:00   \n",
       "\n",
       "                                                     tags  \n",
       "4172    ['Data Science', 'Big Data', 'Dataops', 'Analy...  \n",
       "174868  ['Programming', 'Python', 'Software Developmen...  \n",
       "100171                                         ['Quotes']  \n",
       "141757  ['Bay Area', 'San Francisco', 'California', 'W...  \n",
       "183489         ['Wine Tasting', 'Sustainability', 'Wine']  "
      ]
     },
     "execution_count": 2,
     "metadata": {},
     "output_type": "execute_result"
    }
   ],
   "source": [
    "# drop empty rows and select 50k articles\n",
    "df = df.dropna().sample(100000, random_state=32)\n",
    "df.head()"
   ]
  },
  {
   "cell_type": "markdown",
   "metadata": {},
   "source": [
    "#### We will use the article title and its text for generating embeddings. For that, we join the article title and the first 1000 characters from the article text."
   ]
  },
  {
   "cell_type": "code",
   "execution_count": 3,
   "metadata": {},
   "outputs": [],
   "source": [
    "# select first 1000 characters\n",
    "# Because initial sentences of the article will pretty much give us the context of the article\n",
    "\n",
    "df[\"text\"] = df[\"text\"].str[:1000]\n",
    "# join article title and the text\n",
    "df[\"title_text\"] = df[\"title\"] + \". \" + df[\"text\"]"
   ]
  },
  {
   "cell_type": "code",
   "execution_count": 5,
   "metadata": {
    "scrolled": true
   },
   "outputs": [
    {
     "name": "stderr",
     "output_type": "stream",
     "text": [
      "C:\\Users\\Sridhar Kamoji\\AppData\\Roaming\\Python\\Python38\\site-packages\\huggingface_hub\\file_download.py:560: FutureWarning: `cached_download` is the legacy way to download files from the HF hub, please consider upgrading to `hf_hub_download`\n",
      "  warnings.warn(\n"
     ]
    }
   ],
   "source": [
    "# we can use fine tuned Sbert model from the notebook 5.SBertTraining\n",
    "model = SentenceTransformer('flax-sentence-embeddings/all_datasets_v3_mpnet-base')"
   ]
  },
  {
   "cell_type": "code",
   "execution_count": 11,
   "metadata": {},
   "outputs": [],
   "source": [
    "# Create Sentence Vectors\n",
    "df['sent_emb'] = [model.encode(txt) for txt in df['title_text']]\n",
    "\n",
    "df.reset_index(drop = True, inplace = True)"
   ]
  },
  {
   "cell_type": "code",
   "execution_count": 27,
   "metadata": {},
   "outputs": [],
   "source": [
    "# store the data as binary file\n",
    "# pickle.dump(df, open('./MediumArticlesSentenceEmbedded.pkl', 'wb'))"
   ]
  },
  {
   "cell_type": "code",
   "execution_count": 2,
   "metadata": {},
   "outputs": [],
   "source": [
    "df = pickle.load(open('./MediumArticlesSentenceEmbedded.pkl', 'rb'))\n",
    "\n",
    "# get the sentence vectors as numpy array\n",
    "sent_vecs = np.vstack(df['sent_emb'])"
   ]
  },
  {
   "cell_type": "code",
   "execution_count": 6,
   "metadata": {},
   "outputs": [],
   "source": [
    "# s = 'which are good places to visit in London'\n",
    "s = 'which are best places to visit in Greece'\n",
    "s = 'which are beautiful islands to visit in summer'\n",
    "s_emb = model.encode(s)"
   ]
  },
  {
   "cell_type": "code",
   "execution_count": 7,
   "metadata": {},
   "outputs": [
    {
     "data": {
      "text/plain": [
       "['Best Gay Holiday Destinations',\n",
       " '10 Best Beaches on the Hawaiian Islands',\n",
       " 'Santorini Island. The power of this volcanic island creates an energy that overwhelms the senses…',\n",
       " 'Petani and Myrtos beaches',\n",
       " '10 MOST BEAUTIFUL BEACHES IN THE WORLD TO EXPLORE!!!!',\n",
       " 'Best Place To Travel in 2020 -Bali golden tour — Froxee',\n",
       " '7 Reasons to Spend Your Holiday at Karon Beach, Phuket',\n",
       " 'The Most Beautiful Hidden Beaches in the World',\n",
       " 'Budget-Friendly Holidays: Visit The Best Summer Destinations In Greece | easyGuide',\n",
       " '7 Best Ideas To Enjoy Summer Vacations of 2020']"
      ]
     },
     "execution_count": 7,
     "metadata": {},
     "output_type": "execute_result"
    }
   ],
   "source": [
    "# get the similarity scores between the query and sentence embeddings\n",
    "sim_scores = cosine_similarity(s_emb.reshape((1,-1)), sent_vecs)\n",
    "\n",
    "sim_scores_sorted = np.argsort(sim_scores)\n",
    "\n",
    "df.loc[sim_scores_sorted[0][::-1][:10]]['title'].values.tolist()"
   ]
  },
  {
   "cell_type": "markdown",
   "metadata": {},
   "source": [
    "## Further Enahncements"
   ]
  },
  {
   "cell_type": "markdown",
   "metadata": {},
   "source": [
    "### 1. TFIDF Coupled with Sbert or Bert"
   ]
  },
  {
   "cell_type": "markdown",
   "metadata": {},
   "source": [
    "### 2. Using NER for search \n",
    "ref: https://docs.pinecone.io/docs/ner-search"
   ]
  }
 ],
 "metadata": {
  "kernelspec": {
   "display_name": "Python 3",
   "language": "python",
   "name": "python3"
  },
  "language_info": {
   "codemirror_mode": {
    "name": "ipython",
    "version": 3
   },
   "file_extension": ".py",
   "mimetype": "text/x-python",
   "name": "python",
   "nbconvert_exporter": "python",
   "pygments_lexer": "ipython3",
   "version": "3.8.3"
  }
 },
 "nbformat": 4,
 "nbformat_minor": 4
}
