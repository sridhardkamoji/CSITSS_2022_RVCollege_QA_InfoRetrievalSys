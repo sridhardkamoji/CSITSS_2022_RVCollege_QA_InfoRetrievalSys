{
 "cells": [
  {
   "cell_type": "markdown",
   "metadata": {},
   "source": [
    "# MLM Fine tuning (domain Adaption)"
   ]
  },
  {
   "cell_type": "markdown",
   "metadata": {},
   "source": [
    "https://drive.google.com/drive/folders/1Q9prRy02buQ09X5RDia-KMO1G19qPwws?usp=sharing"
   ]
  },
  {
   "cell_type": "markdown",
   "metadata": {},
   "source": [
    "### https://huggingface.co/course/chapter7/3?fw=pt"
   ]
  },
  {
   "cell_type": "code",
   "execution_count": 1,
   "metadata": {},
   "outputs": [],
   "source": [
    "from IPython.core.interactiveshell import InteractiveShell\n",
    "InteractiveShell.ast_node_interactivity = \"all\""
   ]
  },
  {
   "cell_type": "code",
   "execution_count": 2,
   "metadata": {},
   "outputs": [
    {
     "name": "stderr",
     "output_type": "stream",
     "text": [
      "C:\\Users\\Sridhar Kamoji\\AppData\\Roaming\\Python\\Python38\\site-packages\\huggingface_hub\\snapshot_download.py:6: FutureWarning: snapshot_download.py has been made private and will no longer be available from version 0.11. Please use `from huggingface_hub import snapshot_download` to import the only public function in this module. Other members of the file may be changed without a deprecation notice.\n",
      "  warnings.warn(\n"
     ]
    }
   ],
   "source": [
    "import transformers\n",
    "import torch\n",
    "import pandas as pd\n",
    "import datasets\n",
    "import nltk\n",
    "import sentence_transformers\n",
    "import ast\n",
    "import math\n",
    "import matplotlib.pyplot as plt"
   ]
  },
  {
   "cell_type": "code",
   "execution_count": 3,
   "metadata": {},
   "outputs": [],
   "source": [
    "from transformers import AutoModelForMaskedLM, DistilBertConfig\n",
    "from transformers import AutoTokenizer\n",
    "import torch\n",
    "import pandas as pd\n",
    "import os\n",
    "from datasets import Dataset, DatasetDict"
   ]
  },
  {
   "cell_type": "markdown",
   "metadata": {},
   "source": [
    "### Load Pretrained Distilbert modes"
   ]
  },
  {
   "cell_type": "code",
   "execution_count": 4,
   "metadata": {
    "scrolled": true
   },
   "outputs": [],
   "source": [
    "model_checkpoint = \"distilbert-base-uncased\"\n",
    "config = DistilBertConfig(output_hidden_states = True)\n",
    "model = AutoModelForMaskedLM.from_pretrained(model_checkpoint, config = config)\n",
    "tokenizer = AutoTokenizer.from_pretrained(model_checkpoint)"
   ]
  },
  {
   "cell_type": "markdown",
   "metadata": {},
   "source": [
    "### Load Data"
   ]
  },
  {
   "cell_type": "code",
   "execution_count": 5,
   "metadata": {},
   "outputs": [
    {
     "name": "stderr",
     "output_type": "stream",
     "text": [
      "Using custom data configuration fabiochiu--medium-articles-96791ff68926910d\n",
      "Reusing dataset csv (C:\\Users\\Sridhar Kamoji\\.cache\\huggingface\\datasets\\fabiochiu___csv\\fabiochiu--medium-articles-96791ff68926910d\\0.0.0\\652c3096f041ee27b04d2232d41f10547a8fecda3e284a79a0ec4053c916ef7a)\n"
     ]
    },
    {
     "data": {
      "application/vnd.jupyter.widget-view+json": {
       "model_id": "36804afdbb3c463788b251d959987935",
       "version_major": 2,
       "version_minor": 0
      },
      "text/plain": [
       "  0%|          | 0/1 [00:00<?, ?it/s]"
      ]
     },
     "metadata": {},
     "output_type": "display_data"
    }
   ],
   "source": [
    "# Dataset Ref:\n",
    "# https://huggingface.co/datasets/fabiochiu/medium-articles\n",
    "data = datasets.load_dataset('fabiochiu/medium-articles', data_files= 'medium_articles.csv')\n",
    "\n",
    "# converting the dataset_dictionary object to pandas dataframe\n",
    "data = pd.DataFrame.from_dict(data['train'])"
   ]
  },
  {
   "cell_type": "code",
   "execution_count": 6,
   "metadata": {},
   "outputs": [],
   "source": [
    "data['tags'] = [ast.literal_eval(x) for x in data['tags']]\n",
    "data['tags_joined'] = [', '.join(x) for x in data['tags']]\n",
    "\n",
    "data['bert_text'] = data['title'] + '\\n\\n\\n' + data['text'] + '\\n\\n\\n' + 'This article belong to the following segments ' + data['tags_joined']\n",
    "\n",
    "data['label'] = 0\n",
    "\n",
    "data.dropna(inplace = True)\n",
    "data.reset_index(drop = True, inplace = True)"
   ]
  },
  {
   "cell_type": "code",
   "execution_count": 7,
   "metadata": {},
   "outputs": [
    {
     "data": {
      "text/plain": [
       "(192361, 9)"
      ]
     },
     "execution_count": 7,
     "metadata": {},
     "output_type": "execute_result"
    }
   ],
   "source": [
    "data.shape"
   ]
  },
  {
   "cell_type": "markdown",
   "metadata": {},
   "source": [
    "### Sample the data for fine tuning"
   ]
  },
  {
   "cell_type": "code",
   "execution_count": 8,
   "metadata": {
    "scrolled": true
   },
   "outputs": [],
   "source": [
    "train_df = data[['bert_text', 'label']].sample(n = 2000).copy()\n",
    "train_dataset = Dataset.from_dict(train_df)\n",
    "\n",
    "# converting into dataset object\n",
    "bert_dataset = DatasetDict({'train': train_dataset})"
   ]
  },
  {
   "cell_type": "code",
   "execution_count": 9,
   "metadata": {},
   "outputs": [
    {
     "data": {
      "text/plain": [
       "DatasetDict({\n",
       "    train: Dataset({\n",
       "        features: ['bert_text', 'label'],\n",
       "        num_rows: 2000\n",
       "    })\n",
       "})"
      ]
     },
     "execution_count": 9,
     "metadata": {},
     "output_type": "execute_result"
    }
   ],
   "source": [
    "bert_dataset"
   ]
  },
  {
   "cell_type": "code",
   "execution_count": 10,
   "metadata": {
    "scrolled": true
   },
   "outputs": [
    {
     "name": "stdout",
     "output_type": "stream",
     "text": [
      "\n",
      "'>>> Review: My Body — The Frenemy. Trigger Warning: Strong language, body…\n",
      "\n",
      "\n",
      "Trigger Warning: Strong language, body dysmorphia, self harm, disordered eating, anxiety, depression\n",
      "\n",
      "For most of my childhood I had no issues with my body. It looked fine, it worked fine, I didn’t think twice about it.\n",
      "\n",
      "The first time I was forced to consider my physicality was at the end of college when my boyfriend at the time called me pleasantly plump. It was a shock to me, Ms. Effortlessly Skinny that I could ever be perceived as plump. Seeing myself in the mirror I wouldn’t have really considered myself fat. I saw myself as I always saw myself. A few extra stretch marks here and there, but the rest seemed fine.\n",
      "\n",
      "It was only through other people’s eyes that I began to notice that I was fat. A few years later my brother also commented that I looked like a family friend of ours who had very big hips. I still couldn’t really wrap my head around it. But over time I started looking around and comparing with everyone else. Yes, I did have to buy Large pants and not just because I’m tall. I googled a bunch of statistics about ideal weight and did some BMI calculations and realized that I was what they called plus size.\n",
      "\n",
      "What the fuck? How was I plus size? When did this even happen? Why is the bar for plus size so low? At clothing stores I started to notice that some places didn’t even carry my size, or my size was never available. Were clothes only meant for small and medium sized people? What were people my size doing?\n",
      "\n",
      "Still, I was 22 and resolved to fix it. I had never been fat and I refused to believe that I had to remain fat. I tried a million different diets. Low carb, keto, calorie counting. I tried weight lifting, yoga, zumba, cardio, whatever was accessible. Then two years later, at 24, I finally found the perfect combination. Powerlifting and low carb. In three months I lost most of the weight. The rest came off slower but by age 25 I was looking slender again. WHEW. I had done it. Mission accomplished, story over, happy ending, roll credits.\n",
      "\n",
      "WRONG.\n",
      "\n",
      "Photo by Anete Lusina from Pexels\n",
      "\n",
      "Age 27. I was asked to gain weight for a film. Cocky from having lost most of my weight in three months, I agreed. I could lose it again. What was the big deal?\n",
      "\n",
      "Age 29. It’s been three years and the weight is still on. I lost and gained and lost weight a few times in between thanks to surgery, international travel, and the death of a loved one, interspersed with rigorous diet, physiotherapy and exercise.\n",
      "\n",
      "I turn 30 in two weeks and I’m in a constant state of conflict. There’s a part of me that wants to just give up, give in, lean into this new body, and own it. A part of me has done that already. The part of me that exercises to feel good, eats clean for clear skin, who carries toddlers and moves furniture and rides a scooter is very happy with my body. I gave away my “thin” clothes, bought new ones in Large, Extra Large, and Extra Extra Large, depending on the brand and the product. I follow body positivity influencers and brands on Instagram, I unfollowed fitness models and actresses with their rail thin bodies. I bought shape wear and high waisted trousers and I’m living my best life. This part of me wears my weight with a middle finger in the air saying “fuck you and you expectations of what my body should look like.”\n",
      "\n",
      "But the other part of me is unwilling to accept this turn of events. Absolutely egotistically fixated on chasing my “ideal” weight. To be completely transparent, I’m only 2 kgs above the ideal maximum for my height. I’m at 77 kgs, 75 is the upper limit of ideal for my height, and my goal weight is 60 kgs. The lower limit for my height is 55 kgs, which would be the REAL ideal. But I’ve hit 60 kgs before and for now I would like to at least get back there. I’ve done it before and I can do it again. 77 now, 75 soon, 70 in a few months, 60 next year, and 55 a few months later. Right?\n",
      "\n",
      "Wrong. What I can’t seem to factor into my calculations is my mental health. At 24 I was in prime shape physically, but mentally I was at my worst. Severely, deeply depressed — crying multiple times a day, every day and hoping and waiting for death to come. I hated being alive. Chasing this damn goal weight was the only thing that gave me a sense of purpose and control.\n",
      "\n",
      "I was motivated purely by self loathing. Every rep in the gym was fuelled by “Move your disgusting body you piece of shit”. Every skipped dinner came from “You don’t deserve food. You deserve to be hungry. Burn your fat, you sick fuck.” On cheat days I would binge eat and vomit because my body couldn’t take what my brain so desperately wanted.\n",
      "\n",
      "Even at 27, just before I gained the weight for the film, I was all over the placed. Recently diagnosed with multiple disorders, emotionally unstable, re-evaluating the foundation on which I had built my life, self harming, anxious, and turbulent. But physically, I was at that sweet 60 kgs on the scale. I barely worked out, lost most of my muscle mass, couldn’t handle my motorcycle, but hey, I was buying Small tops and Medium pants, so all good eh?\n",
      "\n",
      "As 30 comes up, I am emotionally much more aware. Four years of therapy, regular medication, a hundred tools and worksheets and journal entries and meditation sessions later, I am at least aware of my patterns. I don’t fall apart as easily, I don’t get as angry, I am no longer numb and suicidal. I see the joy in the little things — a smile, a hug, a day at the beach, a piece of chocolate. It’s all so much more fulfilling now that my brain gets enough serotonin.\n",
      "\n",
      "The better my mental health gets, the less I seem to be able to punish my body into thinness. Was thinness merely a side effect of a turbulent mind? Was my body fat percentage the only thing I could control while I was a slave to the demons in my head? Was losing weight the only way I could feel a sense of self worth? Is it such a bad thing to be happy and fat?\n",
      "\n",
      "Strangely, regardless of how I feel, it appears that my fatness bothers people so much more than my mental illness did. A thin, mentally ill person doesn’t raise as many eyebrows as a happy fat person. “How strange to be happy when you’re fat”, their looks say. I too am no longer able to fuel my workouts with self loathing. I am no longer able to skip dinner as often as I used to. Every now and then, that voice resurfaces. When I have to send my measurements to a stylist or take pictures in a swimsuit, I suddenly become aware of my dimensions again. Thankfully those moments are only moments now. At the most a few hours on a bad day. No longer my status quo, my default setting.\n",
      "\n",
      "As 30 comes up, I am fighting hard to silence that cruel voice that only has eyes for me. The cruel voice is quiet when I see other people’s bodies, when I work out, when I eat clean. It only rises when I stand on the scale, or measure myself, or try on clothes. As 30 comes up, I will fight harder to silence that voice. I will lean in to the part of me that is happy, that is active, that is mindful about eating. I will fall apart once a month or so, but there will be no more skipped dinners and binge/purge cheat days. There will instead be an hour of physical activity every day, a little cheese on my bread, a little chocolate on my tongue, and a bit of beer on a Sunday.\n",
      "\n",
      "Whatever the scale will be, will be.\n",
      "\n",
      "\n",
      "This article belong to the following segments Body Positivity, Weight Loss, Weight, Body Acceptance, Acceptance'\n",
      "'>>> Label: My Body — The Frenemy. Trigger Warning: Strong language, body…\n",
      "\n",
      "\n",
      "Trigger Warning: Strong language, body dysmorphia, self harm, disordered eating, anxiety, depression\n",
      "\n",
      "For most of my childhood I had no issues with my body. It looked fine, it worked fine, I didn’t think twice about it.\n",
      "\n",
      "The first time I was forced to consider my physicality was at the end of college when my boyfriend at the time called me pleasantly plump. It was a shock to me, Ms. Effortlessly Skinny that I could ever be perceived as plump. Seeing myself in the mirror I wouldn’t have really considered myself fat. I saw myself as I always saw myself. A few extra stretch marks here and there, but the rest seemed fine.\n",
      "\n",
      "It was only through other people’s eyes that I began to notice that I was fat. A few years later my brother also commented that I looked like a family friend of ours who had very big hips. I still couldn’t really wrap my head around it. But over time I started looking around and comparing with everyone else. Yes, I did have to buy Large pants and not just because I’m tall. I googled a bunch of statistics about ideal weight and did some BMI calculations and realized that I was what they called plus size.\n",
      "\n",
      "What the fuck? How was I plus size? When did this even happen? Why is the bar for plus size so low? At clothing stores I started to notice that some places didn’t even carry my size, or my size was never available. Were clothes only meant for small and medium sized people? What were people my size doing?\n",
      "\n",
      "Still, I was 22 and resolved to fix it. I had never been fat and I refused to believe that I had to remain fat. I tried a million different diets. Low carb, keto, calorie counting. I tried weight lifting, yoga, zumba, cardio, whatever was accessible. Then two years later, at 24, I finally found the perfect combination. Powerlifting and low carb. In three months I lost most of the weight. The rest came off slower but by age 25 I was looking slender again. WHEW. I had done it. Mission accomplished, story over, happy ending, roll credits.\n",
      "\n",
      "WRONG.\n",
      "\n",
      "Photo by Anete Lusina from Pexels\n",
      "\n",
      "Age 27. I was asked to gain weight for a film. Cocky from having lost most of my weight in three months, I agreed. I could lose it again. What was the big deal?\n",
      "\n",
      "Age 29. It’s been three years and the weight is still on. I lost and gained and lost weight a few times in between thanks to surgery, international travel, and the death of a loved one, interspersed with rigorous diet, physiotherapy and exercise.\n",
      "\n",
      "I turn 30 in two weeks and I’m in a constant state of conflict. There’s a part of me that wants to just give up, give in, lean into this new body, and own it. A part of me has done that already. The part of me that exercises to feel good, eats clean for clear skin, who carries toddlers and moves furniture and rides a scooter is very happy with my body. I gave away my “thin” clothes, bought new ones in Large, Extra Large, and Extra Extra Large, depending on the brand and the product. I follow body positivity influencers and brands on Instagram, I unfollowed fitness models and actresses with their rail thin bodies. I bought shape wear and high waisted trousers and I’m living my best life. This part of me wears my weight with a middle finger in the air saying “fuck you and you expectations of what my body should look like.”\n",
      "\n",
      "But the other part of me is unwilling to accept this turn of events. Absolutely egotistically fixated on chasing my “ideal” weight. To be completely transparent, I’m only 2 kgs above the ideal maximum for my height. I’m at 77 kgs, 75 is the upper limit of ideal for my height, and my goal weight is 60 kgs. The lower limit for my height is 55 kgs, which would be the REAL ideal. But I’ve hit 60 kgs before and for now I would like to at least get back there. I’ve done it before and I can do it again. 77 now, 75 soon, 70 in a few months, 60 next year, and 55 a few months later. Right?\n",
      "\n",
      "Wrong. What I can’t seem to factor into my calculations is my mental health. At 24 I was in prime shape physically, but mentally I was at my worst. Severely, deeply depressed — crying multiple times a day, every day and hoping and waiting for death to come. I hated being alive. Chasing this damn goal weight was the only thing that gave me a sense of purpose and control.\n",
      "\n",
      "I was motivated purely by self loathing. Every rep in the gym was fuelled by “Move your disgusting body you piece of shit”. Every skipped dinner came from “You don’t deserve food. You deserve to be hungry. Burn your fat, you sick fuck.” On cheat days I would binge eat and vomit because my body couldn’t take what my brain so desperately wanted.\n",
      "\n",
      "Even at 27, just before I gained the weight for the film, I was all over the placed. Recently diagnosed with multiple disorders, emotionally unstable, re-evaluating the foundation on which I had built my life, self harming, anxious, and turbulent. But physically, I was at that sweet 60 kgs on the scale. I barely worked out, lost most of my muscle mass, couldn’t handle my motorcycle, but hey, I was buying Small tops and Medium pants, so all good eh?\n",
      "\n",
      "As 30 comes up, I am emotionally much more aware. Four years of therapy, regular medication, a hundred tools and worksheets and journal entries and meditation sessions later, I am at least aware of my patterns. I don’t fall apart as easily, I don’t get as angry, I am no longer numb and suicidal. I see the joy in the little things — a smile, a hug, a day at the beach, a piece of chocolate. It’s all so much more fulfilling now that my brain gets enough serotonin.\n",
      "\n",
      "The better my mental health gets, the less I seem to be able to punish my body into thinness. Was thinness merely a side effect of a turbulent mind? Was my body fat percentage the only thing I could control while I was a slave to the demons in my head? Was losing weight the only way I could feel a sense of self worth? Is it such a bad thing to be happy and fat?\n",
      "\n",
      "Strangely, regardless of how I feel, it appears that my fatness bothers people so much more than my mental illness did. A thin, mentally ill person doesn’t raise as many eyebrows as a happy fat person. “How strange to be happy when you’re fat”, their looks say. I too am no longer able to fuel my workouts with self loathing. I am no longer able to skip dinner as often as I used to. Every now and then, that voice resurfaces. When I have to send my measurements to a stylist or take pictures in a swimsuit, I suddenly become aware of my dimensions again. Thankfully those moments are only moments now. At the most a few hours on a bad day. No longer my status quo, my default setting.\n",
      "\n",
      "As 30 comes up, I am fighting hard to silence that cruel voice that only has eyes for me. The cruel voice is quiet when I see other people’s bodies, when I work out, when I eat clean. It only rises when I stand on the scale, or measure myself, or try on clothes. As 30 comes up, I will fight harder to silence that voice. I will lean in to the part of me that is happy, that is active, that is mindful about eating. I will fall apart once a month or so, but there will be no more skipped dinners and binge/purge cheat days. There will instead be an hour of physical activity every day, a little cheese on my bread, a little chocolate on my tongue, and a bit of beer on a Sunday.\n",
      "\n",
      "Whatever the scale will be, will be.\n",
      "\n",
      "\n",
      "This article belong to the following segments Body Positivity, Weight Loss, Weight, Body Acceptance, Acceptance'\n",
      "\n",
      "'>>> Review: If You’re Under 50, You Might Not Need To Save for Retirement\n",
      "\n",
      "\n",
      "The other day my Mother gave me an update on what houses in my parents’ neighborhood have been going for. Based on this rough assessment, the house they live in would likely fetch around $150,000 today.\n",
      "\n",
      "My parents bought their house for $85,000 about 28 years ago.\n",
      "\n",
      "If you picked up their house, slapped on a Victorian facade, and moved it to the San Francisco neighborhood where I spent the last few days, it would go for well over a million dollars. In pretty much any neighborhood in The City, you’re looking at $1,000,000. In most parts of California, you could probably ask and get no less than half a million.\n",
      "\n",
      "Location, location, location!\n",
      "\n",
      "The house my parents live in, along with what I think is a modest amount of cash. That’s my inheritance.\n",
      "\n",
      "I’m probably looking at approximately $200,000 to $250,000 total.\n",
      "\n",
      "Here’s the upside — I have an insanely low cost of living that I expect to continue to go lower.\n",
      "\n",
      "I live in Los Angeles. I spend relatively very little on rent. I have a modest car. As my income continues to increase (fingers crossed!), these expenses look to trend even lower.\n",
      "\n",
      "I’m in a solid situation. I look at $100,000 or $200,000 the way other people — with higher costs of living — might look at a million dollars.\n",
      "\n",
      "This is the one thing we don’t fully comprehend about having a low cost of living.\n",
      "\n",
      "We riff condescendingly about inflation. We platitude about making our money go further. But we don’t consider how a low cost of living changes how we value money and decisions such as whether or not to be in the stock market:\n",
      "\n",
      "If you make the decision to get out of the stock market, it should have very little, if anything, to do with making or losing money. It should have everything to do with a realization that you can meet your needs — and then some — with consistent cash flow and a focus on using money to essentially love yourself and love the ones you’re with.\n",
      "\n",
      "Which leads directly to the touchy subject of expecting or counting on or considering however you choose to consider your inheritance (assuming you’re going to get one).\n",
      "\n",
      "As I detailed in a November 2020, Making of a Millionaire article, young people stand to inherit a considerable amount of cash over the next several decades.\n",
      "\n",
      "Call me a callous tool, but this absolutely figures into my financial planning:\n",
      "\n",
      "…I have a pretty good idea how much money I stand to inherit when my parents pass away. My dad just turned 86. My mom is 73. Here’s hoping the inevitable doesn’t happen for a good 20 or 30 years (knock on wood!). But it’s going to happen. Even if I don’t run around thinking about it every day, the relative certainty of receiving what will probably be somewhere in the low-six figures plays into my long-term financial planning. It has to. I’d be stupid to ignore it.\n",
      "\n",
      "The more I think about it, the more I think if you’re in a situation similar to or better than mine, you’d be really stupid to not factor an inheritance into your financial planning.\n",
      "\n",
      "In fact, if you’re under 50, it could be one of the cornerstones of your personal financial situation as you enter relative old age. It’s another reason why young people have the modern luxury of eschewing the notion of traditional retirement.\n",
      "\n",
      "In other words, you don’t have to save for retirement. You save for living.\n",
      "\n",
      "This is not to say you run reckless with your money because you know you’re getting a windfall at some still unknown date in the future. That would be really, really stupid.\n",
      "\n",
      "However, it is to say it’s perfectly okay to acknowledge that the money you’ll likely receive can, probably will, and definitely should have a material impact on your life and future, even if it simply means it lends a hand in facilitating the future you envision.\n",
      "\n",
      "You get a lot of backlash when you talk like this. When you factor in the money your parents or some other relative or friend will leave you.\n",
      "\n",
      "People love to say things like, what if your parents blow through their money or what if they get really unhealthy and need it for medical expenses or what if the housing market collapses?\n",
      "\n",
      "They’ll say anything to detract from what is one legitimate component of many of our future financial landscapes and if you believe in such a thing, retirements.\n",
      "\n",
      "Yet, they go rhetorically crazy on you when you say you prefer to keep your money in cash rather than the stock market.\n",
      "\n",
      "It doesn’t make any sense. Not to me, at least.\n",
      "\n",
      "Counting on inheriting a house, cash, or anything else comes with risk. But it’s no different than any of the other risks we consider when we look ahead to how money — or a lack thereof — will shape our futures.\n",
      "\n",
      "I wrote about risk in a recent Medium article. It’s relevant to the matter at hand:\n",
      "\n",
      "Simply put, you must manage risk no matter the strategy you adopt. Because no matter the strategy you adopt, there will be risk. You can’t tell me my risk is worse than yours. Just as I can’t tell you my risk is less risky than yours. It’s almost wholly subjective unless your strategy is blindly day trading stocks or something. Risk isn’t some objective thing we compete over.\n",
      "\n",
      "I’m willing to forgo aggressive investing in the stock market. I opt for a cash-focused strategy alongside a low cost of living.\n",
      "\n",
      "This alone affords me the life I want to live now and intend to continue to live as I grow older. That’s enjoying each day and traveling with my amazing partner while ensuring my 17-year old daughter morphs into a north of decent adult human.\n",
      "\n",
      "I’m also counting on a low six-figure windfall when my parents pass. Because I live simply (but still like nice things!), one or two hundred grand will go incredibly far for me 10 or 20 years down the line. I tend to label it a wildcard, but one I am quite certain will be there to enhance my situation with money at what will likely be a pivotal time in my life.\n",
      "\n",
      "Not an easy subject to talk about. It’s even taboo in some circles. However, it’s important to take it into account because assessing your anticipated inheritance does and absolutely should influence the money decisions you make while your parents are still alive.\n",
      "\n",
      "If you choose to ignore this element, you’re not budgeting, saving, and spending as effectively and smartly as you otherwise could.\n",
      "\n",
      "\n",
      "This article belong to the following segments Saving, Retirement, Personal Finance, Inheritance, Money'\n",
      "'>>> Label: If You’re Under 50, You Might Not Need To Save for Retirement\n",
      "\n",
      "\n",
      "The other day my Mother gave me an update on what houses in my parents’ neighborhood have been going for. Based on this rough assessment, the house they live in would likely fetch around $150,000 today.\n",
      "\n",
      "My parents bought their house for $85,000 about 28 years ago.\n",
      "\n",
      "If you picked up their house, slapped on a Victorian facade, and moved it to the San Francisco neighborhood where I spent the last few days, it would go for well over a million dollars. In pretty much any neighborhood in The City, you’re looking at $1,000,000. In most parts of California, you could probably ask and get no less than half a million.\n",
      "\n",
      "Location, location, location!\n",
      "\n",
      "The house my parents live in, along with what I think is a modest amount of cash. That’s my inheritance.\n",
      "\n",
      "I’m probably looking at approximately $200,000 to $250,000 total.\n",
      "\n",
      "Here’s the upside — I have an insanely low cost of living that I expect to continue to go lower.\n",
      "\n",
      "I live in Los Angeles. I spend relatively very little on rent. I have a modest car. As my income continues to increase (fingers crossed!), these expenses look to trend even lower.\n",
      "\n",
      "I’m in a solid situation. I look at $100,000 or $200,000 the way other people — with higher costs of living — might look at a million dollars.\n",
      "\n",
      "This is the one thing we don’t fully comprehend about having a low cost of living.\n",
      "\n",
      "We riff condescendingly about inflation. We platitude about making our money go further. But we don’t consider how a low cost of living changes how we value money and decisions such as whether or not to be in the stock market:\n",
      "\n",
      "If you make the decision to get out of the stock market, it should have very little, if anything, to do with making or losing money. It should have everything to do with a realization that you can meet your needs — and then some — with consistent cash flow and a focus on using money to essentially love yourself and love the ones you’re with.\n",
      "\n",
      "Which leads directly to the touchy subject of expecting or counting on or considering however you choose to consider your inheritance (assuming you’re going to get one).\n",
      "\n",
      "As I detailed in a November 2020, Making of a Millionaire article, young people stand to inherit a considerable amount of cash over the next several decades.\n",
      "\n",
      "Call me a callous tool, but this absolutely figures into my financial planning:\n",
      "\n",
      "…I have a pretty good idea how much money I stand to inherit when my parents pass away. My dad just turned 86. My mom is 73. Here’s hoping the inevitable doesn’t happen for a good 20 or 30 years (knock on wood!). But it’s going to happen. Even if I don’t run around thinking about it every day, the relative certainty of receiving what will probably be somewhere in the low-six figures plays into my long-term financial planning. It has to. I’d be stupid to ignore it.\n",
      "\n",
      "The more I think about it, the more I think if you’re in a situation similar to or better than mine, you’d be really stupid to not factor an inheritance into your financial planning.\n",
      "\n",
      "In fact, if you’re under 50, it could be one of the cornerstones of your personal financial situation as you enter relative old age. It’s another reason why young people have the modern luxury of eschewing the notion of traditional retirement.\n",
      "\n",
      "In other words, you don’t have to save for retirement. You save for living.\n",
      "\n",
      "This is not to say you run reckless with your money because you know you’re getting a windfall at some still unknown date in the future. That would be really, really stupid.\n",
      "\n",
      "However, it is to say it’s perfectly okay to acknowledge that the money you’ll likely receive can, probably will, and definitely should have a material impact on your life and future, even if it simply means it lends a hand in facilitating the future you envision.\n",
      "\n",
      "You get a lot of backlash when you talk like this. When you factor in the money your parents or some other relative or friend will leave you.\n",
      "\n",
      "People love to say things like, what if your parents blow through their money or what if they get really unhealthy and need it for medical expenses or what if the housing market collapses?\n",
      "\n",
      "They’ll say anything to detract from what is one legitimate component of many of our future financial landscapes and if you believe in such a thing, retirements.\n",
      "\n",
      "Yet, they go rhetorically crazy on you when you say you prefer to keep your money in cash rather than the stock market.\n",
      "\n",
      "It doesn’t make any sense. Not to me, at least.\n",
      "\n",
      "Counting on inheriting a house, cash, or anything else comes with risk. But it’s no different than any of the other risks we consider when we look ahead to how money — or a lack thereof — will shape our futures.\n",
      "\n",
      "I wrote about risk in a recent Medium article. It’s relevant to the matter at hand:\n",
      "\n",
      "Simply put, you must manage risk no matter the strategy you adopt. Because no matter the strategy you adopt, there will be risk. You can’t tell me my risk is worse than yours. Just as I can’t tell you my risk is less risky than yours. It’s almost wholly subjective unless your strategy is blindly day trading stocks or something. Risk isn’t some objective thing we compete over.\n",
      "\n",
      "I’m willing to forgo aggressive investing in the stock market. I opt for a cash-focused strategy alongside a low cost of living.\n",
      "\n",
      "This alone affords me the life I want to live now and intend to continue to live as I grow older. That’s enjoying each day and traveling with my amazing partner while ensuring my 17-year old daughter morphs into a north of decent adult human.\n",
      "\n",
      "I’m also counting on a low six-figure windfall when my parents pass. Because I live simply (but still like nice things!), one or two hundred grand will go incredibly far for me 10 or 20 years down the line. I tend to label it a wildcard, but one I am quite certain will be there to enhance my situation with money at what will likely be a pivotal time in my life.\n",
      "\n",
      "Not an easy subject to talk about. It’s even taboo in some circles. However, it’s important to take it into account because assessing your anticipated inheritance does and absolutely should influence the money decisions you make while your parents are still alive.\n",
      "\n",
      "If you choose to ignore this element, you’re not budgeting, saving, and spending as effectively and smartly as you otherwise could.\n",
      "\n",
      "\n",
      "This article belong to the following segments Saving, Retirement, Personal Finance, Inheritance, Money'\n",
      "\n",
      "'>>> Review: AYS Daily Digest 28/06/21 — Greek Government Forces Journalists to Delete Footage, Continuing Attacks on Civil Society\n",
      "\n",
      "\n",
      "AYS Daily Digest 28/06/21 — Greek Government Forces Journalists to Delete Footage, Continuing Attacks on Civil Society\n",
      "\n",
      "Protests in Calais against the government’s ban on food distribution. Photo credit: Refugee Info Bus\n",
      "\n",
      "FEATURE\n",
      "\n",
      "Greek Government Continues Attacks on Civil Society By Forcing Journalists to Delete Footage\n",
      "\n",
      "Journalists from an as-yet-unnamed international TV channel were stopped by Greek Coast Guard security in Lesvos. The security forced them to delete hours of footage from their memory card, probably of scenes exposing the truth about border practices.\n",
      "\n",
      "This is far from an isolated incident. The authorities in Greece have been ramping up harassment and intimidation of journalists and other members of civil society, such as NGOs. There have been several incidents of authorities forcing journalists to delete footage or stopping them from freely reporting on conditions in the camps.\n",
      "\n",
      "Dutch journalist Ingeborg Beugel was even arrested for hosting an asylum seeker in her home. She is still waiting for her trial. Legal analysts say that the law under which she was arrested is rarely applied and Beugel herself says that she was most likely targeted for her journalism, which challenges fascist actors on the island of Hydra where she lives.\n",
      "\n",
      "Meanwhile, tabloids and pro-government sites freely publish misinformation, or rampant lies, about people on the move and solidarity workers. The newspaper Parapolitika repeated a report that accused supporters of the Moria 6 who protested in front of the court of arson, trafficking, and all sorts of crimes. The “report” particularly targeted journalists and legal observers that attempted to enter the courtroom, as was their right by law.\n",
      "\n",
      "Amid this tightening landscape for journalists, particularly journalists that wish to publish the truth and act in solidarity with people on the move, our BVMN colleagues disinfaux collective are publishing a new site including analysis on the events in Nea Smyrni earlier this year. Please support their work as their brave journalism is much needed.\n",
      "\n",
      "\n",
      "This article belong to the following segments Greece, Digest, Journalism, Migrants, Refugees'\n",
      "'>>> Label: AYS Daily Digest 28/06/21 — Greek Government Forces Journalists to Delete Footage, Continuing Attacks on Civil Society\n",
      "\n",
      "\n",
      "AYS Daily Digest 28/06/21 — Greek Government Forces Journalists to Delete Footage, Continuing Attacks on Civil Society\n",
      "\n",
      "Protests in Calais against the government’s ban on food distribution. Photo credit: Refugee Info Bus\n",
      "\n",
      "FEATURE\n",
      "\n",
      "Greek Government Continues Attacks on Civil Society By Forcing Journalists to Delete Footage\n",
      "\n",
      "Journalists from an as-yet-unnamed international TV channel were stopped by Greek Coast Guard security in Lesvos. The security forced them to delete hours of footage from their memory card, probably of scenes exposing the truth about border practices.\n",
      "\n",
      "This is far from an isolated incident. The authorities in Greece have been ramping up harassment and intimidation of journalists and other members of civil society, such as NGOs. There have been several incidents of authorities forcing journalists to delete footage or stopping them from freely reporting on conditions in the camps.\n",
      "\n",
      "Dutch journalist Ingeborg Beugel was even arrested for hosting an asylum seeker in her home. She is still waiting for her trial. Legal analysts say that the law under which she was arrested is rarely applied and Beugel herself says that she was most likely targeted for her journalism, which challenges fascist actors on the island of Hydra where she lives.\n",
      "\n",
      "Meanwhile, tabloids and pro-government sites freely publish misinformation, or rampant lies, about people on the move and solidarity workers. The newspaper Parapolitika repeated a report that accused supporters of the Moria 6 who protested in front of the court of arson, trafficking, and all sorts of crimes. The “report” particularly targeted journalists and legal observers that attempted to enter the courtroom, as was their right by law.\n",
      "\n",
      "Amid this tightening landscape for journalists, particularly journalists that wish to publish the truth and act in solidarity with people on the move, our BVMN colleagues disinfaux collective are publishing a new site including analysis on the events in Nea Smyrni earlier this year. Please support their work as their brave journalism is much needed.\n",
      "\n",
      "\n",
      "This article belong to the following segments Greece, Digest, Journalism, Migrants, Refugees'\n"
     ]
    }
   ],
   "source": [
    "sample = bert_dataset[\"train\"].shuffle(seed=42).select(range(3))\n",
    "\n",
    "for row in sample:\n",
    "    print(f\"\\n'>>> Review: {row['bert_text']}'\")\n",
    "    print(f\"'>>> Label: {row['bert_text']}'\")"
   ]
  },
  {
   "cell_type": "markdown",
   "metadata": {},
   "source": [
    "### Tokenize the text "
   ]
  },
  {
   "cell_type": "code",
   "execution_count": 10,
   "metadata": {},
   "outputs": [
    {
     "data": {
      "application/vnd.jupyter.widget-view+json": {
       "model_id": "e36f33ed30394a34bda8d8eaa26da5c9",
       "version_major": 2,
       "version_minor": 0
      },
      "text/plain": [
       "  0%|          | 0/2 [00:00<?, ?ba/s]"
      ]
     },
     "metadata": {},
     "output_type": "display_data"
    },
    {
     "name": "stderr",
     "output_type": "stream",
     "text": [
      "Token indices sequence length is longer than the specified maximum sequence length for this model (1800 > 512). Running this sequence through the model will result in indexing errors\n"
     ]
    },
    {
     "data": {
      "text/plain": [
       "DatasetDict({\n",
       "    train: Dataset({\n",
       "        features: ['input_ids', 'attention_mask', 'word_ids'],\n",
       "        num_rows: 2000\n",
       "    })\n",
       "})"
      ]
     },
     "execution_count": 10,
     "metadata": {},
     "output_type": "execute_result"
    }
   ],
   "source": [
    "def tokenize_function(examples):\n",
    "    result = tokenizer(examples[\"bert_text\"])\n",
    "    if tokenizer.is_fast:\n",
    "        result[\"word_ids\"] = [result.word_ids(i) for i in range(len(result[\"input_ids\"]))]\n",
    "    return result\n",
    "\n",
    "# Use batched=True to activate fast multithreading!\n",
    "tokenized_datasets = bert_dataset.map(\n",
    "    tokenize_function, batched=True, remove_columns=[\"bert_text\", \"label\"]\n",
    ")\n",
    "tokenized_datasets"
   ]
  },
  {
   "cell_type": "markdown",
   "metadata": {},
   "source": [
    "### Group and split the text"
   ]
  },
  {
   "cell_type": "code",
   "execution_count": 11,
   "metadata": {},
   "outputs": [
    {
     "data": {
      "text/plain": [
       "512"
      ]
     },
     "execution_count": 11,
     "metadata": {},
     "output_type": "execute_result"
    }
   ],
   "source": [
    "tokenizer.model_max_length"
   ]
  },
  {
   "cell_type": "markdown",
   "metadata": {},
   "source": [
    "512 is too huge for the GPU, we'll go with the smaller number"
   ]
  },
  {
   "cell_type": "code",
   "execution_count": 12,
   "metadata": {},
   "outputs": [],
   "source": [
    "chunk_size = 128"
   ]
  },
  {
   "cell_type": "markdown",
   "metadata": {},
   "source": [
    "#### Before Chunking the texts"
   ]
  },
  {
   "cell_type": "code",
   "execution_count": 19,
   "metadata": {},
   "outputs": [
    {
     "name": "stdout",
     "output_type": "stream",
     "text": [
      "'>>> Review 0 length: 1800'\n",
      "'>>> Review 1 length: 1851'\n",
      "'>>> Review 2 length: 875'\n"
     ]
    }
   ],
   "source": [
    "tokenized_samples = tokenized_datasets[\"train\"][:3]\n",
    "\n",
    "for idx, sample in enumerate(tokenized_samples[\"input_ids\"]):\n",
    "    print(f\"'>>> Review {idx} length: {len(sample)}'\")"
   ]
  },
  {
   "cell_type": "code",
   "execution_count": 14,
   "metadata": {},
   "outputs": [
    {
     "name": "stdout",
     "output_type": "stream",
     "text": [
      "'>>> Concatenated reviews length: 4526'\n"
     ]
    }
   ],
   "source": [
    "concatenated_examples = {\n",
    "    k: sum(tokenized_samples[k], []) for k in tokenized_samples.keys()\n",
    "}\n",
    "total_length = len(concatenated_examples[\"input_ids\"])\n",
    "print(f\"'>>> Concatenated reviews length: {total_length}'\")"
   ]
  },
  {
   "cell_type": "markdown",
   "metadata": {},
   "source": [
    "### After chunking"
   ]
  },
  {
   "cell_type": "code",
   "execution_count": 15,
   "metadata": {},
   "outputs": [
    {
     "name": "stdout",
     "output_type": "stream",
     "text": [
      "'>>> Chunk length: 128'\n",
      "'>>> Chunk length: 128'\n",
      "'>>> Chunk length: 128'\n",
      "'>>> Chunk length: 128'\n",
      "'>>> Chunk length: 128'\n",
      "'>>> Chunk length: 128'\n",
      "'>>> Chunk length: 128'\n",
      "'>>> Chunk length: 128'\n",
      "'>>> Chunk length: 128'\n",
      "'>>> Chunk length: 128'\n",
      "'>>> Chunk length: 128'\n",
      "'>>> Chunk length: 128'\n",
      "'>>> Chunk length: 128'\n",
      "'>>> Chunk length: 128'\n",
      "'>>> Chunk length: 128'\n",
      "'>>> Chunk length: 128'\n",
      "'>>> Chunk length: 128'\n",
      "'>>> Chunk length: 128'\n",
      "'>>> Chunk length: 128'\n",
      "'>>> Chunk length: 128'\n",
      "'>>> Chunk length: 128'\n",
      "'>>> Chunk length: 128'\n",
      "'>>> Chunk length: 128'\n",
      "'>>> Chunk length: 128'\n",
      "'>>> Chunk length: 128'\n",
      "'>>> Chunk length: 128'\n",
      "'>>> Chunk length: 80'\n"
     ]
    }
   ],
   "source": [
    "chunks = {\n",
    "    k: [t[i : i + chunk_size] for i in range(0, total_length, chunk_size)]\n",
    "    for k, t in concatenated_examples.items()\n",
    "}\n",
    "\n",
    "for chunk in chunks[\"input_ids\"]:\n",
    "    print(f\"'>>> Chunk length: {len(chunk)}'\")"
   ]
  },
  {
   "cell_type": "code",
   "execution_count": 21,
   "metadata": {},
   "outputs": [],
   "source": [
    "def group_texts(examples):\n",
    "    # Concatenate all texts\n",
    "    concatenated_examples = {k: sum(examples[k], []) for k in examples.keys()}\n",
    "    # Compute length of concatenated texts\n",
    "    total_length = len(concatenated_examples[list(examples.keys())[0]])\n",
    "    # We drop the last chunk if it's smaller than chunk_size\n",
    "    total_length = (total_length // chunk_size) * chunk_size\n",
    "    # Split by chunks of max_len\n",
    "    result = {\n",
    "        k: [t[i : i + chunk_size] for i in range(0, total_length, chunk_size)]\n",
    "        for k, t in concatenated_examples.items()\n",
    "    }\n",
    "    # Create a new labels column\n",
    "    result[\"labels\"] = result[\"input_ids\"].copy()\n",
    "    return result"
   ]
  },
  {
   "cell_type": "code",
   "execution_count": 22,
   "metadata": {},
   "outputs": [
    {
     "data": {
      "application/vnd.jupyter.widget-view+json": {
       "model_id": "ed5c01024ada42c3a221225f0af0e1de",
       "version_major": 2,
       "version_minor": 0
      },
      "text/plain": [
       "  0%|          | 0/2 [00:00<?, ?ba/s]"
      ]
     },
     "metadata": {},
     "output_type": "display_data"
    },
    {
     "data": {
      "text/plain": [
       "DatasetDict({\n",
       "    train: Dataset({\n",
       "        features: ['input_ids', 'attention_mask', 'word_ids', 'labels'],\n",
       "        num_rows: 18321\n",
       "    })\n",
       "})"
      ]
     },
     "execution_count": 22,
     "metadata": {},
     "output_type": "execute_result"
    }
   ],
   "source": [
    "lm_datasets = tokenized_datasets.map(group_texts, batched=True)\n",
    "lm_datasets"
   ]
  },
  {
   "cell_type": "code",
   "execution_count": 23,
   "metadata": {},
   "outputs": [
    {
     "data": {
      "text/plain": [
       "'that should be closely emphasized ; loving mentions that the word “ mercy ” is not the one that is italicized in the first line for a reason — because it is not the prevailing sentiment. loving also brings attention to the duplicity “ benighted ” carries, and how it is a euphemism for ignorant yet literally translate to “ surrounded by darkness. ” the darkness, argues loving, is not her pre - christian existence ; it is her abduction from her homeland by slave traders. the emphasis on the word “ saviour ” highlights the distinction from god himself, and loving claims that this distinction is a satirical reference to'"
      ]
     },
     "execution_count": 23,
     "metadata": {},
     "output_type": "execute_result"
    }
   ],
   "source": [
    "tokenizer.decode(lm_datasets[\"train\"][900][\"input_ids\"])"
   ]
  },
  {
   "cell_type": "code",
   "execution_count": 24,
   "metadata": {},
   "outputs": [
    {
     "data": {
      "text/plain": [
       "'that should be closely emphasized ; loving mentions that the word “ mercy ” is not the one that is italicized in the first line for a reason — because it is not the prevailing sentiment. loving also brings attention to the duplicity “ benighted ” carries, and how it is a euphemism for ignorant yet literally translate to “ surrounded by darkness. ” the darkness, argues loving, is not her pre - christian existence ; it is her abduction from her homeland by slave traders. the emphasis on the word “ saviour ” highlights the distinction from god himself, and loving claims that this distinction is a satirical reference to'"
      ]
     },
     "execution_count": 24,
     "metadata": {},
     "output_type": "execute_result"
    }
   ],
   "source": [
    "tokenizer.decode(lm_datasets[\"train\"][900][\"labels\"])"
   ]
  },
  {
   "cell_type": "markdown",
   "metadata": {},
   "source": [
    "### Fine-tuning DistilBERT with the Huggingface Trainer API"
   ]
  },
  {
   "cell_type": "code",
   "execution_count": 25,
   "metadata": {},
   "outputs": [],
   "source": [
    "from transformers import DataCollatorForLanguageModeling\n",
    "\n",
    "data_collator = DataCollatorForLanguageModeling(tokenizer=tokenizer, mlm_probability=0.15)"
   ]
  },
  {
   "cell_type": "code",
   "execution_count": 26,
   "metadata": {},
   "outputs": [
    {
     "name": "stdout",
     "output_type": "stream",
     "text": [
      "\n",
      "'>>> [CLS] tag helpers in asp. net core mvc — sagar jaybhay asp pageuria helper / [MASK] helpers in [MASK] [MASK]. net core mvc [MASK] [MASK] new in asp. [MASK] core. these are a server - side component. it is processed on the server and renders an html element in razor files. it is similar [MASK] html help [MASK] there are so many [MASK] helpers like generating the link, creating forms, etc, to use tag helper we need to import these tag helper first. for example, we need to create anchor [MASK] [MASK] with the help of tag helper < a'\n",
      "\n",
      "'>>> asp - controller = \" duncan \" asp - [MASK] = \" details \" asp - route - id = \" @ stud. studentid \" > details < / a > in this asp - controller = is took controller name is took controller name asp - action [MASK] is the action or [MASK] name present in that controller is the action [MASK] method name present in that controller asp [MASK] route [MASK] id = is the parameter we pass to that method [MASK] you can see if we use packed - helper the [MASK] is changed syntax is good [MASK] [MASK]. now we can see the same example, by html helper. @ [MASK].'\n"
     ]
    }
   ],
   "source": [
    "samples = [lm_datasets[\"train\"][i] for i in range(2)]\n",
    "for sample in samples:\n",
    "    _ = sample.pop(\"word_ids\")\n",
    "\n",
    "for chunk in data_collator(samples)[\"input_ids\"]:\n",
    "    print(f\"\\n'>>> {tokenizer.decode(chunk)}'\")"
   ]
  },
  {
   "cell_type": "markdown",
   "metadata": {},
   "source": [
    "### Whole Word Masking"
   ]
  },
  {
   "cell_type": "code",
   "execution_count": 28,
   "metadata": {},
   "outputs": [],
   "source": [
    "import collections\n",
    "import numpy as np\n",
    "\n",
    "from transformers import default_data_collator\n",
    "\n",
    "wwm_probability = 0.2\n",
    "\n",
    "\n",
    "def whole_word_masking_data_collator(features):\n",
    "    for feature in features:\n",
    "        word_ids = feature.pop(\"word_ids\")\n",
    "\n",
    "        # Create a map between words and corresponding token indices\n",
    "        mapping = collections.defaultdict(list)\n",
    "        current_word_index = -1\n",
    "        current_word = None\n",
    "        for idx, word_id in enumerate(word_ids):\n",
    "            if word_id is not None:\n",
    "                if word_id != current_word:\n",
    "                    current_word = word_id\n",
    "                    current_word_index += 1\n",
    "                mapping[current_word_index].append(idx)\n",
    "\n",
    "        # Randomly mask words\n",
    "        mask = np.random.binomial(1, wwm_probability, (len(mapping),))\n",
    "        input_ids = feature[\"input_ids\"]\n",
    "        labels = feature[\"labels\"]\n",
    "        new_labels = [-100] * len(labels)\n",
    "        for word_id in np.where(mask)[0]:\n",
    "            word_id = word_id.item()\n",
    "            for idx in mapping[word_id]:\n",
    "                new_labels[idx] = labels[idx]\n",
    "                input_ids[idx] = tokenizer.mask_token_id\n",
    "\n",
    "    return default_data_collator(features)"
   ]
  },
  {
   "cell_type": "code",
   "execution_count": 29,
   "metadata": {},
   "outputs": [
    {
     "name": "stdout",
     "output_type": "stream",
     "text": [
      "\n",
      "'>>> [CLS] tag helpers in asp. net [MASK] mvc — sagar jaybhay [MASK] [MASK] page [MASK] helper [MASK] tag helpers [MASK] asp. net [MASK] mvc this is new in asp. net [MASK]. these are [MASK] server - side component. it is processed on [MASK] server and renders an [MASK] element in [MASK] files. it is similar to html helpers [MASK] are so many tag [MASK] [MASK] like generating the link [MASK] creating forms, etc, to use tag helper [MASK] [MASK] [MASK] import these tag helper first. for example, we need to create anchor a tag with the help of [MASK] [MASK] [MASK] < a'\n",
      "\n",
      "'>>> asp [MASK] [MASK] = \" home \" [MASK] [MASK] - [MASK] = [MASK] details \" [MASK] [MASK] - route - [MASK] = \" @ stud. [MASK] [MASK] \" > [MASK] < [MASK] a > in this [MASK] [MASK] - controller = is took controller name is took controller name asp [MASK] action = is the action or method name present in that controller is the action or [MASK] [MASK] present in that controller asp - [MASK] - id [MASK] is the parameter [MASK] [MASK] to [MASK] method. you can see if we use tag [MASK] [MASK] [MASK] the color is changed syntax is good and clean. now we can see the same example [MASK] [MASK] html helper. @ html.'\n"
     ]
    }
   ],
   "source": [
    "samples = [lm_datasets[\"train\"][i] for i in range(2)]\n",
    "batch = whole_word_masking_data_collator(samples)\n",
    "\n",
    "for chunk in batch[\"input_ids\"]:\n",
    "    print(f\"\\n'>>> {tokenizer.decode(chunk)}'\")"
   ]
  },
  {
   "cell_type": "code",
   "execution_count": 30,
   "metadata": {},
   "outputs": [
    {
     "name": "stdout",
     "output_type": "stream",
     "text": [
      "18321\n"
     ]
    },
    {
     "data": {
      "text/plain": [
       "DatasetDict({\n",
       "    train: Dataset({\n",
       "        features: ['input_ids', 'attention_mask', 'word_ids', 'labels'],\n",
       "        num_rows: 16655\n",
       "    })\n",
       "    test: Dataset({\n",
       "        features: ['input_ids', 'attention_mask', 'word_ids', 'labels'],\n",
       "        num_rows: 1665\n",
       "    })\n",
       "})"
      ]
     },
     "execution_count": 30,
     "metadata": {},
     "output_type": "execute_result"
    }
   ],
   "source": [
    "train_size = int(lm_datasets[\"train\"].shape[0]/1.1)\n",
    "test_size = int(0.1 * train_size)\n",
    "\n",
    "downsampled_dataset = lm_datasets[\"train\"].train_test_split(\n",
    "    train_size=train_size, test_size=test_size, seed=42\n",
    ")\n",
    "\n",
    "\n",
    "print(lm_datasets[\"train\"].shape[0])\n",
    "downsampled_dataset"
   ]
  },
  {
   "cell_type": "code",
   "execution_count": 25,
   "metadata": {},
   "outputs": [
    {
     "data": {
      "application/vnd.jupyter.widget-view+json": {
       "model_id": "bfe9a68141764e9e97f47b68d44ac901",
       "version_major": 2,
       "version_minor": 0
      },
      "text/plain": [
       "Flattening the indices:   0%|          | 0/17 [00:00<?, ?ba/s]"
      ]
     },
     "metadata": {},
     "output_type": "display_data"
    },
    {
     "data": {
      "application/vnd.jupyter.widget-view+json": {
       "model_id": "369af2ff2bf34e8391e968ca0db7a5c8",
       "version_major": 2,
       "version_minor": 0
      },
      "text/plain": [
       "Flattening the indices:   0%|          | 0/2 [00:00<?, ?ba/s]"
      ]
     },
     "metadata": {},
     "output_type": "display_data"
    }
   ],
   "source": [
    "downsampled_dataset.save_to_disk('MediumArticlesDataSet4MLMTraining')"
   ]
  },
  {
   "cell_type": "code",
   "execution_count": 36,
   "metadata": {},
   "outputs": [
    {
     "data": {
      "text/plain": [
       "DatasetDict({\n",
       "    train: Dataset({\n",
       "        features: ['input_ids', 'attention_mask', 'word_ids', 'labels'],\n",
       "        num_rows: 16034\n",
       "    })\n",
       "    test: Dataset({\n",
       "        features: ['input_ids', 'attention_mask', 'word_ids', 'labels'],\n",
       "        num_rows: 1603\n",
       "    })\n",
       "})"
      ]
     },
     "execution_count": 36,
     "metadata": {},
     "output_type": "execute_result"
    }
   ],
   "source": [
    "DatasetDict.load_from_disk('MediumArticlesDataSet4MLMTraining')"
   ]
  },
  {
   "cell_type": "code",
   "execution_count": 32,
   "metadata": {},
   "outputs": [
    {
     "name": "stderr",
     "output_type": "stream",
     "text": [
      "PyTorch: setting up devices\n",
      "The default value for the training argument `--report_to` will change in v5 (from all installed integrations to none). In v5, you will need to use `--report_to all` to get the same behavior as now. You should start updating your code and make this info disappear :-).\n"
     ]
    }
   ],
   "source": [
    "from transformers import TrainingArguments\n",
    "\n",
    "batch_size = 32\n",
    "# Show the training loss with every epoch\n",
    "logging_steps = len(downsampled_dataset[\"train\"]) // batch_size\n",
    "model_name = model_checkpoint.split(\"/\")[-1]\n",
    "\n",
    "training_args = TrainingArguments(\n",
    "    output_dir=f\"{model_name}-MediumArticlesMLM\",\n",
    "    overwrite_output_dir=True,\n",
    "    evaluation_strategy=\"epoch\",\n",
    "    learning_rate=2e-5,\n",
    "    weight_decay=0.01,\n",
    "    per_device_train_batch_size=batch_size,\n",
    "    per_device_eval_batch_size=batch_size,\n",
    "    push_to_hub=False,\n",
    "    fp16=True,\n",
    "    logging_steps=logging_steps,\n",
    "    num_train_epochs = 50,\n",
    "    load_best_model_at_end=True,\n",
    "    save_strategy= 'epoch',\n",
    "    metric_for_best_model = 'eval_loss',\n",
    "    greater_is_better = False\n",
    ")"
   ]
  },
  {
   "cell_type": "code",
   "execution_count": 33,
   "metadata": {},
   "outputs": [],
   "source": [
    "from transformers import Trainer, EarlyStoppingCallback, IntervalStrategy"
   ]
  },
  {
   "cell_type": "code",
   "execution_count": 39,
   "metadata": {},
   "outputs": [
    {
     "name": "stderr",
     "output_type": "stream",
     "text": [
      "Using cuda_amp half precision backend\n"
     ]
    }
   ],
   "source": [
    "from transformers import Trainer\n",
    "\n",
    "trainer = Trainer(\n",
    "    model=model,\n",
    "    args=training_args,\n",
    "    train_dataset=downsampled_dataset[\"train\"],\n",
    "    eval_dataset=downsampled_dataset[\"test\"],\n",
    "    data_collator=data_collator,\n",
    ")"
   ]
  },
  {
   "cell_type": "code",
   "execution_count": 40,
   "metadata": {
    "scrolled": true
   },
   "outputs": [
    {
     "name": "stderr",
     "output_type": "stream",
     "text": [
      "The following columns in the evaluation set don't have a corresponding argument in `DistilBertForMaskedLM.forward` and have been ignored: word_ids. If word_ids are not expected by `DistilBertForMaskedLM.forward`,  you can safely ignore this message.\n",
      "***** Running Evaluation *****\n",
      "  Num examples = 1603\n",
      "  Batch size = 32\n"
     ]
    },
    {
     "data": {
      "text/html": [
       "\n",
       "    <div>\n",
       "      \n",
       "      <progress value='102' max='51' style='width:300px; height:20px; vertical-align: middle;'></progress>\n",
       "      [51/51 01:26]\n",
       "    </div>\n",
       "    "
      ],
      "text/plain": [
       "<IPython.core.display.HTML object>"
      ]
     },
     "metadata": {},
     "output_type": "display_data"
    },
    {
     "name": "stdout",
     "output_type": "stream",
     "text": [
      ">>> Perplexity: 27.09\n"
     ]
    }
   ],
   "source": [
    "import math\n",
    "\n",
    "eval_results = trainer.evaluate()\n",
    "print(f\">>> Perplexity: {math.exp(eval_results['eval_loss']):.2f}\")"
   ]
  },
  {
   "cell_type": "code",
   "execution_count": 41,
   "metadata": {
    "scrolled": true
   },
   "outputs": [
    {
     "name": "stderr",
     "output_type": "stream",
     "text": [
      "The following columns in the training set don't have a corresponding argument in `DistilBertForMaskedLM.forward` and have been ignored: word_ids. If word_ids are not expected by `DistilBertForMaskedLM.forward`,  you can safely ignore this message.\n",
      "***** Running training *****\n",
      "  Num examples = 16034\n",
      "  Num Epochs = 50\n",
      "  Instantaneous batch size per device = 32\n",
      "  Total train batch size (w. parallel, distributed & accumulation) = 32\n",
      "  Gradient Accumulation steps = 1\n",
      "  Total optimization steps = 25100\n"
     ]
    },
    {
     "data": {
      "text/html": [
       "\n",
       "    <div>\n",
       "      \n",
       "      <progress value='25100' max='25100' style='width:300px; height:20px; vertical-align: middle;'></progress>\n",
       "      [25100/25100 1:36:57, Epoch 50/50]\n",
       "    </div>\n",
       "    <table border=\"1\" class=\"dataframe\">\n",
       "  <thead>\n",
       " <tr style=\"text-align: left;\">\n",
       "      <th>Epoch</th>\n",
       "      <th>Training Loss</th>\n",
       "      <th>Validation Loss</th>\n",
       "    </tr>\n",
       "  </thead>\n",
       "  <tbody>\n",
       "    <tr>\n",
       "      <td>1</td>\n",
       "      <td>2.751600</td>\n",
       "      <td>2.542353</td>\n",
       "    </tr>\n",
       "    <tr>\n",
       "      <td>2</td>\n",
       "      <td>2.612900</td>\n",
       "      <td>2.505242</td>\n",
       "    </tr>\n",
       "    <tr>\n",
       "      <td>3</td>\n",
       "      <td>2.562500</td>\n",
       "      <td>2.452511</td>\n",
       "    </tr>\n",
       "    <tr>\n",
       "      <td>4</td>\n",
       "      <td>2.516400</td>\n",
       "      <td>2.437785</td>\n",
       "    </tr>\n",
       "    <tr>\n",
       "      <td>5</td>\n",
       "      <td>2.477500</td>\n",
       "      <td>2.405717</td>\n",
       "    </tr>\n",
       "    <tr>\n",
       "      <td>6</td>\n",
       "      <td>2.445700</td>\n",
       "      <td>2.419353</td>\n",
       "    </tr>\n",
       "    <tr>\n",
       "      <td>7</td>\n",
       "      <td>2.426400</td>\n",
       "      <td>2.376204</td>\n",
       "    </tr>\n",
       "    <tr>\n",
       "      <td>8</td>\n",
       "      <td>2.408300</td>\n",
       "      <td>2.344040</td>\n",
       "    </tr>\n",
       "    <tr>\n",
       "      <td>9</td>\n",
       "      <td>2.380200</td>\n",
       "      <td>2.379923</td>\n",
       "    </tr>\n",
       "    <tr>\n",
       "      <td>10</td>\n",
       "      <td>2.354000</td>\n",
       "      <td>2.394961</td>\n",
       "    </tr>\n",
       "    <tr>\n",
       "      <td>11</td>\n",
       "      <td>2.342400</td>\n",
       "      <td>2.385164</td>\n",
       "    </tr>\n",
       "    <tr>\n",
       "      <td>12</td>\n",
       "      <td>2.330600</td>\n",
       "      <td>2.358645</td>\n",
       "    </tr>\n",
       "    <tr>\n",
       "      <td>13</td>\n",
       "      <td>2.304000</td>\n",
       "      <td>2.350868</td>\n",
       "    </tr>\n",
       "    <tr>\n",
       "      <td>14</td>\n",
       "      <td>2.290300</td>\n",
       "      <td>2.341634</td>\n",
       "    </tr>\n",
       "    <tr>\n",
       "      <td>15</td>\n",
       "      <td>2.259800</td>\n",
       "      <td>2.337166</td>\n",
       "    </tr>\n",
       "    <tr>\n",
       "      <td>16</td>\n",
       "      <td>2.259000</td>\n",
       "      <td>2.328170</td>\n",
       "    </tr>\n",
       "    <tr>\n",
       "      <td>17</td>\n",
       "      <td>2.248400</td>\n",
       "      <td>2.334898</td>\n",
       "    </tr>\n",
       "    <tr>\n",
       "      <td>18</td>\n",
       "      <td>2.234300</td>\n",
       "      <td>2.298807</td>\n",
       "    </tr>\n",
       "    <tr>\n",
       "      <td>19</td>\n",
       "      <td>2.225600</td>\n",
       "      <td>2.321241</td>\n",
       "    </tr>\n",
       "    <tr>\n",
       "      <td>20</td>\n",
       "      <td>2.206700</td>\n",
       "      <td>2.296066</td>\n",
       "    </tr>\n",
       "    <tr>\n",
       "      <td>21</td>\n",
       "      <td>2.193600</td>\n",
       "      <td>2.301944</td>\n",
       "    </tr>\n",
       "    <tr>\n",
       "      <td>22</td>\n",
       "      <td>2.177600</td>\n",
       "      <td>2.290956</td>\n",
       "    </tr>\n",
       "    <tr>\n",
       "      <td>23</td>\n",
       "      <td>2.171800</td>\n",
       "      <td>2.299638</td>\n",
       "    </tr>\n",
       "    <tr>\n",
       "      <td>24</td>\n",
       "      <td>2.166000</td>\n",
       "      <td>2.282393</td>\n",
       "    </tr>\n",
       "    <tr>\n",
       "      <td>25</td>\n",
       "      <td>2.153200</td>\n",
       "      <td>2.296058</td>\n",
       "    </tr>\n",
       "    <tr>\n",
       "      <td>26</td>\n",
       "      <td>2.142900</td>\n",
       "      <td>2.264341</td>\n",
       "    </tr>\n",
       "    <tr>\n",
       "      <td>27</td>\n",
       "      <td>2.132000</td>\n",
       "      <td>2.279764</td>\n",
       "    </tr>\n",
       "    <tr>\n",
       "      <td>28</td>\n",
       "      <td>2.133200</td>\n",
       "      <td>2.279757</td>\n",
       "    </tr>\n",
       "    <tr>\n",
       "      <td>29</td>\n",
       "      <td>2.120100</td>\n",
       "      <td>2.267356</td>\n",
       "    </tr>\n",
       "    <tr>\n",
       "      <td>30</td>\n",
       "      <td>2.116200</td>\n",
       "      <td>2.283116</td>\n",
       "    </tr>\n",
       "    <tr>\n",
       "      <td>31</td>\n",
       "      <td>2.111300</td>\n",
       "      <td>2.304079</td>\n",
       "    </tr>\n",
       "    <tr>\n",
       "      <td>32</td>\n",
       "      <td>2.105500</td>\n",
       "      <td>2.308323</td>\n",
       "    </tr>\n",
       "    <tr>\n",
       "      <td>33</td>\n",
       "      <td>2.101500</td>\n",
       "      <td>2.249571</td>\n",
       "    </tr>\n",
       "    <tr>\n",
       "      <td>34</td>\n",
       "      <td>2.090600</td>\n",
       "      <td>2.295495</td>\n",
       "    </tr>\n",
       "    <tr>\n",
       "      <td>35</td>\n",
       "      <td>2.086400</td>\n",
       "      <td>2.278257</td>\n",
       "    </tr>\n",
       "    <tr>\n",
       "      <td>36</td>\n",
       "      <td>2.081300</td>\n",
       "      <td>2.271440</td>\n",
       "    </tr>\n",
       "    <tr>\n",
       "      <td>37</td>\n",
       "      <td>2.091200</td>\n",
       "      <td>2.234169</td>\n",
       "    </tr>\n",
       "    <tr>\n",
       "      <td>38</td>\n",
       "      <td>2.067900</td>\n",
       "      <td>2.277145</td>\n",
       "    </tr>\n",
       "    <tr>\n",
       "      <td>39</td>\n",
       "      <td>2.064300</td>\n",
       "      <td>2.279839</td>\n",
       "    </tr>\n",
       "    <tr>\n",
       "      <td>40</td>\n",
       "      <td>2.068800</td>\n",
       "      <td>2.234153</td>\n",
       "    </tr>\n",
       "    <tr>\n",
       "      <td>41</td>\n",
       "      <td>2.055100</td>\n",
       "      <td>2.247904</td>\n",
       "    </tr>\n",
       "    <tr>\n",
       "      <td>42</td>\n",
       "      <td>2.061400</td>\n",
       "      <td>2.230593</td>\n",
       "    </tr>\n",
       "    <tr>\n",
       "      <td>43</td>\n",
       "      <td>2.051700</td>\n",
       "      <td>2.262967</td>\n",
       "    </tr>\n",
       "    <tr>\n",
       "      <td>44</td>\n",
       "      <td>2.048400</td>\n",
       "      <td>2.258975</td>\n",
       "    </tr>\n",
       "    <tr>\n",
       "      <td>45</td>\n",
       "      <td>2.053200</td>\n",
       "      <td>2.277974</td>\n",
       "    </tr>\n",
       "    <tr>\n",
       "      <td>46</td>\n",
       "      <td>2.043300</td>\n",
       "      <td>2.248677</td>\n",
       "    </tr>\n",
       "    <tr>\n",
       "      <td>47</td>\n",
       "      <td>2.053800</td>\n",
       "      <td>2.252967</td>\n",
       "    </tr>\n",
       "    <tr>\n",
       "      <td>48</td>\n",
       "      <td>2.044400</td>\n",
       "      <td>2.218862</td>\n",
       "    </tr>\n",
       "    <tr>\n",
       "      <td>49</td>\n",
       "      <td>2.045200</td>\n",
       "      <td>2.230535</td>\n",
       "    </tr>\n",
       "    <tr>\n",
       "      <td>50</td>\n",
       "      <td>2.038800</td>\n",
       "      <td>2.222864</td>\n",
       "    </tr>\n",
       "  </tbody>\n",
       "</table><p>"
      ],
      "text/plain": [
       "<IPython.core.display.HTML object>"
      ]
     },
     "metadata": {},
     "output_type": "display_data"
    },
    {
     "name": "stderr",
     "output_type": "stream",
     "text": [
      "The following columns in the evaluation set don't have a corresponding argument in `DistilBertForMaskedLM.forward` and have been ignored: word_ids. If word_ids are not expected by `DistilBertForMaskedLM.forward`,  you can safely ignore this message.\n",
      "***** Running Evaluation *****\n",
      "  Num examples = 1603\n",
      "  Batch size = 32\n",
      "Saving model checkpoint to distilbert-base-uncased-MediumArticlesMLM\\checkpoint-502\n",
      "Configuration saved in distilbert-base-uncased-MediumArticlesMLM\\checkpoint-502\\config.json\n",
      "Model weights saved in distilbert-base-uncased-MediumArticlesMLM\\checkpoint-502\\pytorch_model.bin\n",
      "The following columns in the evaluation set don't have a corresponding argument in `DistilBertForMaskedLM.forward` and have been ignored: word_ids. If word_ids are not expected by `DistilBertForMaskedLM.forward`,  you can safely ignore this message.\n",
      "***** Running Evaluation *****\n",
      "  Num examples = 1603\n",
      "  Batch size = 32\n",
      "Saving model checkpoint to distilbert-base-uncased-MediumArticlesMLM\\checkpoint-1004\n",
      "Configuration saved in distilbert-base-uncased-MediumArticlesMLM\\checkpoint-1004\\config.json\n",
      "Model weights saved in distilbert-base-uncased-MediumArticlesMLM\\checkpoint-1004\\pytorch_model.bin\n",
      "The following columns in the evaluation set don't have a corresponding argument in `DistilBertForMaskedLM.forward` and have been ignored: word_ids. If word_ids are not expected by `DistilBertForMaskedLM.forward`,  you can safely ignore this message.\n",
      "***** Running Evaluation *****\n",
      "  Num examples = 1603\n",
      "  Batch size = 32\n",
      "Saving model checkpoint to distilbert-base-uncased-MediumArticlesMLM\\checkpoint-1506\n",
      "Configuration saved in distilbert-base-uncased-MediumArticlesMLM\\checkpoint-1506\\config.json\n",
      "Model weights saved in distilbert-base-uncased-MediumArticlesMLM\\checkpoint-1506\\pytorch_model.bin\n",
      "The following columns in the evaluation set don't have a corresponding argument in `DistilBertForMaskedLM.forward` and have been ignored: word_ids. If word_ids are not expected by `DistilBertForMaskedLM.forward`,  you can safely ignore this message.\n",
      "***** Running Evaluation *****\n",
      "  Num examples = 1603\n",
      "  Batch size = 32\n",
      "Saving model checkpoint to distilbert-base-uncased-MediumArticlesMLM\\checkpoint-2008\n",
      "Configuration saved in distilbert-base-uncased-MediumArticlesMLM\\checkpoint-2008\\config.json\n",
      "Model weights saved in distilbert-base-uncased-MediumArticlesMLM\\checkpoint-2008\\pytorch_model.bin\n",
      "The following columns in the evaluation set don't have a corresponding argument in `DistilBertForMaskedLM.forward` and have been ignored: word_ids. If word_ids are not expected by `DistilBertForMaskedLM.forward`,  you can safely ignore this message.\n",
      "***** Running Evaluation *****\n",
      "  Num examples = 1603\n",
      "  Batch size = 32\n",
      "Saving model checkpoint to distilbert-base-uncased-MediumArticlesMLM\\checkpoint-2510\n",
      "Configuration saved in distilbert-base-uncased-MediumArticlesMLM\\checkpoint-2510\\config.json\n",
      "Model weights saved in distilbert-base-uncased-MediumArticlesMLM\\checkpoint-2510\\pytorch_model.bin\n",
      "The following columns in the evaluation set don't have a corresponding argument in `DistilBertForMaskedLM.forward` and have been ignored: word_ids. If word_ids are not expected by `DistilBertForMaskedLM.forward`,  you can safely ignore this message.\n",
      "***** Running Evaluation *****\n",
      "  Num examples = 1603\n",
      "  Batch size = 32\n",
      "Saving model checkpoint to distilbert-base-uncased-MediumArticlesMLM\\checkpoint-3012\n",
      "Configuration saved in distilbert-base-uncased-MediumArticlesMLM\\checkpoint-3012\\config.json\n",
      "Model weights saved in distilbert-base-uncased-MediumArticlesMLM\\checkpoint-3012\\pytorch_model.bin\n",
      "The following columns in the evaluation set don't have a corresponding argument in `DistilBertForMaskedLM.forward` and have been ignored: word_ids. If word_ids are not expected by `DistilBertForMaskedLM.forward`,  you can safely ignore this message.\n",
      "***** Running Evaluation *****\n",
      "  Num examples = 1603\n",
      "  Batch size = 32\n",
      "Saving model checkpoint to distilbert-base-uncased-MediumArticlesMLM\\checkpoint-3514\n",
      "Configuration saved in distilbert-base-uncased-MediumArticlesMLM\\checkpoint-3514\\config.json\n",
      "Model weights saved in distilbert-base-uncased-MediumArticlesMLM\\checkpoint-3514\\pytorch_model.bin\n",
      "The following columns in the evaluation set don't have a corresponding argument in `DistilBertForMaskedLM.forward` and have been ignored: word_ids. If word_ids are not expected by `DistilBertForMaskedLM.forward`,  you can safely ignore this message.\n",
      "***** Running Evaluation *****\n",
      "  Num examples = 1603\n",
      "  Batch size = 32\n",
      "Saving model checkpoint to distilbert-base-uncased-MediumArticlesMLM\\checkpoint-4016\n",
      "Configuration saved in distilbert-base-uncased-MediumArticlesMLM\\checkpoint-4016\\config.json\n",
      "Model weights saved in distilbert-base-uncased-MediumArticlesMLM\\checkpoint-4016\\pytorch_model.bin\n",
      "The following columns in the evaluation set don't have a corresponding argument in `DistilBertForMaskedLM.forward` and have been ignored: word_ids. If word_ids are not expected by `DistilBertForMaskedLM.forward`,  you can safely ignore this message.\n",
      "***** Running Evaluation *****\n",
      "  Num examples = 1603\n",
      "  Batch size = 32\n",
      "Saving model checkpoint to distilbert-base-uncased-MediumArticlesMLM\\checkpoint-4518\n",
      "Configuration saved in distilbert-base-uncased-MediumArticlesMLM\\checkpoint-4518\\config.json\n",
      "Model weights saved in distilbert-base-uncased-MediumArticlesMLM\\checkpoint-4518\\pytorch_model.bin\n",
      "The following columns in the evaluation set don't have a corresponding argument in `DistilBertForMaskedLM.forward` and have been ignored: word_ids. If word_ids are not expected by `DistilBertForMaskedLM.forward`,  you can safely ignore this message.\n",
      "***** Running Evaluation *****\n",
      "  Num examples = 1603\n",
      "  Batch size = 32\n",
      "Saving model checkpoint to distilbert-base-uncased-MediumArticlesMLM\\checkpoint-5020\n",
      "Configuration saved in distilbert-base-uncased-MediumArticlesMLM\\checkpoint-5020\\config.json\n",
      "Model weights saved in distilbert-base-uncased-MediumArticlesMLM\\checkpoint-5020\\pytorch_model.bin\n",
      "The following columns in the evaluation set don't have a corresponding argument in `DistilBertForMaskedLM.forward` and have been ignored: word_ids. If word_ids are not expected by `DistilBertForMaskedLM.forward`,  you can safely ignore this message.\n",
      "***** Running Evaluation *****\n",
      "  Num examples = 1603\n",
      "  Batch size = 32\n",
      "Saving model checkpoint to distilbert-base-uncased-MediumArticlesMLM\\checkpoint-5522\n",
      "Configuration saved in distilbert-base-uncased-MediumArticlesMLM\\checkpoint-5522\\config.json\n",
      "Model weights saved in distilbert-base-uncased-MediumArticlesMLM\\checkpoint-5522\\pytorch_model.bin\n",
      "The following columns in the evaluation set don't have a corresponding argument in `DistilBertForMaskedLM.forward` and have been ignored: word_ids. If word_ids are not expected by `DistilBertForMaskedLM.forward`,  you can safely ignore this message.\n",
      "***** Running Evaluation *****\n",
      "  Num examples = 1603\n",
      "  Batch size = 32\n",
      "Saving model checkpoint to distilbert-base-uncased-MediumArticlesMLM\\checkpoint-6024\n",
      "Configuration saved in distilbert-base-uncased-MediumArticlesMLM\\checkpoint-6024\\config.json\n",
      "Model weights saved in distilbert-base-uncased-MediumArticlesMLM\\checkpoint-6024\\pytorch_model.bin\n",
      "The following columns in the evaluation set don't have a corresponding argument in `DistilBertForMaskedLM.forward` and have been ignored: word_ids. If word_ids are not expected by `DistilBertForMaskedLM.forward`,  you can safely ignore this message.\n",
      "***** Running Evaluation *****\n",
      "  Num examples = 1603\n",
      "  Batch size = 32\n",
      "Saving model checkpoint to distilbert-base-uncased-MediumArticlesMLM\\checkpoint-6526\n",
      "Configuration saved in distilbert-base-uncased-MediumArticlesMLM\\checkpoint-6526\\config.json\n",
      "Model weights saved in distilbert-base-uncased-MediumArticlesMLM\\checkpoint-6526\\pytorch_model.bin\n",
      "The following columns in the evaluation set don't have a corresponding argument in `DistilBertForMaskedLM.forward` and have been ignored: word_ids. If word_ids are not expected by `DistilBertForMaskedLM.forward`,  you can safely ignore this message.\n",
      "***** Running Evaluation *****\n",
      "  Num examples = 1603\n",
      "  Batch size = 32\n",
      "Saving model checkpoint to distilbert-base-uncased-MediumArticlesMLM\\checkpoint-7028\n",
      "Configuration saved in distilbert-base-uncased-MediumArticlesMLM\\checkpoint-7028\\config.json\n"
     ]
    },
    {
     "name": "stderr",
     "output_type": "stream",
     "text": [
      "Model weights saved in distilbert-base-uncased-MediumArticlesMLM\\checkpoint-7028\\pytorch_model.bin\n",
      "The following columns in the evaluation set don't have a corresponding argument in `DistilBertForMaskedLM.forward` and have been ignored: word_ids. If word_ids are not expected by `DistilBertForMaskedLM.forward`,  you can safely ignore this message.\n",
      "***** Running Evaluation *****\n",
      "  Num examples = 1603\n",
      "  Batch size = 32\n",
      "Saving model checkpoint to distilbert-base-uncased-MediumArticlesMLM\\checkpoint-7530\n",
      "Configuration saved in distilbert-base-uncased-MediumArticlesMLM\\checkpoint-7530\\config.json\n",
      "Model weights saved in distilbert-base-uncased-MediumArticlesMLM\\checkpoint-7530\\pytorch_model.bin\n",
      "The following columns in the evaluation set don't have a corresponding argument in `DistilBertForMaskedLM.forward` and have been ignored: word_ids. If word_ids are not expected by `DistilBertForMaskedLM.forward`,  you can safely ignore this message.\n",
      "***** Running Evaluation *****\n",
      "  Num examples = 1603\n",
      "  Batch size = 32\n",
      "Saving model checkpoint to distilbert-base-uncased-MediumArticlesMLM\\checkpoint-8032\n",
      "Configuration saved in distilbert-base-uncased-MediumArticlesMLM\\checkpoint-8032\\config.json\n",
      "Model weights saved in distilbert-base-uncased-MediumArticlesMLM\\checkpoint-8032\\pytorch_model.bin\n",
      "The following columns in the evaluation set don't have a corresponding argument in `DistilBertForMaskedLM.forward` and have been ignored: word_ids. If word_ids are not expected by `DistilBertForMaskedLM.forward`,  you can safely ignore this message.\n",
      "***** Running Evaluation *****\n",
      "  Num examples = 1603\n",
      "  Batch size = 32\n",
      "Saving model checkpoint to distilbert-base-uncased-MediumArticlesMLM\\checkpoint-8534\n",
      "Configuration saved in distilbert-base-uncased-MediumArticlesMLM\\checkpoint-8534\\config.json\n",
      "Model weights saved in distilbert-base-uncased-MediumArticlesMLM\\checkpoint-8534\\pytorch_model.bin\n",
      "The following columns in the evaluation set don't have a corresponding argument in `DistilBertForMaskedLM.forward` and have been ignored: word_ids. If word_ids are not expected by `DistilBertForMaskedLM.forward`,  you can safely ignore this message.\n",
      "***** Running Evaluation *****\n",
      "  Num examples = 1603\n",
      "  Batch size = 32\n",
      "Saving model checkpoint to distilbert-base-uncased-MediumArticlesMLM\\checkpoint-9036\n",
      "Configuration saved in distilbert-base-uncased-MediumArticlesMLM\\checkpoint-9036\\config.json\n",
      "Model weights saved in distilbert-base-uncased-MediumArticlesMLM\\checkpoint-9036\\pytorch_model.bin\n",
      "The following columns in the evaluation set don't have a corresponding argument in `DistilBertForMaskedLM.forward` and have been ignored: word_ids. If word_ids are not expected by `DistilBertForMaskedLM.forward`,  you can safely ignore this message.\n",
      "***** Running Evaluation *****\n",
      "  Num examples = 1603\n",
      "  Batch size = 32\n",
      "Saving model checkpoint to distilbert-base-uncased-MediumArticlesMLM\\checkpoint-9538\n",
      "Configuration saved in distilbert-base-uncased-MediumArticlesMLM\\checkpoint-9538\\config.json\n",
      "Model weights saved in distilbert-base-uncased-MediumArticlesMLM\\checkpoint-9538\\pytorch_model.bin\n",
      "The following columns in the evaluation set don't have a corresponding argument in `DistilBertForMaskedLM.forward` and have been ignored: word_ids. If word_ids are not expected by `DistilBertForMaskedLM.forward`,  you can safely ignore this message.\n",
      "***** Running Evaluation *****\n",
      "  Num examples = 1603\n",
      "  Batch size = 32\n",
      "Saving model checkpoint to distilbert-base-uncased-MediumArticlesMLM\\checkpoint-10040\n",
      "Configuration saved in distilbert-base-uncased-MediumArticlesMLM\\checkpoint-10040\\config.json\n",
      "Model weights saved in distilbert-base-uncased-MediumArticlesMLM\\checkpoint-10040\\pytorch_model.bin\n",
      "The following columns in the evaluation set don't have a corresponding argument in `DistilBertForMaskedLM.forward` and have been ignored: word_ids. If word_ids are not expected by `DistilBertForMaskedLM.forward`,  you can safely ignore this message.\n",
      "***** Running Evaluation *****\n",
      "  Num examples = 1603\n",
      "  Batch size = 32\n",
      "Saving model checkpoint to distilbert-base-uncased-MediumArticlesMLM\\checkpoint-10542\n",
      "Configuration saved in distilbert-base-uncased-MediumArticlesMLM\\checkpoint-10542\\config.json\n",
      "Model weights saved in distilbert-base-uncased-MediumArticlesMLM\\checkpoint-10542\\pytorch_model.bin\n",
      "The following columns in the evaluation set don't have a corresponding argument in `DistilBertForMaskedLM.forward` and have been ignored: word_ids. If word_ids are not expected by `DistilBertForMaskedLM.forward`,  you can safely ignore this message.\n",
      "***** Running Evaluation *****\n",
      "  Num examples = 1603\n",
      "  Batch size = 32\n",
      "Saving model checkpoint to distilbert-base-uncased-MediumArticlesMLM\\checkpoint-11044\n",
      "Configuration saved in distilbert-base-uncased-MediumArticlesMLM\\checkpoint-11044\\config.json\n",
      "Model weights saved in distilbert-base-uncased-MediumArticlesMLM\\checkpoint-11044\\pytorch_model.bin\n",
      "The following columns in the evaluation set don't have a corresponding argument in `DistilBertForMaskedLM.forward` and have been ignored: word_ids. If word_ids are not expected by `DistilBertForMaskedLM.forward`,  you can safely ignore this message.\n",
      "***** Running Evaluation *****\n",
      "  Num examples = 1603\n",
      "  Batch size = 32\n",
      "Saving model checkpoint to distilbert-base-uncased-MediumArticlesMLM\\checkpoint-11546\n",
      "Configuration saved in distilbert-base-uncased-MediumArticlesMLM\\checkpoint-11546\\config.json\n",
      "Model weights saved in distilbert-base-uncased-MediumArticlesMLM\\checkpoint-11546\\pytorch_model.bin\n",
      "The following columns in the evaluation set don't have a corresponding argument in `DistilBertForMaskedLM.forward` and have been ignored: word_ids. If word_ids are not expected by `DistilBertForMaskedLM.forward`,  you can safely ignore this message.\n",
      "***** Running Evaluation *****\n",
      "  Num examples = 1603\n",
      "  Batch size = 32\n",
      "Saving model checkpoint to distilbert-base-uncased-MediumArticlesMLM\\checkpoint-12048\n",
      "Configuration saved in distilbert-base-uncased-MediumArticlesMLM\\checkpoint-12048\\config.json\n",
      "Model weights saved in distilbert-base-uncased-MediumArticlesMLM\\checkpoint-12048\\pytorch_model.bin\n",
      "The following columns in the evaluation set don't have a corresponding argument in `DistilBertForMaskedLM.forward` and have been ignored: word_ids. If word_ids are not expected by `DistilBertForMaskedLM.forward`,  you can safely ignore this message.\n",
      "***** Running Evaluation *****\n",
      "  Num examples = 1603\n",
      "  Batch size = 32\n",
      "Saving model checkpoint to distilbert-base-uncased-MediumArticlesMLM\\checkpoint-12550\n",
      "Configuration saved in distilbert-base-uncased-MediumArticlesMLM\\checkpoint-12550\\config.json\n",
      "Model weights saved in distilbert-base-uncased-MediumArticlesMLM\\checkpoint-12550\\pytorch_model.bin\n",
      "The following columns in the evaluation set don't have a corresponding argument in `DistilBertForMaskedLM.forward` and have been ignored: word_ids. If word_ids are not expected by `DistilBertForMaskedLM.forward`,  you can safely ignore this message.\n",
      "***** Running Evaluation *****\n",
      "  Num examples = 1603\n",
      "  Batch size = 32\n",
      "Saving model checkpoint to distilbert-base-uncased-MediumArticlesMLM\\checkpoint-13052\n",
      "Configuration saved in distilbert-base-uncased-MediumArticlesMLM\\checkpoint-13052\\config.json\n",
      "Model weights saved in distilbert-base-uncased-MediumArticlesMLM\\checkpoint-13052\\pytorch_model.bin\n",
      "The following columns in the evaluation set don't have a corresponding argument in `DistilBertForMaskedLM.forward` and have been ignored: word_ids. If word_ids are not expected by `DistilBertForMaskedLM.forward`,  you can safely ignore this message.\n",
      "***** Running Evaluation *****\n",
      "  Num examples = 1603\n",
      "  Batch size = 32\n",
      "Saving model checkpoint to distilbert-base-uncased-MediumArticlesMLM\\checkpoint-13554\n",
      "Configuration saved in distilbert-base-uncased-MediumArticlesMLM\\checkpoint-13554\\config.json\n",
      "Model weights saved in distilbert-base-uncased-MediumArticlesMLM\\checkpoint-13554\\pytorch_model.bin\n",
      "The following columns in the evaluation set don't have a corresponding argument in `DistilBertForMaskedLM.forward` and have been ignored: word_ids. If word_ids are not expected by `DistilBertForMaskedLM.forward`,  you can safely ignore this message.\n",
      "***** Running Evaluation *****\n",
      "  Num examples = 1603\n"
     ]
    },
    {
     "name": "stderr",
     "output_type": "stream",
     "text": [
      "  Batch size = 32\n",
      "Saving model checkpoint to distilbert-base-uncased-MediumArticlesMLM\\checkpoint-14056\n",
      "Configuration saved in distilbert-base-uncased-MediumArticlesMLM\\checkpoint-14056\\config.json\n",
      "Model weights saved in distilbert-base-uncased-MediumArticlesMLM\\checkpoint-14056\\pytorch_model.bin\n",
      "The following columns in the evaluation set don't have a corresponding argument in `DistilBertForMaskedLM.forward` and have been ignored: word_ids. If word_ids are not expected by `DistilBertForMaskedLM.forward`,  you can safely ignore this message.\n",
      "***** Running Evaluation *****\n",
      "  Num examples = 1603\n",
      "  Batch size = 32\n",
      "Saving model checkpoint to distilbert-base-uncased-MediumArticlesMLM\\checkpoint-14558\n",
      "Configuration saved in distilbert-base-uncased-MediumArticlesMLM\\checkpoint-14558\\config.json\n",
      "Model weights saved in distilbert-base-uncased-MediumArticlesMLM\\checkpoint-14558\\pytorch_model.bin\n",
      "The following columns in the evaluation set don't have a corresponding argument in `DistilBertForMaskedLM.forward` and have been ignored: word_ids. If word_ids are not expected by `DistilBertForMaskedLM.forward`,  you can safely ignore this message.\n",
      "***** Running Evaluation *****\n",
      "  Num examples = 1603\n",
      "  Batch size = 32\n",
      "Saving model checkpoint to distilbert-base-uncased-MediumArticlesMLM\\checkpoint-15060\n",
      "Configuration saved in distilbert-base-uncased-MediumArticlesMLM\\checkpoint-15060\\config.json\n",
      "Model weights saved in distilbert-base-uncased-MediumArticlesMLM\\checkpoint-15060\\pytorch_model.bin\n",
      "The following columns in the evaluation set don't have a corresponding argument in `DistilBertForMaskedLM.forward` and have been ignored: word_ids. If word_ids are not expected by `DistilBertForMaskedLM.forward`,  you can safely ignore this message.\n",
      "***** Running Evaluation *****\n",
      "  Num examples = 1603\n",
      "  Batch size = 32\n",
      "Saving model checkpoint to distilbert-base-uncased-MediumArticlesMLM\\checkpoint-15562\n",
      "Configuration saved in distilbert-base-uncased-MediumArticlesMLM\\checkpoint-15562\\config.json\n",
      "Model weights saved in distilbert-base-uncased-MediumArticlesMLM\\checkpoint-15562\\pytorch_model.bin\n",
      "The following columns in the evaluation set don't have a corresponding argument in `DistilBertForMaskedLM.forward` and have been ignored: word_ids. If word_ids are not expected by `DistilBertForMaskedLM.forward`,  you can safely ignore this message.\n",
      "***** Running Evaluation *****\n",
      "  Num examples = 1603\n",
      "  Batch size = 32\n",
      "Saving model checkpoint to distilbert-base-uncased-MediumArticlesMLM\\checkpoint-16064\n",
      "Configuration saved in distilbert-base-uncased-MediumArticlesMLM\\checkpoint-16064\\config.json\n",
      "Model weights saved in distilbert-base-uncased-MediumArticlesMLM\\checkpoint-16064\\pytorch_model.bin\n",
      "The following columns in the evaluation set don't have a corresponding argument in `DistilBertForMaskedLM.forward` and have been ignored: word_ids. If word_ids are not expected by `DistilBertForMaskedLM.forward`,  you can safely ignore this message.\n",
      "***** Running Evaluation *****\n",
      "  Num examples = 1603\n",
      "  Batch size = 32\n",
      "Saving model checkpoint to distilbert-base-uncased-MediumArticlesMLM\\checkpoint-16566\n",
      "Configuration saved in distilbert-base-uncased-MediumArticlesMLM\\checkpoint-16566\\config.json\n",
      "Model weights saved in distilbert-base-uncased-MediumArticlesMLM\\checkpoint-16566\\pytorch_model.bin\n",
      "The following columns in the evaluation set don't have a corresponding argument in `DistilBertForMaskedLM.forward` and have been ignored: word_ids. If word_ids are not expected by `DistilBertForMaskedLM.forward`,  you can safely ignore this message.\n",
      "***** Running Evaluation *****\n",
      "  Num examples = 1603\n",
      "  Batch size = 32\n",
      "Saving model checkpoint to distilbert-base-uncased-MediumArticlesMLM\\checkpoint-17068\n",
      "Configuration saved in distilbert-base-uncased-MediumArticlesMLM\\checkpoint-17068\\config.json\n",
      "Model weights saved in distilbert-base-uncased-MediumArticlesMLM\\checkpoint-17068\\pytorch_model.bin\n",
      "The following columns in the evaluation set don't have a corresponding argument in `DistilBertForMaskedLM.forward` and have been ignored: word_ids. If word_ids are not expected by `DistilBertForMaskedLM.forward`,  you can safely ignore this message.\n",
      "***** Running Evaluation *****\n",
      "  Num examples = 1603\n",
      "  Batch size = 32\n",
      "Saving model checkpoint to distilbert-base-uncased-MediumArticlesMLM\\checkpoint-17570\n",
      "Configuration saved in distilbert-base-uncased-MediumArticlesMLM\\checkpoint-17570\\config.json\n",
      "Model weights saved in distilbert-base-uncased-MediumArticlesMLM\\checkpoint-17570\\pytorch_model.bin\n",
      "The following columns in the evaluation set don't have a corresponding argument in `DistilBertForMaskedLM.forward` and have been ignored: word_ids. If word_ids are not expected by `DistilBertForMaskedLM.forward`,  you can safely ignore this message.\n",
      "***** Running Evaluation *****\n",
      "  Num examples = 1603\n",
      "  Batch size = 32\n",
      "Saving model checkpoint to distilbert-base-uncased-MediumArticlesMLM\\checkpoint-18072\n",
      "Configuration saved in distilbert-base-uncased-MediumArticlesMLM\\checkpoint-18072\\config.json\n",
      "Model weights saved in distilbert-base-uncased-MediumArticlesMLM\\checkpoint-18072\\pytorch_model.bin\n",
      "The following columns in the evaluation set don't have a corresponding argument in `DistilBertForMaskedLM.forward` and have been ignored: word_ids. If word_ids are not expected by `DistilBertForMaskedLM.forward`,  you can safely ignore this message.\n",
      "***** Running Evaluation *****\n",
      "  Num examples = 1603\n",
      "  Batch size = 32\n",
      "Saving model checkpoint to distilbert-base-uncased-MediumArticlesMLM\\checkpoint-18574\n",
      "Configuration saved in distilbert-base-uncased-MediumArticlesMLM\\checkpoint-18574\\config.json\n",
      "Model weights saved in distilbert-base-uncased-MediumArticlesMLM\\checkpoint-18574\\pytorch_model.bin\n",
      "The following columns in the evaluation set don't have a corresponding argument in `DistilBertForMaskedLM.forward` and have been ignored: word_ids. If word_ids are not expected by `DistilBertForMaskedLM.forward`,  you can safely ignore this message.\n",
      "***** Running Evaluation *****\n",
      "  Num examples = 1603\n",
      "  Batch size = 32\n",
      "Saving model checkpoint to distilbert-base-uncased-MediumArticlesMLM\\checkpoint-19076\n",
      "Configuration saved in distilbert-base-uncased-MediumArticlesMLM\\checkpoint-19076\\config.json\n",
      "Model weights saved in distilbert-base-uncased-MediumArticlesMLM\\checkpoint-19076\\pytorch_model.bin\n",
      "The following columns in the evaluation set don't have a corresponding argument in `DistilBertForMaskedLM.forward` and have been ignored: word_ids. If word_ids are not expected by `DistilBertForMaskedLM.forward`,  you can safely ignore this message.\n",
      "***** Running Evaluation *****\n",
      "  Num examples = 1603\n",
      "  Batch size = 32\n",
      "Saving model checkpoint to distilbert-base-uncased-MediumArticlesMLM\\checkpoint-19578\n",
      "Configuration saved in distilbert-base-uncased-MediumArticlesMLM\\checkpoint-19578\\config.json\n",
      "Model weights saved in distilbert-base-uncased-MediumArticlesMLM\\checkpoint-19578\\pytorch_model.bin\n",
      "The following columns in the evaluation set don't have a corresponding argument in `DistilBertForMaskedLM.forward` and have been ignored: word_ids. If word_ids are not expected by `DistilBertForMaskedLM.forward`,  you can safely ignore this message.\n",
      "***** Running Evaluation *****\n",
      "  Num examples = 1603\n",
      "  Batch size = 32\n",
      "Saving model checkpoint to distilbert-base-uncased-MediumArticlesMLM\\checkpoint-20080\n",
      "Configuration saved in distilbert-base-uncased-MediumArticlesMLM\\checkpoint-20080\\config.json\n",
      "Model weights saved in distilbert-base-uncased-MediumArticlesMLM\\checkpoint-20080\\pytorch_model.bin\n",
      "The following columns in the evaluation set don't have a corresponding argument in `DistilBertForMaskedLM.forward` and have been ignored: word_ids. If word_ids are not expected by `DistilBertForMaskedLM.forward`,  you can safely ignore this message.\n",
      "***** Running Evaluation *****\n",
      "  Num examples = 1603\n",
      "  Batch size = 32\n",
      "Saving model checkpoint to distilbert-base-uncased-MediumArticlesMLM\\checkpoint-20582\n",
      "Configuration saved in distilbert-base-uncased-MediumArticlesMLM\\checkpoint-20582\\config.json\n",
      "Model weights saved in distilbert-base-uncased-MediumArticlesMLM\\checkpoint-20582\\pytorch_model.bin\n",
      "The following columns in the evaluation set don't have a corresponding argument in `DistilBertForMaskedLM.forward` and have been ignored: word_ids. If word_ids are not expected by `DistilBertForMaskedLM.forward`,  you can safely ignore this message.\n"
     ]
    },
    {
     "name": "stderr",
     "output_type": "stream",
     "text": [
      "***** Running Evaluation *****\n",
      "  Num examples = 1603\n",
      "  Batch size = 32\n",
      "Saving model checkpoint to distilbert-base-uncased-MediumArticlesMLM\\checkpoint-21084\n",
      "Configuration saved in distilbert-base-uncased-MediumArticlesMLM\\checkpoint-21084\\config.json\n",
      "Model weights saved in distilbert-base-uncased-MediumArticlesMLM\\checkpoint-21084\\pytorch_model.bin\n",
      "The following columns in the evaluation set don't have a corresponding argument in `DistilBertForMaskedLM.forward` and have been ignored: word_ids. If word_ids are not expected by `DistilBertForMaskedLM.forward`,  you can safely ignore this message.\n",
      "***** Running Evaluation *****\n",
      "  Num examples = 1603\n",
      "  Batch size = 32\n",
      "Saving model checkpoint to distilbert-base-uncased-MediumArticlesMLM\\checkpoint-21586\n",
      "Configuration saved in distilbert-base-uncased-MediumArticlesMLM\\checkpoint-21586\\config.json\n",
      "Model weights saved in distilbert-base-uncased-MediumArticlesMLM\\checkpoint-21586\\pytorch_model.bin\n",
      "The following columns in the evaluation set don't have a corresponding argument in `DistilBertForMaskedLM.forward` and have been ignored: word_ids. If word_ids are not expected by `DistilBertForMaskedLM.forward`,  you can safely ignore this message.\n",
      "***** Running Evaluation *****\n",
      "  Num examples = 1603\n",
      "  Batch size = 32\n",
      "Saving model checkpoint to distilbert-base-uncased-MediumArticlesMLM\\checkpoint-22088\n",
      "Configuration saved in distilbert-base-uncased-MediumArticlesMLM\\checkpoint-22088\\config.json\n",
      "Model weights saved in distilbert-base-uncased-MediumArticlesMLM\\checkpoint-22088\\pytorch_model.bin\n",
      "The following columns in the evaluation set don't have a corresponding argument in `DistilBertForMaskedLM.forward` and have been ignored: word_ids. If word_ids are not expected by `DistilBertForMaskedLM.forward`,  you can safely ignore this message.\n",
      "***** Running Evaluation *****\n",
      "  Num examples = 1603\n",
      "  Batch size = 32\n",
      "Saving model checkpoint to distilbert-base-uncased-MediumArticlesMLM\\checkpoint-22590\n",
      "Configuration saved in distilbert-base-uncased-MediumArticlesMLM\\checkpoint-22590\\config.json\n",
      "Model weights saved in distilbert-base-uncased-MediumArticlesMLM\\checkpoint-22590\\pytorch_model.bin\n",
      "The following columns in the evaluation set don't have a corresponding argument in `DistilBertForMaskedLM.forward` and have been ignored: word_ids. If word_ids are not expected by `DistilBertForMaskedLM.forward`,  you can safely ignore this message.\n",
      "***** Running Evaluation *****\n",
      "  Num examples = 1603\n",
      "  Batch size = 32\n",
      "Saving model checkpoint to distilbert-base-uncased-MediumArticlesMLM\\checkpoint-23092\n",
      "Configuration saved in distilbert-base-uncased-MediumArticlesMLM\\checkpoint-23092\\config.json\n",
      "Model weights saved in distilbert-base-uncased-MediumArticlesMLM\\checkpoint-23092\\pytorch_model.bin\n",
      "The following columns in the evaluation set don't have a corresponding argument in `DistilBertForMaskedLM.forward` and have been ignored: word_ids. If word_ids are not expected by `DistilBertForMaskedLM.forward`,  you can safely ignore this message.\n",
      "***** Running Evaluation *****\n",
      "  Num examples = 1603\n",
      "  Batch size = 32\n",
      "Saving model checkpoint to distilbert-base-uncased-MediumArticlesMLM\\checkpoint-23594\n",
      "Configuration saved in distilbert-base-uncased-MediumArticlesMLM\\checkpoint-23594\\config.json\n",
      "Model weights saved in distilbert-base-uncased-MediumArticlesMLM\\checkpoint-23594\\pytorch_model.bin\n",
      "The following columns in the evaluation set don't have a corresponding argument in `DistilBertForMaskedLM.forward` and have been ignored: word_ids. If word_ids are not expected by `DistilBertForMaskedLM.forward`,  you can safely ignore this message.\n",
      "***** Running Evaluation *****\n",
      "  Num examples = 1603\n",
      "  Batch size = 32\n",
      "Saving model checkpoint to distilbert-base-uncased-MediumArticlesMLM\\checkpoint-24096\n",
      "Configuration saved in distilbert-base-uncased-MediumArticlesMLM\\checkpoint-24096\\config.json\n",
      "Model weights saved in distilbert-base-uncased-MediumArticlesMLM\\checkpoint-24096\\pytorch_model.bin\n",
      "The following columns in the evaluation set don't have a corresponding argument in `DistilBertForMaskedLM.forward` and have been ignored: word_ids. If word_ids are not expected by `DistilBertForMaskedLM.forward`,  you can safely ignore this message.\n",
      "***** Running Evaluation *****\n",
      "  Num examples = 1603\n",
      "  Batch size = 32\n",
      "Saving model checkpoint to distilbert-base-uncased-MediumArticlesMLM\\checkpoint-24598\n",
      "Configuration saved in distilbert-base-uncased-MediumArticlesMLM\\checkpoint-24598\\config.json\n",
      "Model weights saved in distilbert-base-uncased-MediumArticlesMLM\\checkpoint-24598\\pytorch_model.bin\n",
      "The following columns in the evaluation set don't have a corresponding argument in `DistilBertForMaskedLM.forward` and have been ignored: word_ids. If word_ids are not expected by `DistilBertForMaskedLM.forward`,  you can safely ignore this message.\n",
      "***** Running Evaluation *****\n",
      "  Num examples = 1603\n",
      "  Batch size = 32\n",
      "Saving model checkpoint to distilbert-base-uncased-MediumArticlesMLM\\checkpoint-25100\n",
      "Configuration saved in distilbert-base-uncased-MediumArticlesMLM\\checkpoint-25100\\config.json\n",
      "Model weights saved in distilbert-base-uncased-MediumArticlesMLM\\checkpoint-25100\\pytorch_model.bin\n",
      "\n",
      "\n",
      "Training completed. Do not forget to share your model on huggingface.co/models =)\n",
      "\n",
      "\n",
      "Loading best model from distilbert-base-uncased-MediumArticlesMLM\\checkpoint-24096 (score: 2.2188620567321777).\n"
     ]
    },
    {
     "data": {
      "text/plain": [
       "TrainOutput(global_step=25100, training_loss=2.2097839118379996, metrics={'train_runtime': 5818.4349, 'train_samples_per_second': 137.786, 'train_steps_per_second': 4.314, 'total_flos': 2.65685697105408e+16, 'train_loss': 2.2097839118379996, 'epoch': 50.0})"
      ]
     },
     "execution_count": 41,
     "metadata": {},
     "output_type": "execute_result"
    }
   ],
   "source": [
    "trainer.train()"
   ]
  },
  {
   "cell_type": "code",
   "execution_count": 43,
   "metadata": {},
   "outputs": [
    {
     "data": {
      "text/plain": [
       "2.2188620567321777"
      ]
     },
     "execution_count": 43,
     "metadata": {},
     "output_type": "execute_result"
    },
    {
     "data": {
      "text/plain": [
       "'distilbert-base-uncased-MediumArticlesMLM\\\\checkpoint-24096'"
      ]
     },
     "execution_count": 43,
     "metadata": {},
     "output_type": "execute_result"
    },
    {
     "data": {
      "text/plain": [
       "[{'loss': 2.7516,\n",
       "  'learning_rate': 1.9602390438247013e-05,\n",
       "  'epoch': 1.0,\n",
       "  'step': 501},\n",
       " {'eval_loss': 2.5423526763916016,\n",
       "  'eval_runtime': 2.2961,\n",
       "  'eval_samples_per_second': 698.147,\n",
       "  'eval_steps_per_second': 22.212,\n",
       "  'epoch': 1.0,\n",
       "  'step': 502},\n",
       " {'loss': 2.6129,\n",
       "  'learning_rate': 1.920318725099602e-05,\n",
       "  'epoch': 2.0,\n",
       "  'step': 1002},\n",
       " {'eval_loss': 2.505242347717285,\n",
       "  'eval_runtime': 2.7092,\n",
       "  'eval_samples_per_second': 591.678,\n",
       "  'eval_steps_per_second': 18.824,\n",
       "  'epoch': 2.0,\n",
       "  'step': 1004},\n",
       " {'loss': 2.5625,\n",
       "  'learning_rate': 1.880398406374502e-05,\n",
       "  'epoch': 2.99,\n",
       "  'step': 1503},\n",
       " {'eval_loss': 2.4525105953216553,\n",
       "  'eval_runtime': 2.9555,\n",
       "  'eval_samples_per_second': 542.387,\n",
       "  'eval_steps_per_second': 17.256,\n",
       "  'epoch': 3.0,\n",
       "  'step': 1506},\n",
       " {'loss': 2.5164,\n",
       "  'learning_rate': 1.8404780876494026e-05,\n",
       "  'epoch': 3.99,\n",
       "  'step': 2004},\n",
       " {'eval_loss': 2.4377851486206055,\n",
       "  'eval_runtime': 2.9322,\n",
       "  'eval_samples_per_second': 546.693,\n",
       "  'eval_steps_per_second': 17.393,\n",
       "  'epoch': 4.0,\n",
       "  'step': 2008},\n",
       " {'loss': 2.4775,\n",
       "  'learning_rate': 1.800557768924303e-05,\n",
       "  'epoch': 4.99,\n",
       "  'step': 2505},\n",
       " {'eval_loss': 2.40571665763855,\n",
       "  'eval_runtime': 2.9429,\n",
       "  'eval_samples_per_second': 544.708,\n",
       "  'eval_steps_per_second': 17.33,\n",
       "  'epoch': 5.0,\n",
       "  'step': 2510},\n",
       " {'loss': 2.4457,\n",
       "  'learning_rate': 1.7606374501992033e-05,\n",
       "  'epoch': 5.99,\n",
       "  'step': 3006},\n",
       " {'eval_loss': 2.4193527698516846,\n",
       "  'eval_runtime': 3.9378,\n",
       "  'eval_samples_per_second': 407.077,\n",
       "  'eval_steps_per_second': 12.951,\n",
       "  'epoch': 6.0,\n",
       "  'step': 3012},\n",
       " {'loss': 2.4264,\n",
       "  'learning_rate': 1.720717131474104e-05,\n",
       "  'epoch': 6.99,\n",
       "  'step': 3507},\n",
       " {'eval_loss': 2.376203775405884,\n",
       "  'eval_runtime': 3.4481,\n",
       "  'eval_samples_per_second': 464.891,\n",
       "  'eval_steps_per_second': 14.791,\n",
       "  'epoch': 7.0,\n",
       "  'step': 3514},\n",
       " {'loss': 2.4083,\n",
       "  'learning_rate': 1.680796812749004e-05,\n",
       "  'epoch': 7.98,\n",
       "  'step': 4008},\n",
       " {'eval_loss': 2.3440403938293457,\n",
       "  'eval_runtime': 3.3927,\n",
       "  'eval_samples_per_second': 472.49,\n",
       "  'eval_steps_per_second': 15.032,\n",
       "  'epoch': 8.0,\n",
       "  'step': 4016},\n",
       " {'loss': 2.3802,\n",
       "  'learning_rate': 1.640956175298805e-05,\n",
       "  'epoch': 8.98,\n",
       "  'step': 4509},\n",
       " {'eval_loss': 2.3799233436584473,\n",
       "  'eval_runtime': 3.1555,\n",
       "  'eval_samples_per_second': 508.005,\n",
       "  'eval_steps_per_second': 16.162,\n",
       "  'epoch': 9.0,\n",
       "  'step': 4518},\n",
       " {'loss': 2.354,\n",
       "  'learning_rate': 1.6011155378486058e-05,\n",
       "  'epoch': 9.98,\n",
       "  'step': 5010},\n",
       " {'eval_loss': 2.394961357116699,\n",
       "  'eval_runtime': 4.2698,\n",
       "  'eval_samples_per_second': 375.43,\n",
       "  'eval_steps_per_second': 11.944,\n",
       "  'epoch': 10.0,\n",
       "  'step': 5020},\n",
       " {'loss': 2.3424,\n",
       "  'learning_rate': 1.561195219123506e-05,\n",
       "  'epoch': 10.98,\n",
       "  'step': 5511},\n",
       " {'eval_loss': 2.3851635456085205,\n",
       "  'eval_runtime': 4.1853,\n",
       "  'eval_samples_per_second': 383.009,\n",
       "  'eval_steps_per_second': 12.186,\n",
       "  'epoch': 11.0,\n",
       "  'step': 5522},\n",
       " {'loss': 2.3306,\n",
       "  'learning_rate': 1.5212749003984063e-05,\n",
       "  'epoch': 11.98,\n",
       "  'step': 6012},\n",
       " {'eval_loss': 2.358644962310791,\n",
       "  'eval_runtime': 3.8747,\n",
       "  'eval_samples_per_second': 413.712,\n",
       "  'eval_steps_per_second': 13.162,\n",
       "  'epoch': 12.0,\n",
       "  'step': 6024},\n",
       " {'loss': 2.304,\n",
       "  'learning_rate': 1.4813545816733069e-05,\n",
       "  'epoch': 12.97,\n",
       "  'step': 6513},\n",
       " {'eval_loss': 2.350867509841919,\n",
       "  'eval_runtime': 4.0798,\n",
       "  'eval_samples_per_second': 392.907,\n",
       "  'eval_steps_per_second': 12.5,\n",
       "  'epoch': 13.0,\n",
       "  'step': 6526},\n",
       " {'loss': 2.2903,\n",
       "  'learning_rate': 1.4414342629482072e-05,\n",
       "  'epoch': 13.97,\n",
       "  'step': 7014},\n",
       " {'eval_loss': 2.3416342735290527,\n",
       "  'eval_runtime': 3.5348,\n",
       "  'eval_samples_per_second': 453.49,\n",
       "  'eval_steps_per_second': 14.428,\n",
       "  'epoch': 14.0,\n",
       "  'step': 7028},\n",
       " {'loss': 2.2598,\n",
       "  'learning_rate': 1.4015139442231076e-05,\n",
       "  'epoch': 14.97,\n",
       "  'step': 7515},\n",
       " {'eval_loss': 2.337165594100952,\n",
       "  'eval_runtime': 3.6058,\n",
       "  'eval_samples_per_second': 444.559,\n",
       "  'eval_steps_per_second': 14.144,\n",
       "  'epoch': 15.0,\n",
       "  'step': 7530},\n",
       " {'loss': 2.259,\n",
       "  'learning_rate': 1.361593625498008e-05,\n",
       "  'epoch': 15.97,\n",
       "  'step': 8016},\n",
       " {'eval_loss': 2.328169822692871,\n",
       "  'eval_runtime': 3.5949,\n",
       "  'eval_samples_per_second': 445.911,\n",
       "  'eval_steps_per_second': 14.187,\n",
       "  'epoch': 16.0,\n",
       "  'step': 8032},\n",
       " {'loss': 2.2484,\n",
       "  'learning_rate': 1.3216733067729083e-05,\n",
       "  'epoch': 16.97,\n",
       "  'step': 8517},\n",
       " {'eval_loss': 2.3348984718322754,\n",
       "  'eval_runtime': 3.609,\n",
       "  'eval_samples_per_second': 444.163,\n",
       "  'eval_steps_per_second': 14.131,\n",
       "  'epoch': 17.0,\n",
       "  'step': 8534},\n",
       " {'loss': 2.2343,\n",
       "  'learning_rate': 1.2818326693227092e-05,\n",
       "  'epoch': 17.96,\n",
       "  'step': 9018},\n",
       " {'eval_loss': 2.298807144165039,\n",
       "  'eval_runtime': 3.6875,\n",
       "  'eval_samples_per_second': 434.71,\n",
       "  'eval_steps_per_second': 13.83,\n",
       "  'epoch': 18.0,\n",
       "  'step': 9036},\n",
       " {'loss': 2.2256,\n",
       "  'learning_rate': 1.2419123505976096e-05,\n",
       "  'epoch': 18.96,\n",
       "  'step': 9519},\n",
       " {'eval_loss': 2.3212406635284424,\n",
       "  'eval_runtime': 3.8136,\n",
       "  'eval_samples_per_second': 420.337,\n",
       "  'eval_steps_per_second': 13.373,\n",
       "  'epoch': 19.0,\n",
       "  'step': 9538},\n",
       " {'loss': 2.2067,\n",
       "  'learning_rate': 1.20199203187251e-05,\n",
       "  'epoch': 19.96,\n",
       "  'step': 10020},\n",
       " {'eval_loss': 2.2960662841796875,\n",
       "  'eval_runtime': 3.6572,\n",
       "  'eval_samples_per_second': 438.309,\n",
       "  'eval_steps_per_second': 13.945,\n",
       "  'epoch': 20.0,\n",
       "  'step': 10040},\n",
       " {'loss': 2.1936,\n",
       "  'learning_rate': 1.1621513944223108e-05,\n",
       "  'epoch': 20.96,\n",
       "  'step': 10521},\n",
       " {'eval_loss': 2.3019440174102783,\n",
       "  'eval_runtime': 3.6839,\n",
       "  'eval_samples_per_second': 435.133,\n",
       "  'eval_steps_per_second': 13.844,\n",
       "  'epoch': 21.0,\n",
       "  'step': 10542},\n",
       " {'loss': 2.1776,\n",
       "  'learning_rate': 1.1222310756972113e-05,\n",
       "  'epoch': 21.96,\n",
       "  'step': 11022},\n",
       " {'eval_loss': 2.2909562587738037,\n",
       "  'eval_runtime': 3.591,\n",
       "  'eval_samples_per_second': 446.39,\n",
       "  'eval_steps_per_second': 14.202,\n",
       "  'epoch': 22.0,\n",
       "  'step': 11044},\n",
       " {'loss': 2.1718,\n",
       "  'learning_rate': 1.0823107569721117e-05,\n",
       "  'epoch': 22.95,\n",
       "  'step': 11523},\n",
       " {'eval_loss': 2.299638032913208,\n",
       "  'eval_runtime': 3.67,\n",
       "  'eval_samples_per_second': 436.786,\n",
       "  'eval_steps_per_second': 13.897,\n",
       "  'epoch': 23.0,\n",
       "  'step': 11546},\n",
       " {'loss': 2.166,\n",
       "  'learning_rate': 1.042390438247012e-05,\n",
       "  'epoch': 23.95,\n",
       "  'step': 12024},\n",
       " {'eval_loss': 2.282392978668213,\n",
       "  'eval_runtime': 3.5909,\n",
       "  'eval_samples_per_second': 446.4,\n",
       "  'eval_steps_per_second': 14.202,\n",
       "  'epoch': 24.0,\n",
       "  'step': 12048},\n",
       " {'loss': 2.1532,\n",
       "  'learning_rate': 1.0024701195219124e-05,\n",
       "  'epoch': 24.95,\n",
       "  'step': 12525},\n",
       " {'eval_loss': 2.296057939529419,\n",
       "  'eval_runtime': 3.558,\n",
       "  'eval_samples_per_second': 450.533,\n",
       "  'eval_steps_per_second': 14.334,\n",
       "  'epoch': 25.0,\n",
       "  'step': 12550},\n",
       " {'loss': 2.1429,\n",
       "  'learning_rate': 9.625498007968128e-06,\n",
       "  'epoch': 25.95,\n",
       "  'step': 13026},\n",
       " {'eval_loss': 2.264341354370117,\n",
       "  'eval_runtime': 3.4526,\n",
       "  'eval_samples_per_second': 464.282,\n",
       "  'eval_steps_per_second': 14.771,\n",
       "  'epoch': 26.0,\n",
       "  'step': 13052},\n",
       " {'loss': 2.132,\n",
       "  'learning_rate': 9.226294820717131e-06,\n",
       "  'epoch': 26.95,\n",
       "  'step': 13527},\n",
       " {'eval_loss': 2.279764175415039,\n",
       "  'eval_runtime': 3.6095,\n",
       "  'eval_samples_per_second': 444.107,\n",
       "  'eval_steps_per_second': 14.129,\n",
       "  'epoch': 27.0,\n",
       "  'step': 13554},\n",
       " {'loss': 2.1332,\n",
       "  'learning_rate': 8.827091633466137e-06,\n",
       "  'epoch': 27.94,\n",
       "  'step': 14028},\n",
       " {'eval_loss': 2.279757022857666,\n",
       "  'eval_runtime': 3.6029,\n",
       "  'eval_samples_per_second': 444.922,\n",
       "  'eval_steps_per_second': 14.155,\n",
       "  'epoch': 28.0,\n",
       "  'step': 14056},\n",
       " {'loss': 2.1201,\n",
       "  'learning_rate': 8.428685258964144e-06,\n",
       "  'epoch': 28.94,\n",
       "  'step': 14529},\n",
       " {'eval_loss': 2.2673556804656982,\n",
       "  'eval_runtime': 3.5776,\n",
       "  'eval_samples_per_second': 448.063,\n",
       "  'eval_steps_per_second': 14.255,\n",
       "  'epoch': 29.0,\n",
       "  'step': 14558},\n",
       " {'loss': 2.1162,\n",
       "  'learning_rate': 8.030278884462152e-06,\n",
       "  'epoch': 29.94,\n",
       "  'step': 15030},\n",
       " {'eval_loss': 2.2831156253814697,\n",
       "  'eval_runtime': 3.6556,\n",
       "  'eval_samples_per_second': 438.506,\n",
       "  'eval_steps_per_second': 13.951,\n",
       "  'epoch': 30.0,\n",
       "  'step': 15060},\n",
       " {'loss': 2.1113,\n",
       "  'learning_rate': 7.631075697211156e-06,\n",
       "  'epoch': 30.94,\n",
       "  'step': 15531},\n",
       " {'eval_loss': 2.304079294204712,\n",
       "  'eval_runtime': 3.4968,\n",
       "  'eval_samples_per_second': 458.417,\n",
       "  'eval_steps_per_second': 14.585,\n",
       "  'epoch': 31.0,\n",
       "  'step': 15562},\n",
       " {'loss': 2.1055,\n",
       "  'learning_rate': 7.2318725099601596e-06,\n",
       "  'epoch': 31.94,\n",
       "  'step': 16032},\n",
       " {'eval_loss': 2.3083229064941406,\n",
       "  'eval_runtime': 3.549,\n",
       "  'eval_samples_per_second': 451.679,\n",
       "  'eval_steps_per_second': 14.37,\n",
       "  'epoch': 32.0,\n",
       "  'step': 16064},\n",
       " {'loss': 2.1015,\n",
       "  'learning_rate': 6.832669322709163e-06,\n",
       "  'epoch': 32.93,\n",
       "  'step': 16533},\n",
       " {'eval_loss': 2.2495710849761963,\n",
       "  'eval_runtime': 3.6074,\n",
       "  'eval_samples_per_second': 444.367,\n",
       "  'eval_steps_per_second': 14.138,\n",
       "  'epoch': 33.0,\n",
       "  'step': 16566},\n",
       " {'loss': 2.0906,\n",
       "  'learning_rate': 6.433466135458168e-06,\n",
       "  'epoch': 33.93,\n",
       "  'step': 17034},\n",
       " {'eval_loss': 2.295494556427002,\n",
       "  'eval_runtime': 3.5187,\n",
       "  'eval_samples_per_second': 455.567,\n",
       "  'eval_steps_per_second': 14.494,\n",
       "  'epoch': 34.0,\n",
       "  'step': 17068},\n",
       " {'loss': 2.0864,\n",
       "  'learning_rate': 6.034262948207171e-06,\n",
       "  'epoch': 34.93,\n",
       "  'step': 17535},\n",
       " {'eval_loss': 2.27825665473938,\n",
       "  'eval_runtime': 3.6055,\n",
       "  'eval_samples_per_second': 444.598,\n",
       "  'eval_steps_per_second': 14.145,\n",
       "  'epoch': 35.0,\n",
       "  'step': 17570},\n",
       " {'loss': 2.0813,\n",
       "  'learning_rate': 5.635059760956175e-06,\n",
       "  'epoch': 35.93,\n",
       "  'step': 18036},\n",
       " {'eval_loss': 2.271440029144287,\n",
       "  'eval_runtime': 3.4616,\n",
       "  'eval_samples_per_second': 463.087,\n",
       "  'eval_steps_per_second': 14.733,\n",
       "  'epoch': 36.0,\n",
       "  'step': 18072},\n",
       " {'loss': 2.0912,\n",
       "  'learning_rate': 5.2358565737051795e-06,\n",
       "  'epoch': 36.93,\n",
       "  'step': 18537},\n",
       " {'eval_loss': 2.234168767929077,\n",
       "  'eval_runtime': 3.7126,\n",
       "  'eval_samples_per_second': 431.776,\n",
       "  'eval_steps_per_second': 13.737,\n",
       "  'epoch': 37.0,\n",
       "  'step': 18574},\n",
       " {'loss': 2.0679,\n",
       "  'learning_rate': 4.837450199203187e-06,\n",
       "  'epoch': 37.92,\n",
       "  'step': 19038},\n",
       " {'eval_loss': 2.2771449089050293,\n",
       "  'eval_runtime': 3.5029,\n",
       "  'eval_samples_per_second': 457.624,\n",
       "  'eval_steps_per_second': 14.559,\n",
       "  'epoch': 38.0,\n",
       "  'step': 19076},\n",
       " {'loss': 2.0643,\n",
       "  'learning_rate': 4.438247011952192e-06,\n",
       "  'epoch': 38.92,\n",
       "  'step': 19539},\n",
       " {'eval_loss': 2.279839277267456,\n",
       "  'eval_runtime': 3.5987,\n",
       "  'eval_samples_per_second': 445.443,\n",
       "  'eval_steps_per_second': 14.172,\n",
       "  'epoch': 39.0,\n",
       "  'step': 19578},\n",
       " {'loss': 2.0688,\n",
       "  'learning_rate': 4.039043824701195e-06,\n",
       "  'epoch': 39.92,\n",
       "  'step': 20040},\n",
       " {'eval_loss': 2.2341525554656982,\n",
       "  'eval_runtime': 3.7842,\n",
       "  'eval_samples_per_second': 423.607,\n",
       "  'eval_steps_per_second': 13.477,\n",
       "  'epoch': 40.0,\n",
       "  'step': 20080},\n",
       " {'loss': 2.0551,\n",
       "  'learning_rate': 3.6398406374501995e-06,\n",
       "  'epoch': 40.92,\n",
       "  'step': 20541},\n",
       " {'eval_loss': 2.247904062271118,\n",
       "  'eval_runtime': 3.5282,\n",
       "  'eval_samples_per_second': 454.334,\n",
       "  'eval_steps_per_second': 14.455,\n",
       "  'epoch': 41.0,\n",
       "  'step': 20582},\n",
       " {'loss': 2.0614,\n",
       "  'learning_rate': 3.2414342629482076e-06,\n",
       "  'epoch': 41.92,\n",
       "  'step': 21042},\n",
       " {'eval_loss': 2.23059344291687,\n",
       "  'eval_runtime': 3.5834,\n",
       "  'eval_samples_per_second': 447.338,\n",
       "  'eval_steps_per_second': 14.232,\n",
       "  'epoch': 42.0,\n",
       "  'step': 21084},\n",
       " {'loss': 2.0517,\n",
       "  'learning_rate': 2.8422310756972117e-06,\n",
       "  'epoch': 42.91,\n",
       "  'step': 21543},\n",
       " {'eval_loss': 2.262967109680176,\n",
       "  'eval_runtime': 3.5024,\n",
       "  'eval_samples_per_second': 457.689,\n",
       "  'eval_steps_per_second': 14.562,\n",
       "  'epoch': 43.0,\n",
       "  'step': 21586},\n",
       " {'loss': 2.0484,\n",
       "  'learning_rate': 2.4430278884462154e-06,\n",
       "  'epoch': 43.91,\n",
       "  'step': 22044},\n",
       " {'eval_loss': 2.2589752674102783,\n",
       "  'eval_runtime': 3.5607,\n",
       "  'eval_samples_per_second': 450.194,\n",
       "  'eval_steps_per_second': 14.323,\n",
       "  'epoch': 44.0,\n",
       "  'step': 22088},\n",
       " {'loss': 2.0532,\n",
       "  'learning_rate': 2.043824701195219e-06,\n",
       "  'epoch': 44.91,\n",
       "  'step': 22545},\n",
       " {'eval_loss': 2.2779743671417236,\n",
       "  'eval_runtime': 3.4766,\n",
       "  'eval_samples_per_second': 461.08,\n",
       "  'eval_steps_per_second': 14.669,\n",
       "  'epoch': 45.0,\n",
       "  'step': 22590},\n",
       " {'loss': 2.0433,\n",
       "  'learning_rate': 1.6454183266932272e-06,\n",
       "  'epoch': 45.91,\n",
       "  'step': 23046},\n",
       " {'eval_loss': 2.2486767768859863,\n",
       "  'eval_runtime': 3.5221,\n",
       "  'eval_samples_per_second': 455.124,\n",
       "  'eval_steps_per_second': 14.48,\n",
       "  'epoch': 46.0,\n",
       "  'step': 23092},\n",
       " {'loss': 2.0538,\n",
       "  'learning_rate': 1.2462151394422312e-06,\n",
       "  'epoch': 46.91,\n",
       "  'step': 23547},\n",
       " {'eval_loss': 2.252967357635498,\n",
       "  'eval_runtime': 3.5883,\n",
       "  'eval_samples_per_second': 446.731,\n",
       "  'eval_steps_per_second': 14.213,\n",
       "  'epoch': 47.0,\n",
       "  'step': 23594},\n",
       " {'loss': 2.0444,\n",
       "  'learning_rate': 8.470119521912351e-07,\n",
       "  'epoch': 47.9,\n",
       "  'step': 24048},\n",
       " {'eval_loss': 2.2188620567321777,\n",
       "  'eval_runtime': 3.3815,\n",
       "  'eval_samples_per_second': 474.047,\n",
       "  'eval_steps_per_second': 15.082,\n",
       "  'epoch': 48.0,\n",
       "  'step': 24096},\n",
       " {'loss': 2.0452,\n",
       "  'learning_rate': 4.478087649402391e-07,\n",
       "  'epoch': 48.9,\n",
       "  'step': 24549},\n",
       " {'eval_loss': 2.230534791946411,\n",
       "  'eval_runtime': 3.6638,\n",
       "  'eval_samples_per_second': 437.518,\n",
       "  'eval_steps_per_second': 13.92,\n",
       "  'epoch': 49.0,\n",
       "  'step': 24598},\n",
       " {'loss': 2.0388,\n",
       "  'learning_rate': 4.940239043824702e-08,\n",
       "  'epoch': 49.9,\n",
       "  'step': 25050},\n",
       " {'eval_loss': 2.2228636741638184,\n",
       "  'eval_runtime': 4.0937,\n",
       "  'eval_samples_per_second': 391.581,\n",
       "  'eval_steps_per_second': 12.458,\n",
       "  'epoch': 50.0,\n",
       "  'step': 25100},\n",
       " {'train_runtime': 5818.4349,\n",
       "  'train_samples_per_second': 137.786,\n",
       "  'train_steps_per_second': 4.314,\n",
       "  'total_flos': 2.65685697105408e+16,\n",
       "  'train_loss': 2.2097839118379996,\n",
       "  'epoch': 50.0,\n",
       "  'step': 25100}]"
      ]
     },
     "execution_count": 43,
     "metadata": {},
     "output_type": "execute_result"
    }
   ],
   "source": [
    "trainer.state.best_metric\n",
    "trainer.state.best_model_checkpoint\n",
    "trainer.state.log_history"
   ]
  },
  {
   "cell_type": "code",
   "execution_count": 46,
   "metadata": {},
   "outputs": [],
   "source": [
    "history = pd.DataFrame(trainer.state.log_history).groupby(['epoch'])['loss', 'eval_loss'].sum()\n",
    "\n",
    "history.reset_index(drop = False, inplace = True)\n",
    "\n",
    "history['epoch_int'] = [math.ceil(x) for x in history['epoch']]\n",
    "\n",
    "history = history.groupby('epoch_int')['loss', 'eval_loss'].sum()"
   ]
  },
  {
   "cell_type": "code",
   "execution_count": 53,
   "metadata": {},
   "outputs": [
    {
     "data": {
      "text/plain": [
       "<matplotlib.axes._subplots.AxesSubplot at 0x1ad3e7fbca0>"
      ]
     },
     "execution_count": 53,
     "metadata": {},
     "output_type": "execute_result"
    },
    {
     "data": {
      "text/plain": [
       "Text(0.5, 1.0, 'MLM Finetuning')"
      ]
     },
     "execution_count": 53,
     "metadata": {},
     "output_type": "execute_result"
    },
    {
     "data": {
      "text/plain": [
       "Text(0.5, 0, 'Epochs==>')"
      ]
     },
     "execution_count": 53,
     "metadata": {},
     "output_type": "execute_result"
    },
    {
     "data": {
      "text/plain": [
       "Text(0, 0.5, 'Loss==>')"
      ]
     },
     "execution_count": 53,
     "metadata": {},
     "output_type": "execute_result"
    },
    {
     "data": {
      "image/png": "[encoded data removed]",
      "text/plain": [
       "<Figure size 1080x504 with 1 Axes>"
      ]
     },
     "metadata": {
      "needs_background": "light"
     },
     "output_type": "display_data"
    }
   ],
   "source": [
    "history.plot(figsize = (15,7))\n",
    "plt.title('MLM Finetuning')\n",
    "plt.xlabel('Epochs==>')\n",
    "plt.ylabel('Loss==>')\n",
    "plt.savefig('DBert_TrainValLoss.png')"
   ]
  },
  {
   "cell_type": "code",
   "execution_count": 54,
   "metadata": {
    "scrolled": true
   },
   "outputs": [
    {
     "name": "stderr",
     "output_type": "stream",
     "text": [
      "The following columns in the evaluation set don't have a corresponding argument in `DistilBertForMaskedLM.forward` and have been ignored: word_ids. If word_ids are not expected by `DistilBertForMaskedLM.forward`,  you can safely ignore this message.\n",
      "***** Running Evaluation *****\n",
      "  Num examples = 1603\n",
      "  Batch size = 32\n"
     ]
    },
    {
     "data": {
      "text/html": [
       "\n",
       "    <div>\n",
       "      \n",
       "      <progress value='51' max='51' style='width:300px; height:20px; vertical-align: middle;'></progress>\n",
       "      [51/51 00:02]\n",
       "    </div>\n",
       "    "
      ],
      "text/plain": [
       "<IPython.core.display.HTML object>"
      ]
     },
     "metadata": {},
     "output_type": "display_data"
    },
    {
     "name": "stdout",
     "output_type": "stream",
     "text": [
      ">>> Perplexity: 9.33\n"
     ]
    }
   ],
   "source": [
    "eval_results = trainer.evaluate()\n",
    "print(f\">>> Perplexity: {math.exp(eval_results['eval_loss']):.2f}\")"
   ]
  },
  {
   "cell_type": "code",
   "execution_count": 55,
   "metadata": {},
   "outputs": [
    {
     "name": "stderr",
     "output_type": "stream",
     "text": [
      "Configuration saved in ./MediumArticlesDbertFineTuned\\config.json\n",
      "Model weights saved in ./MediumArticlesDbertFineTuned\\pytorch_model.bin\n"
     ]
    }
   ],
   "source": [
    "model.save_pretrained('./MediumArticlesDbertFineTuned')"
   ]
  },
  {
   "cell_type": "code",
   "execution_count": 8,
   "metadata": {},
   "outputs": [
    {
     "data": {
      "text/plain": [
       "('MediumArticlesDbertTokenizer\\\\tokenizer_config.json',\n",
       " 'MediumArticlesDbertTokenizer\\\\special_tokens_map.json',\n",
       " 'MediumArticlesDbertTokenizer\\\\vocab.txt',\n",
       " 'MediumArticlesDbertTokenizer\\\\added_tokens.json',\n",
       " 'MediumArticlesDbertTokenizer\\\\tokenizer.json')"
      ]
     },
     "execution_count": 8,
     "metadata": {},
     "output_type": "execute_result"
    }
   ],
   "source": [
    "tokenizer.save_pretrained('MediumArticlesDbertTokenizer')"
   ]
  },
  {
   "cell_type": "markdown",
   "metadata": {},
   "source": [
    "### Load the finetuned model"
   ]
  },
  {
   "cell_type": "code",
   "execution_count": 9,
   "metadata": {
    "scrolled": true
   },
   "outputs": [],
   "source": [
    "model_checkpoint = \"MediumArticlesDbertFineTuned\"\n",
    "tokenizer_chkpt = 'MediumArticlesDbertTokenizer'\n",
    "config = DistilBertConfig(output_hidden_states = True)\n",
    "model = AutoModelForMaskedLM.from_pretrained(model_checkpoint, config = config)\n",
    "tokenizer = AutoTokenizer.from_pretrained(tokenizer_chkpt)"
   ]
  },
  {
   "cell_type": "code",
   "execution_count": 38,
   "metadata": {
    "scrolled": true
   },
   "outputs": [
    {
     "name": "stdout",
     "output_type": "stream",
     "text": [
      "{'input_ids': tensor([[  101,  1045,  2031,  2048,  8870,  2029,  2024,  5186, 20355,   999,\n",
      "           102]]), 'attention_mask': tensor([[1, 1, 1, 1, 1, 1, 1, 1, 1, 1, 1]])}\n"
     ]
    }
   ],
   "source": [
    "# txt = 'hello world'\n",
    "txt = 'I have two cats which are extremely naughty!'\n",
    "ip = tokenizer(txt, return_tensors= 'pt')\n",
    "print(ip)\n",
    "op = model(ip['input_ids'], ip['attention_mask'])"
   ]
  },
  {
   "cell_type": "code",
   "execution_count": 19,
   "metadata": {},
   "outputs": [
    {
     "data": {
      "text/plain": [
       "[(101, '[CLS]'),\n",
       " (1045, 'i'),\n",
       " (2031, 'have'),\n",
       " (2048, 'two'),\n",
       " (8870, 'cats'),\n",
       " (2029, 'which'),\n",
       " (2024, 'are'),\n",
       " (5186, 'extremely'),\n",
       " (20355, 'naughty!'),\n",
       " (999, '[SEP]')]"
      ]
     },
     "execution_count": 19,
     "metadata": {},
     "output_type": "execute_result"
    }
   ],
   "source": [
    "txt = 'I have two cats which are extremely naughty!'\n",
    "# txt = 'hello world'\n",
    "enc = tokenizer.encode(txt)\n",
    "dec = tokenizer.decode(enc)\n",
    "\n",
    "[(enc_, dec_) for (enc_,dec_) in zip(enc,dec.split())]"
   ]
  },
  {
   "cell_type": "code",
   "execution_count": 71,
   "metadata": {
    "scrolled": true
   },
   "outputs": [],
   "source": [
    "txt_lst = ['hello world', \n",
    "           'I have two cats which are extremely naughty!']\n",
    "ip = tokenizer(txt_lst, max_length= 32, padding= 'max_length', return_tensors= 'pt')"
   ]
  },
  {
   "cell_type": "code",
   "execution_count": 72,
   "metadata": {
    "scrolled": true
   },
   "outputs": [
    {
     "data": {
      "text/plain": [
       "{'input_ids': tensor([[  101,  7592,  2088,   102,     0,     0,     0,     0,     0,     0,\n",
       "             0,     0,     0,     0,     0,     0,     0,     0,     0,     0,\n",
       "             0,     0,     0,     0,     0,     0,     0,     0,     0,     0,\n",
       "             0,     0],\n",
       "        [  101,  1045,  2031,  2048,  8870,  2029,  2024,  5186, 20355,   999,\n",
       "           102,     0,     0,     0,     0,     0,     0,     0,     0,     0,\n",
       "             0,     0,     0,     0,     0,     0,     0,     0,     0,     0,\n",
       "             0,     0]]), 'attention_mask': tensor([[1, 1, 1, 1, 0, 0, 0, 0, 0, 0, 0, 0, 0, 0, 0, 0, 0, 0, 0, 0, 0, 0, 0, 0,\n",
       "         0, 0, 0, 0, 0, 0, 0, 0],\n",
       "        [1, 1, 1, 1, 1, 1, 1, 1, 1, 1, 1, 0, 0, 0, 0, 0, 0, 0, 0, 0, 0, 0, 0, 0,\n",
       "         0, 0, 0, 0, 0, 0, 0, 0]])}"
      ]
     },
     "execution_count": 72,
     "metadata": {},
     "output_type": "execute_result"
    }
   ],
   "source": [
    "ip"
   ]
  },
  {
   "cell_type": "code",
   "execution_count": 73,
   "metadata": {},
   "outputs": [],
   "source": [
    "op = model(ip['input_ids'], ip['attention_mask'])"
   ]
  },
  {
   "cell_type": "code",
   "execution_count": 83,
   "metadata": {},
   "outputs": [
    {
     "name": "stdout",
     "output_type": "stream",
     "text": [
      "{'input_ids': tensor([[  101,  1045,  2031,  2048,  8870,  2029,  2024,  5186, 20355,   999,\n",
      "           102]]), 'attention_mask': tensor([[1, 1, 1, 1, 1, 1, 1, 1, 1, 1, 1]])}\n"
     ]
    }
   ],
   "source": [
    "# txt = 'hello world'\n",
    "txt = 'I have two cats which are extremely naughty!'\n",
    "ip = tokenizer(txt, return_tensors= 'pt')\n",
    "print(ip)\n",
    "op = model(ip['input_ids'], ip['attention_mask'])"
   ]
  },
  {
   "cell_type": "code",
   "execution_count": 84,
   "metadata": {
    "scrolled": true
   },
   "outputs": [
    {
     "data": {
      "text/plain": [
       "7"
      ]
     },
     "execution_count": 84,
     "metadata": {},
     "output_type": "execute_result"
    }
   ],
   "source": [
    "len(op.hidden_states)"
   ]
  },
  {
   "cell_type": "code",
   "execution_count": 85,
   "metadata": {},
   "outputs": [
    {
     "data": {
      "text/plain": [
       "torch.Size([1, 11, 768])"
      ]
     },
     "execution_count": 85,
     "metadata": {},
     "output_type": "execute_result"
    },
    {
     "data": {
      "text/plain": [
       "tensor([[[ 0.3515, -0.1593, -0.2332,  ...,  0.1622,  0.1203,  0.0880],\n",
       "         [ 0.2737,  0.3202, -0.5646,  ...,  0.4563,  0.9332,  0.3527],\n",
       "         [-0.2009,  0.3250,  0.4047,  ...,  0.6116, -1.2480, -0.5579],\n",
       "         ...,\n",
       "         [ 0.0644, -0.0431,  0.4693,  ..., -0.3132, -0.2309, -0.7068],\n",
       "         [ 1.1086, -0.1345, -0.8389,  ...,  0.3473,  0.2417,  0.4418],\n",
       "         [-0.3996, -0.0612, -0.2939,  ...,  0.0884,  0.5354,  0.0552]]],\n",
       "       grad_fn=<NativeLayerNormBackward0>)"
      ]
     },
     "execution_count": 85,
     "metadata": {},
     "output_type": "execute_result"
    }
   ],
   "source": [
    "op.hidden_states[0].shape\n",
    "op.hidden_states[0]"
   ]
  },
  {
   "cell_type": "markdown",
   "metadata": {},
   "source": [
    "### Getting Sentence Embeddings"
   ]
  },
  {
   "cell_type": "code",
   "execution_count": 86,
   "metadata": {},
   "outputs": [],
   "source": [
    "def SentenceEmbeddings(text: str = None, model = None , tokenizer=None, num_hidden_states: int = None):\n",
    "    '''\n",
    "    calculate the mean sentence embeddings of text from bert model.\n",
    "    Args:\n",
    "        param: text: string : the text that needs to be featurized\n",
    "        param: model: transformers.models: Bert model that takes Pytorch input\n",
    "        param: tokenizer: tokenizer that takes text as input and outputs input_ids and attention_mask torch tensors\n",
    "        param: num_hidden_states: int: number of hidden states to consider while for horizontal stack\n",
    "    \n",
    "    return type: Torch Tensor\n",
    "    \n",
    "    '''\n",
    "    \n",
    "    if num_hidden_states is None:\n",
    "        print(\"num_hidden_states is none!!! hence using last layer\")\n",
    "        num_hidden_states = 1\n",
    "        \n",
    "    if text is None or \"\":\n",
    "        raise ValueError(\"text cannot be None or empty string\")\n",
    "    \n",
    "    if model is None or tokenizer is None:\n",
    "        raise ValueError(\"Please Specify model and tokenizer properly\")\n",
    "    \n",
    "    if num_hidden_states > model.config.n_layers:\n",
    "        print('Number of hidden layers in model are {0}, but specified layers to consider are {1}'.format(model.config.n_layers, num_hidden_states))\n",
    "        print('Using all the layers to get Sentence Embeddings')\n",
    "    \n",
    "    # tokenize the text\n",
    "    ip = tokenizer(text, return_tensors = 'pt', truncation = True)\n",
    "    # get the model output\n",
    "    op = model(**ip)\n",
    "    #get hidden stated\n",
    "    hs = op['hidden_states'][-1*num_hidden_states:]\n",
    "    # stack the vectors horizontally\n",
    "    stack_vec= torch.hstack([vec[0] for vec in hs])\n",
    "    #get the mean embeddings\n",
    "    mean_vec = torch.mean(stack_vec, dim = 0)\n",
    "    \n",
    "    return mean_vec"
   ]
  },
  {
   "cell_type": "code",
   "execution_count": 88,
   "metadata": {},
   "outputs": [],
   "source": [
    "emb = SentenceEmbeddings('RVCE is one of the top college in karnataka', model, tokenizer, 2)"
   ]
  },
  {
   "cell_type": "code",
   "execution_count": 93,
   "metadata": {},
   "outputs": [
    {
     "data": {
      "text/plain": [
       "torch.Size([1, 1536])"
      ]
     },
     "execution_count": 93,
     "metadata": {},
     "output_type": "execute_result"
    }
   ],
   "source": [
    "emb.reshape((1,-1)).shape"
   ]
  },
  {
   "cell_type": "markdown",
   "metadata": {},
   "source": [
    "### Pipeline usage"
   ]
  },
  {
   "cell_type": "code",
   "execution_count": 95,
   "metadata": {},
   "outputs": [],
   "source": [
    "from transformers import pipeline"
   ]
  },
  {
   "cell_type": "code",
   "execution_count": 96,
   "metadata": {},
   "outputs": [],
   "source": [
    "pipe = pipeline(task= 'fill-mask', model=model, tokenizer=tokenizer)\n",
    "# fill mask is used for auto correct / auto suggestions etc"
   ]
  },
  {
   "cell_type": "code",
   "execution_count": 98,
   "metadata": {
    "scrolled": true
   },
   "outputs": [
    {
     "data": {
      "text/plain": [
       "[{'score': 0.7424009442329407,\n",
       "  'token': 2653,\n",
       "  'token_str': 'language',\n",
       "  'sequence': 'the fullform of nlp is natural language processing'},\n",
       " {'score': 0.0478600338101387,\n",
       "  'token': 3224,\n",
       "  'token_str': 'forest',\n",
       "  'sequence': 'the fullform of nlp is natural forest processing'},\n",
       " {'score': 0.02924789860844612,\n",
       "  'token': 4742,\n",
       "  'token_str': 'signal',\n",
       "  'sequence': 'the fullform of nlp is natural signal processing'},\n",
       " {'score': 0.021199537441134453,\n",
       "  'token': 3746,\n",
       "  'token_str': 'image',\n",
       "  'sequence': 'the fullform of nlp is natural image processing'},\n",
       " {'score': 0.008734915405511856,\n",
       "  'token': 1011,\n",
       "  'token_str': '-',\n",
       "  'sequence': 'the fullform of nlp is natural - processing'}]"
      ]
     },
     "execution_count": 98,
     "metadata": {},
     "output_type": "execute_result"
    }
   ],
   "source": [
    "pipe('the fullform of NLP is natural [MASK] processing')"
   ]
  },
  {
   "cell_type": "code",
   "execution_count": 102,
   "metadata": {},
   "outputs": [
    {
     "data": {
      "text/plain": [
       "[{'score': 0.3084496259689331,\n",
       "  'token': 6364,\n",
       "  'token_str': 'processing',\n",
       "  'sequence': 'the fullform of nlp is natural language processing'},\n",
       " {'score': 0.2286016196012497,\n",
       "  'token': 1012,\n",
       "  'token_str': '.',\n",
       "  'sequence': 'the fullform of nlp is natural language.'},\n",
       " {'score': 0.03698771819472313,\n",
       "  'token': 4083,\n",
       "  'token_str': 'learning',\n",
       "  'sequence': 'the fullform of nlp is natural language learning'},\n",
       " {'score': 0.03688197582960129,\n",
       "  'token': 2069,\n",
       "  'token_str': 'only',\n",
       "  'sequence': 'the fullform of nlp is natural language only'},\n",
       " {'score': 0.021707097068428993,\n",
       "  'token': 2671,\n",
       "  'token_str': 'science',\n",
       "  'sequence': 'the fullform of nlp is natural language science'}]"
      ]
     },
     "execution_count": 102,
     "metadata": {},
     "output_type": "execute_result"
    }
   ],
   "source": [
    "pipe('the fullform of NLP is natural language [MASK]')"
   ]
  }
 ],
 "metadata": {
  "kernelspec": {
   "display_name": "Python 3",
   "language": "python",
   "name": "python3"
  },
  "language_info": {
   "codemirror_mode": {
    "name": "ipython",
    "version": 3
   },
   "file_extension": ".py",
   "mimetype": "text/x-python",
   "name": "python",
   "nbconvert_exporter": "python",
   "pygments_lexer": "ipython3",
   "version": "3.8.3"
  }
 },
 "nbformat": 4,
 "nbformat_minor": 4
}
